{
 "cells": [
  {
   "cell_type": "markdown",
   "metadata": {},
   "source": [
    "# Imports"
   ]
  },
  {
   "cell_type": "code",
   "execution_count": 1,
   "metadata": {},
   "outputs": [],
   "source": [
    "import pandas as pd\n",
    "import numpy as np"
   ]
  },
  {
   "cell_type": "markdown",
   "metadata": {},
   "source": [
    "# Load the data"
   ]
  },
  {
   "cell_type": "code",
   "execution_count": 2,
   "metadata": {},
   "outputs": [],
   "source": [
    "pubs = pd.read_csv('open_pubs.csv')\n",
    "districts_en = pd.read_csv('districts_en.csv')\n",
    "old_districts_en = pd.read_csv('old_districts_en.csv')\n",
    "districts_wales = pd.read_csv('districts_wales.csv')\n",
    "districts_scott = pd.read_csv('districts_scott.csv')"
   ]
  },
  {
   "cell_type": "code",
   "execution_count": 3,
   "metadata": {},
   "outputs": [
    {
     "data": {
      "text/html": [
       "<div>\n",
       "<style scoped>\n",
       "    .dataframe tbody tr th:only-of-type {\n",
       "        vertical-align: middle;\n",
       "    }\n",
       "\n",
       "    .dataframe tbody tr th {\n",
       "        vertical-align: top;\n",
       "    }\n",
       "\n",
       "    .dataframe thead th {\n",
       "        text-align: right;\n",
       "    }\n",
       "</style>\n",
       "<table border=\"1\" class=\"dataframe\">\n",
       "  <thead>\n",
       "    <tr style=\"text-align: right;\">\n",
       "      <th></th>\n",
       "      <th>fas_id</th>\n",
       "      <th>name</th>\n",
       "      <th>address</th>\n",
       "      <th>postcode</th>\n",
       "      <th>easting</th>\n",
       "      <th>northing</th>\n",
       "      <th>latitude</th>\n",
       "      <th>longitude</th>\n",
       "      <th>local_authority</th>\n",
       "    </tr>\n",
       "  </thead>\n",
       "  <tbody>\n",
       "    <tr>\n",
       "      <th>0</th>\n",
       "      <td>24</td>\n",
       "      <td>Anchor Inn</td>\n",
       "      <td>Upper Street, Stratford St Mary, COLCHESTER, E...</td>\n",
       "      <td>CO7 6LW</td>\n",
       "      <td>604748</td>\n",
       "      <td>234405</td>\n",
       "      <td>51.97039</td>\n",
       "      <td>0.979328</td>\n",
       "      <td>Babergh</td>\n",
       "    </tr>\n",
       "    <tr>\n",
       "      <th>1</th>\n",
       "      <td>30</td>\n",
       "      <td>Angel Inn</td>\n",
       "      <td>Egremont Street, Glemsford, SUDBURY, Suffolk</td>\n",
       "      <td>CO10 7SA</td>\n",
       "      <td>582888</td>\n",
       "      <td>247368</td>\n",
       "      <td>52.094427</td>\n",
       "      <td>0.668408</td>\n",
       "      <td>Babergh</td>\n",
       "    </tr>\n",
       "    <tr>\n",
       "      <th>2</th>\n",
       "      <td>63</td>\n",
       "      <td>Black Boy Hotel</td>\n",
       "      <td>7 Market Hill, SUDBURY, Suffolk</td>\n",
       "      <td>CO10 2EA</td>\n",
       "      <td>587356</td>\n",
       "      <td>241327</td>\n",
       "      <td>52.038683</td>\n",
       "      <td>0.730226</td>\n",
       "      <td>Babergh</td>\n",
       "    </tr>\n",
       "    <tr>\n",
       "      <th>3</th>\n",
       "      <td>64</td>\n",
       "      <td>Black Horse</td>\n",
       "      <td>Lower Street, Stratford St Mary, COLCHESTER, E...</td>\n",
       "      <td>CO7 6JS</td>\n",
       "      <td>604270</td>\n",
       "      <td>233920</td>\n",
       "      <td>51.966211</td>\n",
       "      <td>0.972091</td>\n",
       "      <td>Babergh</td>\n",
       "    </tr>\n",
       "    <tr>\n",
       "      <th>4</th>\n",
       "      <td>65</td>\n",
       "      <td>Black Lion</td>\n",
       "      <td>Lion Road, Glemsford, SUDBURY, Suffolk</td>\n",
       "      <td>CO10 7RF</td>\n",
       "      <td>582750</td>\n",
       "      <td>248298</td>\n",
       "      <td>52.102815</td>\n",
       "      <td>0.666893</td>\n",
       "      <td>Babergh</td>\n",
       "    </tr>\n",
       "  </tbody>\n",
       "</table>\n",
       "</div>"
      ],
      "text/plain": [
       "   fas_id             name                                            address  \\\n",
       "0      24       Anchor Inn  Upper Street, Stratford St Mary, COLCHESTER, E...   \n",
       "1      30        Angel Inn       Egremont Street, Glemsford, SUDBURY, Suffolk   \n",
       "2      63  Black Boy Hotel                    7 Market Hill, SUDBURY, Suffolk   \n",
       "3      64      Black Horse  Lower Street, Stratford St Mary, COLCHESTER, E...   \n",
       "4      65       Black Lion             Lion Road, Glemsford, SUDBURY, Suffolk   \n",
       "\n",
       "   postcode  easting  northing   latitude longitude local_authority  \n",
       "0   CO7 6LW   604748    234405   51.97039  0.979328         Babergh  \n",
       "1  CO10 7SA   582888    247368  52.094427  0.668408         Babergh  \n",
       "2  CO10 2EA   587356    241327  52.038683  0.730226         Babergh  \n",
       "3   CO7 6JS   604270    233920  51.966211  0.972091         Babergh  \n",
       "4  CO10 7RF   582750    248298  52.102815  0.666893         Babergh  "
      ]
     },
     "execution_count": 3,
     "metadata": {},
     "output_type": "execute_result"
    }
   ],
   "source": [
    "pubs.head()"
   ]
  },
  {
   "cell_type": "code",
   "execution_count": 4,
   "metadata": {},
   "outputs": [],
   "source": [
    "districts = pd.concat([districts_en, districts_wales, districts_scott], ignore_index = True)"
   ]
  },
  {
   "cell_type": "code",
   "execution_count": 5,
   "metadata": {},
   "outputs": [
    {
     "data": {
      "text/html": [
       "<div>\n",
       "<style scoped>\n",
       "    .dataframe tbody tr th:only-of-type {\n",
       "        vertical-align: middle;\n",
       "    }\n",
       "\n",
       "    .dataframe tbody tr th {\n",
       "        vertical-align: top;\n",
       "    }\n",
       "\n",
       "    .dataframe thead th {\n",
       "        text-align: right;\n",
       "    }\n",
       "</style>\n",
       "<table border=\"1\" class=\"dataframe\">\n",
       "  <thead>\n",
       "    <tr style=\"text-align: right;\">\n",
       "      <th></th>\n",
       "      <th>District</th>\n",
       "      <th>Population</th>\n",
       "    </tr>\n",
       "  </thead>\n",
       "  <tbody>\n",
       "    <tr>\n",
       "      <th>0</th>\n",
       "      <td>Adur</td>\n",
       "      <td>64301</td>\n",
       "    </tr>\n",
       "    <tr>\n",
       "      <th>1</th>\n",
       "      <td>Allerdale</td>\n",
       "      <td>97761</td>\n",
       "    </tr>\n",
       "    <tr>\n",
       "      <th>2</th>\n",
       "      <td>Amber Valley</td>\n",
       "      <td>128147</td>\n",
       "    </tr>\n",
       "    <tr>\n",
       "      <th>3</th>\n",
       "      <td>Arun</td>\n",
       "      <td>160758</td>\n",
       "    </tr>\n",
       "    <tr>\n",
       "      <th>4</th>\n",
       "      <td>Ashfield</td>\n",
       "      <td>127918</td>\n",
       "    </tr>\n",
       "  </tbody>\n",
       "</table>\n",
       "</div>"
      ],
      "text/plain": [
       "       District  Population\n",
       "0          Adur       64301\n",
       "1     Allerdale       97761\n",
       "2  Amber Valley      128147\n",
       "3          Arun      160758\n",
       "4      Ashfield      127918"
      ]
     },
     "execution_count": 5,
     "metadata": {},
     "output_type": "execute_result"
    }
   ],
   "source": [
    "districts.head()"
   ]
  },
  {
   "cell_type": "markdown",
   "metadata": {},
   "source": [
    "# Small cleaning of pubs\n",
    "\n",
    "It appears that there is a problem with two of the entries. More precisely with the way their names are written in the CSV file. We need to clean those two entries.\n",
    "\n",
    "Here is the original cleaning that was done. Afterwards, the data was cleaned by hand as there were some issue that pandas could not detect."
   ]
  },
  {
   "cell_type": "code",
   "execution_count": 6,
   "metadata": {},
   "outputs": [
    {
     "data": {
      "text/plain": [
       "fas_id             0\n",
       "name               0\n",
       "address            0\n",
       "postcode           0\n",
       "easting            0\n",
       "northing           0\n",
       "latitude           0\n",
       "longitude          0\n",
       "local_authority    2\n",
       "dtype: int64"
      ]
     },
     "execution_count": 6,
     "metadata": {},
     "output_type": "execute_result"
    }
   ],
   "source": [
    "pubs.isna().sum()"
   ]
  },
  {
   "cell_type": "code",
   "execution_count": 7,
   "metadata": {},
   "outputs": [
    {
     "data": {
      "text/html": [
       "<div>\n",
       "<style scoped>\n",
       "    .dataframe tbody tr th:only-of-type {\n",
       "        vertical-align: middle;\n",
       "    }\n",
       "\n",
       "    .dataframe tbody tr th {\n",
       "        vertical-align: top;\n",
       "    }\n",
       "\n",
       "    .dataframe thead th {\n",
       "        text-align: right;\n",
       "    }\n",
       "</style>\n",
       "<table border=\"1\" class=\"dataframe\">\n",
       "  <thead>\n",
       "    <tr style=\"text-align: right;\">\n",
       "      <th></th>\n",
       "      <th>fas_id</th>\n",
       "      <th>name</th>\n",
       "      <th>address</th>\n",
       "      <th>postcode</th>\n",
       "      <th>easting</th>\n",
       "      <th>northing</th>\n",
       "      <th>latitude</th>\n",
       "      <th>longitude</th>\n",
       "      <th>local_authority</th>\n",
       "    </tr>\n",
       "  </thead>\n",
       "  <tbody>\n",
       "    <tr>\n",
       "      <th>768</th>\n",
       "      <td>7499</td>\n",
       "      <td>J D Wetherspoon \\\"The Star\\\",\"105 High Street,...</td>\n",
       "      <td>EN11 8TN</td>\n",
       "      <td>537293</td>\n",
       "      <td>208856</td>\n",
       "      <td>51.761556</td>\n",
       "      <td>-0.012036</td>\n",
       "      <td>Broxbourne</td>\n",
       "      <td>NaN</td>\n",
       "    </tr>\n",
       "    <tr>\n",
       "      <th>43212</th>\n",
       "      <td>412676</td>\n",
       "      <td>\\\"Rory's Bar\\\",\"57 Market Place, Malton, North...</td>\n",
       "      <td>YO17 7LX</td>\n",
       "      <td>478582</td>\n",
       "      <td>471715</td>\n",
       "      <td>54.135281</td>\n",
       "      <td>-0.798783</td>\n",
       "      <td>Ryedale</td>\n",
       "      <td>NaN</td>\n",
       "    </tr>\n",
       "  </tbody>\n",
       "</table>\n",
       "</div>"
      ],
      "text/plain": [
       "       fas_id                                               name   address  \\\n",
       "768      7499  J D Wetherspoon \\\"The Star\\\",\"105 High Street,...  EN11 8TN   \n",
       "43212  412676  \\\"Rory's Bar\\\",\"57 Market Place, Malton, North...  YO17 7LX   \n",
       "\n",
       "      postcode  easting   northing   latitude   longitude local_authority  \n",
       "768     537293   208856  51.761556  -0.012036  Broxbourne             NaN  \n",
       "43212   478582   471715  54.135281  -0.798783     Ryedale             NaN  "
      ]
     },
     "execution_count": 7,
     "metadata": {},
     "output_type": "execute_result"
    }
   ],
   "source": [
    "pubs[pubs['local_authority'].isna()]"
   ]
  },
  {
   "cell_type": "code",
   "execution_count": 8,
   "metadata": {},
   "outputs": [],
   "source": [
    "pubs.loc[[768, 43212], ['local_authority', 'longitude', 'latitude', 'northing', 'easting', 'postcode']] = pubs.loc[[768, 43212], ['longitude', 'latitude', 'northing', 'easting', 'postcode', 'address']].values"
   ]
  },
  {
   "cell_type": "code",
   "execution_count": 9,
   "metadata": {},
   "outputs": [],
   "source": [
    "pubs.loc[[768, 43212], ['name', 'address']] = np.array([x.split(',', 1) for x in pubs.loc[[768, 43212]].name.values])"
   ]
  },
  {
   "cell_type": "code",
   "execution_count": 10,
   "metadata": {},
   "outputs": [],
   "source": [
    "pubs.loc[[768, 43212], 'address'] = pubs.loc[[768, 43212], 'address'].str[1:]"
   ]
  },
  {
   "cell_type": "code",
   "execution_count": 11,
   "metadata": {},
   "outputs": [
    {
     "data": {
      "text/html": [
       "<div>\n",
       "<style scoped>\n",
       "    .dataframe tbody tr th:only-of-type {\n",
       "        vertical-align: middle;\n",
       "    }\n",
       "\n",
       "    .dataframe tbody tr th {\n",
       "        vertical-align: top;\n",
       "    }\n",
       "\n",
       "    .dataframe thead th {\n",
       "        text-align: right;\n",
       "    }\n",
       "</style>\n",
       "<table border=\"1\" class=\"dataframe\">\n",
       "  <thead>\n",
       "    <tr style=\"text-align: right;\">\n",
       "      <th></th>\n",
       "      <th>fas_id</th>\n",
       "      <th>name</th>\n",
       "      <th>address</th>\n",
       "      <th>postcode</th>\n",
       "      <th>easting</th>\n",
       "      <th>northing</th>\n",
       "      <th>latitude</th>\n",
       "      <th>longitude</th>\n",
       "      <th>local_authority</th>\n",
       "    </tr>\n",
       "  </thead>\n",
       "  <tbody>\n",
       "    <tr>\n",
       "      <th>768</th>\n",
       "      <td>7499</td>\n",
       "      <td>J D Wetherspoon \\\"The Star\\\"</td>\n",
       "      <td>105 High Street, Hoddesdon, Hertfordshire</td>\n",
       "      <td>EN11 8TN</td>\n",
       "      <td>537293</td>\n",
       "      <td>208856.0</td>\n",
       "      <td>51.761556</td>\n",
       "      <td>-0.012036</td>\n",
       "      <td>Broxbourne</td>\n",
       "    </tr>\n",
       "    <tr>\n",
       "      <th>43212</th>\n",
       "      <td>412676</td>\n",
       "      <td>\\\"Rory's Bar\\\"</td>\n",
       "      <td>57 Market Place, Malton, North Yorkshire</td>\n",
       "      <td>YO17 7LX</td>\n",
       "      <td>478582</td>\n",
       "      <td>471715.0</td>\n",
       "      <td>54.135281</td>\n",
       "      <td>-0.798783</td>\n",
       "      <td>Ryedale</td>\n",
       "    </tr>\n",
       "  </tbody>\n",
       "</table>\n",
       "</div>"
      ],
      "text/plain": [
       "       fas_id                          name  \\\n",
       "768      7499  J D Wetherspoon \\\"The Star\\\"   \n",
       "43212  412676                \\\"Rory's Bar\\\"   \n",
       "\n",
       "                                         address  postcode easting  northing  \\\n",
       "768    105 High Street, Hoddesdon, Hertfordshire  EN11 8TN  537293  208856.0   \n",
       "43212   57 Market Place, Malton, North Yorkshire  YO17 7LX  478582  471715.0   \n",
       "\n",
       "        latitude  longitude local_authority  \n",
       "768    51.761556  -0.012036      Broxbourne  \n",
       "43212  54.135281  -0.798783         Ryedale  "
      ]
     },
     "execution_count": 11,
     "metadata": {},
     "output_type": "execute_result"
    }
   ],
   "source": [
    "pubs.loc[[768, 43212]]"
   ]
  },
  {
   "cell_type": "markdown",
   "metadata": {},
   "source": [
    "# Quick look at the intersection between our datasets"
   ]
  },
  {
   "cell_type": "code",
   "execution_count": 6,
   "metadata": {},
   "outputs": [
    {
     "name": "stdout",
     "output_type": "stream",
     "text": [
      "376\n"
     ]
    }
   ],
   "source": [
    "print(len(pubs.local_authority.unique()))"
   ]
  },
  {
   "cell_type": "code",
   "execution_count": 7,
   "metadata": {},
   "outputs": [
    {
     "name": "stdout",
     "output_type": "stream",
     "text": [
      "363\n"
     ]
    }
   ],
   "source": [
    "print(len(districts))"
   ]
  },
  {
   "cell_type": "code",
   "execution_count": 8,
   "metadata": {},
   "outputs": [
    {
     "name": "stdout",
     "output_type": "stream",
     "text": [
      "341\n"
     ]
    }
   ],
   "source": [
    "print(len(np.intersect1d(districts.District.unique(), pubs.local_authority.unique())))"
   ]
  },
  {
   "cell_type": "code",
   "execution_count": 9,
   "metadata": {},
   "outputs": [
    {
     "name": "stdout",
     "output_type": "stream",
     "text": [
      "21\n"
     ]
    }
   ],
   "source": [
    "print(len(np.intersect1d(old_districts_en.District.unique(), pubs.local_authority.unique())))"
   ]
  },
  {
   "cell_type": "code",
   "execution_count": 10,
   "metadata": {},
   "outputs": [],
   "source": [
    "pubs['local_authority'] = pubs['local_authority'].replace({x: y for (x, y) in old_districts_en.values})"
   ]
  },
  {
   "cell_type": "code",
   "execution_count": 11,
   "metadata": {},
   "outputs": [
    {
     "data": {
      "text/html": [
       "<div>\n",
       "<style scoped>\n",
       "    .dataframe tbody tr th:only-of-type {\n",
       "        vertical-align: middle;\n",
       "    }\n",
       "\n",
       "    .dataframe tbody tr th {\n",
       "        vertical-align: top;\n",
       "    }\n",
       "\n",
       "    .dataframe thead th {\n",
       "        text-align: right;\n",
       "    }\n",
       "</style>\n",
       "<table border=\"1\" class=\"dataframe\">\n",
       "  <thead>\n",
       "    <tr style=\"text-align: right;\">\n",
       "      <th></th>\n",
       "      <th>District</th>\n",
       "      <th>Population</th>\n",
       "    </tr>\n",
       "  </thead>\n",
       "  <tbody>\n",
       "    <tr>\n",
       "      <th>32</th>\n",
       "      <td>Bristol</td>\n",
       "      <td>463377</td>\n",
       "    </tr>\n",
       "    <tr>\n",
       "      <th>38</th>\n",
       "      <td>Buckinghamshire</td>\n",
       "      <td>543973</td>\n",
       "    </tr>\n",
       "    <tr>\n",
       "      <th>96</th>\n",
       "      <td>Folkestone and Hythe</td>\n",
       "      <td>112996</td>\n",
       "    </tr>\n",
       "    <tr>\n",
       "      <th>121</th>\n",
       "      <td>Herefordshire</td>\n",
       "      <td>192801</td>\n",
       "    </tr>\n",
       "    <tr>\n",
       "      <th>128</th>\n",
       "      <td>Kingston upon Hull</td>\n",
       "      <td>259778</td>\n",
       "    </tr>\n",
       "    <tr>\n",
       "      <th>153</th>\n",
       "      <td>Malvern Hills</td>\n",
       "      <td>78698</td>\n",
       "    </tr>\n",
       "    <tr>\n",
       "      <th>215</th>\n",
       "      <td>St Helens</td>\n",
       "      <td>180585</td>\n",
       "    </tr>\n",
       "    <tr>\n",
       "      <th>317</th>\n",
       "      <td>Neath Port Talbot †</td>\n",
       "      <td>144386</td>\n",
       "    </tr>\n",
       "    <tr>\n",
       "      <th>322</th>\n",
       "      <td>Gwynedd *</td>\n",
       "      <td>125171</td>\n",
       "    </tr>\n",
       "    <tr>\n",
       "      <th>323</th>\n",
       "      <td>Conwy ‡</td>\n",
       "      <td>118184</td>\n",
       "    </tr>\n",
       "    <tr>\n",
       "      <th>327</th>\n",
       "      <td>Ceredigion §</td>\n",
       "      <td>72895</td>\n",
       "    </tr>\n",
       "    <tr>\n",
       "      <th>329</th>\n",
       "      <td>Blaenau Gwent</td>\n",
       "      <td>70020</td>\n",
       "    </tr>\n",
       "    <tr>\n",
       "      <th>354</th>\n",
       "      <td>Stirling</td>\n",
       "      <td>94330</td>\n",
       "    </tr>\n",
       "    <tr>\n",
       "      <th>360</th>\n",
       "      <td>Na h-Eileanan Siar (Western Isles)</td>\n",
       "      <td>26830</td>\n",
       "    </tr>\n",
       "    <tr>\n",
       "      <th>361</th>\n",
       "      <td>Shetland</td>\n",
       "      <td>22990</td>\n",
       "    </tr>\n",
       "    <tr>\n",
       "      <th>362</th>\n",
       "      <td>Orkney</td>\n",
       "      <td>22190</td>\n",
       "    </tr>\n",
       "  </tbody>\n",
       "</table>\n",
       "</div>"
      ],
      "text/plain": [
       "                               District  Population\n",
       "32                              Bristol      463377\n",
       "38                      Buckinghamshire      543973\n",
       "96                 Folkestone and Hythe      112996\n",
       "121                       Herefordshire      192801\n",
       "128                  Kingston upon Hull      259778\n",
       "153                       Malvern Hills       78698\n",
       "215                           St Helens      180585\n",
       "317                 Neath Port Talbot †      144386\n",
       "322                           Gwynedd *      125171\n",
       "323                             Conwy ‡      118184\n",
       "327                        Ceredigion §       72895\n",
       "329                       Blaenau Gwent       70020\n",
       "354                            Stirling       94330\n",
       "360  Na h-Eileanan Siar (Western Isles)       26830\n",
       "361                            Shetland       22990\n",
       "362                              Orkney       22190"
      ]
     },
     "execution_count": 11,
     "metadata": {},
     "output_type": "execute_result"
    }
   ],
   "source": [
    "districts[~districts['District'].isin(pubs.local_authority.unique())]"
   ]
  },
  {
   "cell_type": "code",
   "execution_count": 12,
   "metadata": {},
   "outputs": [],
   "source": [
    "districts.loc[[317, 322, 323, 327], 'District'] = districts.loc[[317, 322, 323, 327], 'District'].apply(lambda x: x[:-2])"
   ]
  },
  {
   "cell_type": "code",
   "execution_count": 13,
   "metadata": {},
   "outputs": [
    {
     "data": {
      "text/html": [
       "<div>\n",
       "<style scoped>\n",
       "    .dataframe tbody tr th:only-of-type {\n",
       "        vertical-align: middle;\n",
       "    }\n",
       "\n",
       "    .dataframe tbody tr th {\n",
       "        vertical-align: top;\n",
       "    }\n",
       "\n",
       "    .dataframe thead th {\n",
       "        text-align: right;\n",
       "    }\n",
       "</style>\n",
       "<table border=\"1\" class=\"dataframe\">\n",
       "  <thead>\n",
       "    <tr style=\"text-align: right;\">\n",
       "      <th></th>\n",
       "      <th>District</th>\n",
       "      <th>Population</th>\n",
       "    </tr>\n",
       "  </thead>\n",
       "  <tbody>\n",
       "    <tr>\n",
       "      <th>32</th>\n",
       "      <td>Bristol</td>\n",
       "      <td>463377</td>\n",
       "    </tr>\n",
       "    <tr>\n",
       "      <th>38</th>\n",
       "      <td>Buckinghamshire</td>\n",
       "      <td>543973</td>\n",
       "    </tr>\n",
       "    <tr>\n",
       "      <th>96</th>\n",
       "      <td>Folkestone and Hythe</td>\n",
       "      <td>112996</td>\n",
       "    </tr>\n",
       "    <tr>\n",
       "      <th>121</th>\n",
       "      <td>Herefordshire</td>\n",
       "      <td>192801</td>\n",
       "    </tr>\n",
       "    <tr>\n",
       "      <th>128</th>\n",
       "      <td>Kingston upon Hull</td>\n",
       "      <td>259778</td>\n",
       "    </tr>\n",
       "    <tr>\n",
       "      <th>153</th>\n",
       "      <td>Malvern Hills</td>\n",
       "      <td>78698</td>\n",
       "    </tr>\n",
       "    <tr>\n",
       "      <th>215</th>\n",
       "      <td>St Helens</td>\n",
       "      <td>180585</td>\n",
       "    </tr>\n",
       "    <tr>\n",
       "      <th>329</th>\n",
       "      <td>Blaenau Gwent</td>\n",
       "      <td>70020</td>\n",
       "    </tr>\n",
       "    <tr>\n",
       "      <th>354</th>\n",
       "      <td>Stirling</td>\n",
       "      <td>94330</td>\n",
       "    </tr>\n",
       "    <tr>\n",
       "      <th>360</th>\n",
       "      <td>Na h-Eileanan Siar (Western Isles)</td>\n",
       "      <td>26830</td>\n",
       "    </tr>\n",
       "    <tr>\n",
       "      <th>361</th>\n",
       "      <td>Shetland</td>\n",
       "      <td>22990</td>\n",
       "    </tr>\n",
       "    <tr>\n",
       "      <th>362</th>\n",
       "      <td>Orkney</td>\n",
       "      <td>22190</td>\n",
       "    </tr>\n",
       "  </tbody>\n",
       "</table>\n",
       "</div>"
      ],
      "text/plain": [
       "                               District  Population\n",
       "32                              Bristol      463377\n",
       "38                      Buckinghamshire      543973\n",
       "96                 Folkestone and Hythe      112996\n",
       "121                       Herefordshire      192801\n",
       "128                  Kingston upon Hull      259778\n",
       "153                       Malvern Hills       78698\n",
       "215                           St Helens      180585\n",
       "329                       Blaenau Gwent       70020\n",
       "354                            Stirling       94330\n",
       "360  Na h-Eileanan Siar (Western Isles)       26830\n",
       "361                            Shetland       22990\n",
       "362                              Orkney       22190"
      ]
     },
     "execution_count": 13,
     "metadata": {},
     "output_type": "execute_result"
    }
   ],
   "source": [
    "districts[~districts['District'].isin(pubs.local_authority.unique())]"
   ]
  },
  {
   "cell_type": "code",
   "execution_count": 14,
   "metadata": {},
   "outputs": [
    {
     "name": "stdout",
     "output_type": "stream",
     "text": [
      "Bristol\n",
      "['Bristol, City of']\n",
      "Buckinghamshire\n",
      "[]\n",
      "Folkestone and Hythe\n",
      "[]\n",
      "Herefordshire\n",
      "['Herefordshire, County of' 'Herefordshire and Malvern Hills']\n",
      "Kingston upon Hull\n",
      "['Kingston upon Hull, City of']\n",
      "Malvern Hills\n",
      "['Herefordshire and Malvern Hills']\n",
      "St Helens\n",
      "[]\n",
      "Blaenau Gwent\n",
      "[]\n",
      "Stirling\n",
      "[]\n",
      "Na h-Eileanan Siar (Western Isles)\n",
      "[]\n",
      "Shetland\n",
      "[]\n",
      "Orkney\n",
      "['Orkney Islands']\n"
     ]
    },
    {
     "name": "stderr",
     "output_type": "stream",
     "text": [
      "C:\\Users\\Quent\\AppData\\Local\\Temp/ipykernel_13232/3556083741.py:3: UserWarning: This pattern is interpreted as a regular expression, and has match groups. To actually get the groups, use str.extract.\n",
      "  print(pubs[pubs['local_authority'].str.contains(x)].local_authority.unique())\n"
     ]
    }
   ],
   "source": [
    "for x in districts[~districts['District'].isin(pubs.local_authority.unique())].District.values :\n",
    "    print(x)\n",
    "    print(pubs[pubs['local_authority'].str.contains(x)].local_authority.unique())"
   ]
  },
  {
   "cell_type": "code",
   "execution_count": 15,
   "metadata": {},
   "outputs": [
    {
     "data": {
      "text/html": [
       "<div>\n",
       "<style scoped>\n",
       "    .dataframe tbody tr th:only-of-type {\n",
       "        vertical-align: middle;\n",
       "    }\n",
       "\n",
       "    .dataframe tbody tr th {\n",
       "        vertical-align: top;\n",
       "    }\n",
       "\n",
       "    .dataframe thead th {\n",
       "        text-align: right;\n",
       "    }\n",
       "</style>\n",
       "<table border=\"1\" class=\"dataframe\">\n",
       "  <thead>\n",
       "    <tr style=\"text-align: right;\">\n",
       "      <th></th>\n",
       "      <th>fas_id</th>\n",
       "      <th>name</th>\n",
       "      <th>address</th>\n",
       "      <th>postcode</th>\n",
       "      <th>easting</th>\n",
       "      <th>northing</th>\n",
       "      <th>latitude</th>\n",
       "      <th>longitude</th>\n",
       "      <th>local_authority</th>\n",
       "    </tr>\n",
       "  </thead>\n",
       "  <tbody>\n",
       "    <tr>\n",
       "      <th>20752</th>\n",
       "      <td>210755</td>\n",
       "      <td>Ashton-In-Makerfield Golf Club Ltd</td>\n",
       "      <td>Ashton In Makerfield Golf Club, Liverpool Road...</td>\n",
       "      <td>WN4 0YT</td>\n",
       "      <td>355858</td>\n",
       "      <td>398563</td>\n",
       "      <td>53.481915</td>\n",
       "      <td>-2.666636</td>\n",
       "      <td>St. Helens</td>\n",
       "    </tr>\n",
       "  </tbody>\n",
       "</table>\n",
       "</div>"
      ],
      "text/plain": [
       "       fas_id                                name  \\\n",
       "20752  210755  Ashton-In-Makerfield Golf Club Ltd   \n",
       "\n",
       "                                                 address postcode  easting  \\\n",
       "20752  Ashton In Makerfield Golf Club, Liverpool Road...  WN4 0YT   355858   \n",
       "\n",
       "       northing   latitude  longitude local_authority  \n",
       "20752    398563  53.481915  -2.666636      St. Helens  "
      ]
     },
     "execution_count": 15,
     "metadata": {},
     "output_type": "execute_result"
    }
   ],
   "source": [
    "pubs[pubs['local_authority'] == 'St. Helens'].head(1)"
   ]
  },
  {
   "cell_type": "code",
   "execution_count": 16,
   "metadata": {},
   "outputs": [
    {
     "data": {
      "text/html": [
       "<div>\n",
       "<style scoped>\n",
       "    .dataframe tbody tr th:only-of-type {\n",
       "        vertical-align: middle;\n",
       "    }\n",
       "\n",
       "    .dataframe tbody tr th {\n",
       "        vertical-align: top;\n",
       "    }\n",
       "\n",
       "    .dataframe thead th {\n",
       "        text-align: right;\n",
       "    }\n",
       "</style>\n",
       "<table border=\"1\" class=\"dataframe\">\n",
       "  <thead>\n",
       "    <tr style=\"text-align: right;\">\n",
       "      <th></th>\n",
       "      <th>fas_id</th>\n",
       "      <th>name</th>\n",
       "      <th>address</th>\n",
       "      <th>postcode</th>\n",
       "      <th>easting</th>\n",
       "      <th>northing</th>\n",
       "      <th>latitude</th>\n",
       "      <th>longitude</th>\n",
       "      <th>local_authority</th>\n",
       "    </tr>\n",
       "  </thead>\n",
       "  <tbody>\n",
       "    <tr>\n",
       "      <th>44763</th>\n",
       "      <td>445054</td>\n",
       "      <td>Am Politician</td>\n",
       "      <td>Am Politician, Balla, Eriskay, Isle Of South Uist</td>\n",
       "      <td>HS8 5JL</td>\n",
       "      <td>78522</td>\n",
       "      <td>811555</td>\n",
       "      <td>57.082317</td>\n",
       "      <td>-7.308312</td>\n",
       "      <td>Na h-Eileanan Siar</td>\n",
       "    </tr>\n",
       "  </tbody>\n",
       "</table>\n",
       "</div>"
      ],
      "text/plain": [
       "       fas_id           name  \\\n",
       "44763  445054  Am Politician   \n",
       "\n",
       "                                                 address postcode  easting  \\\n",
       "44763  Am Politician, Balla, Eriskay, Isle Of South Uist  HS8 5JL    78522   \n",
       "\n",
       "       northing   latitude  longitude     local_authority  \n",
       "44763    811555  57.082317  -7.308312  Na h-Eileanan Siar  "
      ]
     },
     "execution_count": 16,
     "metadata": {},
     "output_type": "execute_result"
    }
   ],
   "source": [
    "pubs[pubs['local_authority'] == 'Na h-Eileanan Siar'].head(1)"
   ]
  },
  {
   "cell_type": "code",
   "execution_count": 17,
   "metadata": {},
   "outputs": [
    {
     "name": "stdout",
     "output_type": "stream",
     "text": [
      "['South Bucks']\n",
      "['Chiltern']\n",
      "['Wycombe']\n",
      "['Aylesbury Vale']\n",
      "['Milton Keynes']\n"
     ]
    }
   ],
   "source": [
    "# More datascraping lead to the conclusion that Buckinghamshire is separated into these 5 subdistricts.\n",
    "for x in ['South Bucks', 'Chiltern', 'Wycombe', 'Aylesbury Vale', 'Milton Keynes'] :\n",
    "    print(pubs[pubs['local_authority'].str.contains(x)].local_authority.unique())"
   ]
  },
  {
   "cell_type": "code",
   "execution_count": 18,
   "metadata": {},
   "outputs": [
    {
     "name": "stderr",
     "output_type": "stream",
     "text": [
      "C:\\Users\\Quent\\AppData\\Local\\Temp/ipykernel_13232/1880534999.py:3: UserWarning: This pattern is interpreted as a regular expression, and has match groups. To actually get the groups, use str.extract.\n",
      "  if(len(pubs[pubs['local_authority'].str.contains(x)].local_authority.unique()) > 0) :\n"
     ]
    }
   ],
   "source": [
    "to_replace = {}\n",
    "for x in districts[~districts['District'].isin(pubs.local_authority.unique())].District.values :\n",
    "    if(len(pubs[pubs['local_authority'].str.contains(x)].local_authority.unique()) > 0) :\n",
    "        to_replace[pubs[pubs['local_authority'].str.contains(x)].local_authority.unique()[0]] = x\n",
    "to_replace['St. Helens'] = 'St Helens'\n",
    "to_replace['Na h-Eileanan Siar'] = 'Na h-Eileanan Siar (Western Isles)'\n",
    "to_replace['Shepway'] = 'Folkestone and Hythe'\n",
    "for x in ['South Bucks', 'Chiltern', 'Wycombe', 'Aylesbury Vale', 'Milton Keynes'] : \n",
    "    to_replace[x] = 'Buckinghamshire'"
   ]
  },
  {
   "cell_type": "code",
   "execution_count": 19,
   "metadata": {},
   "outputs": [],
   "source": [
    "pubs['local_authority'] = pubs['local_authority'].replace(to_replace)"
   ]
  },
  {
   "cell_type": "code",
   "execution_count": 20,
   "metadata": {},
   "outputs": [
    {
     "data": {
      "text/plain": [
       "array([], dtype=object)"
      ]
     },
     "execution_count": 20,
     "metadata": {},
     "output_type": "execute_result"
    }
   ],
   "source": [
    "pubs[~pubs['local_authority'].isin(districts.District.unique())].local_authority.unique()"
   ]
  },
  {
   "cell_type": "code",
   "execution_count": 27,
   "metadata": {},
   "outputs": [],
   "source": [
    "pubs = pd.merge(pubs, districts, left_on = 'local_authority', right_on = 'District')"
   ]
  },
  {
   "cell_type": "code",
   "execution_count": 28,
   "metadata": {},
   "outputs": [
    {
     "data": {
      "text/html": [
       "<div>\n",
       "<style scoped>\n",
       "    .dataframe tbody tr th:only-of-type {\n",
       "        vertical-align: middle;\n",
       "    }\n",
       "\n",
       "    .dataframe tbody tr th {\n",
       "        vertical-align: top;\n",
       "    }\n",
       "\n",
       "    .dataframe thead th {\n",
       "        text-align: right;\n",
       "    }\n",
       "</style>\n",
       "<table border=\"1\" class=\"dataframe\">\n",
       "  <thead>\n",
       "    <tr style=\"text-align: right;\">\n",
       "      <th></th>\n",
       "      <th>fas_id</th>\n",
       "      <th>name</th>\n",
       "      <th>address</th>\n",
       "      <th>postcode</th>\n",
       "      <th>easting</th>\n",
       "      <th>northing</th>\n",
       "      <th>latitude</th>\n",
       "      <th>longitude</th>\n",
       "      <th>local_authority</th>\n",
       "      <th>District</th>\n",
       "      <th>Population</th>\n",
       "    </tr>\n",
       "  </thead>\n",
       "  <tbody>\n",
       "    <tr>\n",
       "      <th>0</th>\n",
       "      <td>24</td>\n",
       "      <td>Anchor Inn</td>\n",
       "      <td>Upper Street, Stratford St Mary, COLCHESTER, E...</td>\n",
       "      <td>CO7 6LW</td>\n",
       "      <td>604748</td>\n",
       "      <td>234405</td>\n",
       "      <td>51.97039</td>\n",
       "      <td>0.979328</td>\n",
       "      <td>Babergh</td>\n",
       "      <td>Babergh</td>\n",
       "      <td>92036</td>\n",
       "    </tr>\n",
       "  </tbody>\n",
       "</table>\n",
       "</div>"
      ],
      "text/plain": [
       "   fas_id        name                                            address  \\\n",
       "0      24  Anchor Inn  Upper Street, Stratford St Mary, COLCHESTER, E...   \n",
       "\n",
       "  postcode  easting  northing  latitude longitude local_authority District  \\\n",
       "0  CO7 6LW   604748    234405  51.97039  0.979328         Babergh  Babergh   \n",
       "\n",
       "   Population  \n",
       "0       92036  "
      ]
     },
     "execution_count": 28,
     "metadata": {},
     "output_type": "execute_result"
    }
   ],
   "source": [
    "pubs.head(1)"
   ]
  },
  {
   "cell_type": "code",
   "execution_count": 29,
   "metadata": {},
   "outputs": [],
   "source": [
    "pubs = pubs.drop(columns = 'District').rename(columns = {'Population' : 'population'})"
   ]
  },
  {
   "cell_type": "code",
   "execution_count": 30,
   "metadata": {},
   "outputs": [
    {
     "data": {
      "text/html": [
       "<div>\n",
       "<style scoped>\n",
       "    .dataframe tbody tr th:only-of-type {\n",
       "        vertical-align: middle;\n",
       "    }\n",
       "\n",
       "    .dataframe tbody tr th {\n",
       "        vertical-align: top;\n",
       "    }\n",
       "\n",
       "    .dataframe thead th {\n",
       "        text-align: right;\n",
       "    }\n",
       "</style>\n",
       "<table border=\"1\" class=\"dataframe\">\n",
       "  <thead>\n",
       "    <tr style=\"text-align: right;\">\n",
       "      <th></th>\n",
       "      <th>fas_id</th>\n",
       "      <th>name</th>\n",
       "      <th>address</th>\n",
       "      <th>postcode</th>\n",
       "      <th>easting</th>\n",
       "      <th>northing</th>\n",
       "      <th>latitude</th>\n",
       "      <th>longitude</th>\n",
       "      <th>local_authority</th>\n",
       "      <th>population</th>\n",
       "    </tr>\n",
       "  </thead>\n",
       "  <tbody>\n",
       "    <tr>\n",
       "      <th>0</th>\n",
       "      <td>24</td>\n",
       "      <td>Anchor Inn</td>\n",
       "      <td>Upper Street, Stratford St Mary, COLCHESTER, E...</td>\n",
       "      <td>CO7 6LW</td>\n",
       "      <td>604748</td>\n",
       "      <td>234405</td>\n",
       "      <td>51.97039</td>\n",
       "      <td>0.979328</td>\n",
       "      <td>Babergh</td>\n",
       "      <td>92036</td>\n",
       "    </tr>\n",
       "  </tbody>\n",
       "</table>\n",
       "</div>"
      ],
      "text/plain": [
       "   fas_id        name                                            address  \\\n",
       "0      24  Anchor Inn  Upper Street, Stratford St Mary, COLCHESTER, E...   \n",
       "\n",
       "  postcode  easting  northing  latitude longitude local_authority  population  \n",
       "0  CO7 6LW   604748    234405  51.97039  0.979328         Babergh       92036  "
      ]
     },
     "execution_count": 30,
     "metadata": {},
     "output_type": "execute_result"
    }
   ],
   "source": [
    "pubs.head(1)"
   ]
  },
  {
   "cell_type": "code",
   "execution_count": 31,
   "metadata": {},
   "outputs": [],
   "source": [
    "pubs.to_csv('open_pubs.csv')"
   ]
  },
  {
   "cell_type": "code",
   "execution_count": 22,
   "metadata": {},
   "outputs": [],
   "source": [
    "districts.to_csv('districts.csv')"
   ]
  },
  {
   "cell_type": "markdown",
   "metadata": {},
   "source": [
    "# EDA"
   ]
  },
  {
   "cell_type": "code",
   "execution_count": 23,
   "metadata": {},
   "outputs": [
    {
     "name": "stdout",
     "output_type": "stream",
     "text": [
      "359\n"
     ]
    }
   ],
   "source": [
    "print(len(pubs['local_authority'].unique()))"
   ]
  },
  {
   "cell_type": "code",
   "execution_count": 24,
   "metadata": {},
   "outputs": [
    {
     "name": "stdout",
     "output_type": "stream",
     "text": [
      "51566\n"
     ]
    }
   ],
   "source": [
    "print(len(pubs))"
   ]
  },
  {
   "cell_type": "code",
   "execution_count": 25,
   "metadata": {},
   "outputs": [
    {
     "data": {
      "image/png": "[encoded data removed]",
      "text/plain": [
       "<Figure size 576x432 with 1 Axes>"
      ]
     },
     "metadata": {
      "needs_background": "light"
     },
     "output_type": "display_data"
    }
   ],
   "source": [
    "import matplotlib.pyplot as plt\n",
    "plt.figure(figsize = (8, 6))\n",
    "plt.title('Histogram of pubs per district')\n",
    "pubs.groupby('local_authority').size().hist(bins = 20)\n",
    "plt.savefig('Hist1.png')"
   ]
  },
  {
   "cell_type": "code",
   "execution_count": null,
   "metadata": {},
   "outputs": [],
   "source": []
  }
 ],
 "metadata": {
  "kernelspec": {
   "display_name": "Python 3",
   "language": "python",
   "name": "python3"
  },
  "language_info": {
   "codemirror_mode": {
    "name": "ipython",
    "version": 3
   },
   "file_extension": ".py",
   "mimetype": "text/x-python",
   "name": "python",
   "nbconvert_exporter": "python",
   "pygments_lexer": "ipython3",
   "version": "3.7.4"
  }
 },
 "nbformat": 4,
 "nbformat_minor": 5
}
