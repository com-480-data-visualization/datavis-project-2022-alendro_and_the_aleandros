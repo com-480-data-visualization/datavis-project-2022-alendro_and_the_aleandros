{
 "cells": [
  {
   "cell_type": "markdown",
   "id": "8dc57336",
   "metadata": {},
   "source": [
    "# Imports"
   ]
  },
  {
   "cell_type": "code",
   "execution_count": 1,
   "id": "bfcc8478",
   "metadata": {},
   "outputs": [],
   "source": [
    "import pandas as pd\n",
    "import numpy as np"
   ]
  },
  {
   "cell_type": "markdown",
   "id": "89d1095e",
   "metadata": {},
   "source": [
    "# Load the data"
   ]
  },
  {
   "cell_type": "code",
   "execution_count": 2,
   "id": "5363147d",
   "metadata": {},
   "outputs": [],
   "source": [
    "pubs = pd.read_csv('open_pubs.csv')\n",
    "districts_en = pd.read_csv('districts_en.csv')\n",
    "old_districts_en = pd.read_csv('old_districts_en.csv')\n",
    "districts_wales = pd.read_csv('districts_wales.csv')\n",
    "districts_scott = pd.read_csv('districts_scott.csv')"
   ]
  },
  {
   "cell_type": "code",
   "execution_count": 3,
   "id": "afe318bb",
   "metadata": {},
   "outputs": [
    {
     "data": {
      "text/plain": [
       "51552"
      ]
     },
     "execution_count": 3,
     "metadata": {},
     "output_type": "execute_result"
    }
   ],
   "source": [
    "len(pubs)"
   ]
  },
  {
   "cell_type": "code",
   "execution_count": 3,
   "id": "a7602d81",
   "metadata": {},
   "outputs": [
    {
     "data": {
      "text/html": [
       "<div>\n",
       "<style scoped>\n",
       "    .dataframe tbody tr th:only-of-type {\n",
       "        vertical-align: middle;\n",
       "    }\n",
       "\n",
       "    .dataframe tbody tr th {\n",
       "        vertical-align: top;\n",
       "    }\n",
       "\n",
       "    .dataframe thead th {\n",
       "        text-align: right;\n",
       "    }\n",
       "</style>\n",
       "<table border=\"1\" class=\"dataframe\">\n",
       "  <thead>\n",
       "    <tr style=\"text-align: right;\">\n",
       "      <th></th>\n",
       "      <th>Unnamed: 0</th>\n",
       "      <th>Unnamed: 0.1</th>\n",
       "      <th>Unnamed: 0.1.1</th>\n",
       "      <th>Unnamed: 0.1.1.1</th>\n",
       "      <th>Unnamed: 0.1.1.1.1</th>\n",
       "      <th>Unnamed: 0.1.1.1.1.1</th>\n",
       "      <th>Unnamed: 0.1.1.1.1.1.1</th>\n",
       "      <th>fas_id</th>\n",
       "      <th>name</th>\n",
       "      <th>address</th>\n",
       "      <th>...</th>\n",
       "      <th>latitude</th>\n",
       "      <th>longitude</th>\n",
       "      <th>local_authority</th>\n",
       "      <th>population</th>\n",
       "      <th>population.1</th>\n",
       "      <th>population.1.1</th>\n",
       "      <th>population.1.1.1</th>\n",
       "      <th>population.1.1.1.1</th>\n",
       "      <th>population.1.1.1.1.1</th>\n",
       "      <th>population.1.1.1.1.1.1</th>\n",
       "    </tr>\n",
       "  </thead>\n",
       "  <tbody>\n",
       "    <tr>\n",
       "      <th>0</th>\n",
       "      <td>0</td>\n",
       "      <td>0</td>\n",
       "      <td>0</td>\n",
       "      <td>0</td>\n",
       "      <td>0</td>\n",
       "      <td>0</td>\n",
       "      <td>0</td>\n",
       "      <td>24</td>\n",
       "      <td>Anchor Inn</td>\n",
       "      <td>Upper Street, Stratford St Mary, COLCHESTER, E...</td>\n",
       "      <td>...</td>\n",
       "      <td>51.97039</td>\n",
       "      <td>0.979328</td>\n",
       "      <td>Babergh</td>\n",
       "      <td>92036</td>\n",
       "      <td>92036</td>\n",
       "      <td>92036</td>\n",
       "      <td>92036</td>\n",
       "      <td>92036</td>\n",
       "      <td>92036</td>\n",
       "      <td>92036</td>\n",
       "    </tr>\n",
       "    <tr>\n",
       "      <th>1</th>\n",
       "      <td>1</td>\n",
       "      <td>1</td>\n",
       "      <td>1</td>\n",
       "      <td>1</td>\n",
       "      <td>1</td>\n",
       "      <td>1</td>\n",
       "      <td>1</td>\n",
       "      <td>30</td>\n",
       "      <td>Angel Inn</td>\n",
       "      <td>Egremont Street, Glemsford, SUDBURY, Suffolk</td>\n",
       "      <td>...</td>\n",
       "      <td>52.094427</td>\n",
       "      <td>0.668408</td>\n",
       "      <td>Babergh</td>\n",
       "      <td>92036</td>\n",
       "      <td>92036</td>\n",
       "      <td>92036</td>\n",
       "      <td>92036</td>\n",
       "      <td>92036</td>\n",
       "      <td>92036</td>\n",
       "      <td>92036</td>\n",
       "    </tr>\n",
       "    <tr>\n",
       "      <th>2</th>\n",
       "      <td>2</td>\n",
       "      <td>2</td>\n",
       "      <td>2</td>\n",
       "      <td>2</td>\n",
       "      <td>2</td>\n",
       "      <td>2</td>\n",
       "      <td>2</td>\n",
       "      <td>63</td>\n",
       "      <td>Black Boy Hotel</td>\n",
       "      <td>7 Market Hill, SUDBURY, Suffolk</td>\n",
       "      <td>...</td>\n",
       "      <td>52.038683</td>\n",
       "      <td>0.730226</td>\n",
       "      <td>Babergh</td>\n",
       "      <td>92036</td>\n",
       "      <td>92036</td>\n",
       "      <td>92036</td>\n",
       "      <td>92036</td>\n",
       "      <td>92036</td>\n",
       "      <td>92036</td>\n",
       "      <td>92036</td>\n",
       "    </tr>\n",
       "    <tr>\n",
       "      <th>3</th>\n",
       "      <td>3</td>\n",
       "      <td>3</td>\n",
       "      <td>3</td>\n",
       "      <td>3</td>\n",
       "      <td>3</td>\n",
       "      <td>3</td>\n",
       "      <td>3</td>\n",
       "      <td>64</td>\n",
       "      <td>Black Horse</td>\n",
       "      <td>Lower Street, Stratford St Mary, COLCHESTER, E...</td>\n",
       "      <td>...</td>\n",
       "      <td>51.966211</td>\n",
       "      <td>0.972091</td>\n",
       "      <td>Babergh</td>\n",
       "      <td>92036</td>\n",
       "      <td>92036</td>\n",
       "      <td>92036</td>\n",
       "      <td>92036</td>\n",
       "      <td>92036</td>\n",
       "      <td>92036</td>\n",
       "      <td>92036</td>\n",
       "    </tr>\n",
       "    <tr>\n",
       "      <th>4</th>\n",
       "      <td>4</td>\n",
       "      <td>4</td>\n",
       "      <td>4</td>\n",
       "      <td>4</td>\n",
       "      <td>4</td>\n",
       "      <td>4</td>\n",
       "      <td>4</td>\n",
       "      <td>65</td>\n",
       "      <td>Black Lion</td>\n",
       "      <td>Lion Road, Glemsford, SUDBURY, Suffolk</td>\n",
       "      <td>...</td>\n",
       "      <td>52.102815</td>\n",
       "      <td>0.666893</td>\n",
       "      <td>Babergh</td>\n",
       "      <td>92036</td>\n",
       "      <td>92036</td>\n",
       "      <td>92036</td>\n",
       "      <td>92036</td>\n",
       "      <td>92036</td>\n",
       "      <td>92036</td>\n",
       "      <td>92036</td>\n",
       "    </tr>\n",
       "  </tbody>\n",
       "</table>\n",
       "<p>5 rows × 23 columns</p>\n",
       "</div>"
      ],
      "text/plain": [
       "   Unnamed: 0  Unnamed: 0.1  Unnamed: 0.1.1  Unnamed: 0.1.1.1  \\\n",
       "0           0             0               0                 0   \n",
       "1           1             1               1                 1   \n",
       "2           2             2               2                 2   \n",
       "3           3             3               3                 3   \n",
       "4           4             4               4                 4   \n",
       "\n",
       "   Unnamed: 0.1.1.1.1  Unnamed: 0.1.1.1.1.1  Unnamed: 0.1.1.1.1.1.1  fas_id  \\\n",
       "0                   0                     0                       0      24   \n",
       "1                   1                     1                       1      30   \n",
       "2                   2                     2                       2      63   \n",
       "3                   3                     3                       3      64   \n",
       "4                   4                     4                       4      65   \n",
       "\n",
       "              name                                            address  ...  \\\n",
       "0       Anchor Inn  Upper Street, Stratford St Mary, COLCHESTER, E...  ...   \n",
       "1        Angel Inn       Egremont Street, Glemsford, SUDBURY, Suffolk  ...   \n",
       "2  Black Boy Hotel                    7 Market Hill, SUDBURY, Suffolk  ...   \n",
       "3      Black Horse  Lower Street, Stratford St Mary, COLCHESTER, E...  ...   \n",
       "4       Black Lion             Lion Road, Glemsford, SUDBURY, Suffolk  ...   \n",
       "\n",
       "    latitude  longitude  local_authority population population.1  \\\n",
       "0   51.97039   0.979328          Babergh      92036        92036   \n",
       "1  52.094427   0.668408          Babergh      92036        92036   \n",
       "2  52.038683   0.730226          Babergh      92036        92036   \n",
       "3  51.966211   0.972091          Babergh      92036        92036   \n",
       "4  52.102815   0.666893          Babergh      92036        92036   \n",
       "\n",
       "  population.1.1  population.1.1.1  population.1.1.1.1  population.1.1.1.1.1  \\\n",
       "0          92036             92036               92036                 92036   \n",
       "1          92036             92036               92036                 92036   \n",
       "2          92036             92036               92036                 92036   \n",
       "3          92036             92036               92036                 92036   \n",
       "4          92036             92036               92036                 92036   \n",
       "\n",
       "   population.1.1.1.1.1.1  \n",
       "0                   92036  \n",
       "1                   92036  \n",
       "2                   92036  \n",
       "3                   92036  \n",
       "4                   92036  \n",
       "\n",
       "[5 rows x 23 columns]"
      ]
     },
     "execution_count": 3,
     "metadata": {},
     "output_type": "execute_result"
    }
   ],
   "source": [
    "pubs.head()"
   ]
  },
  {
   "cell_type": "code",
   "execution_count": 4,
   "id": "ef5548b4",
   "metadata": {},
   "outputs": [],
   "source": [
    "districts = pd.concat([districts_en, districts_wales, districts_scott], ignore_index = True)"
   ]
  },
  {
   "cell_type": "code",
   "execution_count": 5,
   "id": "8db4c4cd",
   "metadata": {},
   "outputs": [
    {
     "data": {
      "text/html": [
       "<div>\n",
       "<style scoped>\n",
       "    .dataframe tbody tr th:only-of-type {\n",
       "        vertical-align: middle;\n",
       "    }\n",
       "\n",
       "    .dataframe tbody tr th {\n",
       "        vertical-align: top;\n",
       "    }\n",
       "\n",
       "    .dataframe thead th {\n",
       "        text-align: right;\n",
       "    }\n",
       "</style>\n",
       "<table border=\"1\" class=\"dataframe\">\n",
       "  <thead>\n",
       "    <tr style=\"text-align: right;\">\n",
       "      <th></th>\n",
       "      <th>District</th>\n",
       "      <th>Population</th>\n",
       "    </tr>\n",
       "  </thead>\n",
       "  <tbody>\n",
       "    <tr>\n",
       "      <th>0</th>\n",
       "      <td>Adur</td>\n",
       "      <td>64301</td>\n",
       "    </tr>\n",
       "    <tr>\n",
       "      <th>1</th>\n",
       "      <td>Allerdale</td>\n",
       "      <td>97761</td>\n",
       "    </tr>\n",
       "    <tr>\n",
       "      <th>2</th>\n",
       "      <td>Amber Valley</td>\n",
       "      <td>128147</td>\n",
       "    </tr>\n",
       "    <tr>\n",
       "      <th>3</th>\n",
       "      <td>Arun</td>\n",
       "      <td>160758</td>\n",
       "    </tr>\n",
       "    <tr>\n",
       "      <th>4</th>\n",
       "      <td>Ashfield</td>\n",
       "      <td>127918</td>\n",
       "    </tr>\n",
       "  </tbody>\n",
       "</table>\n",
       "</div>"
      ],
      "text/plain": [
       "       District  Population\n",
       "0          Adur       64301\n",
       "1     Allerdale       97761\n",
       "2  Amber Valley      128147\n",
       "3          Arun      160758\n",
       "4      Ashfield      127918"
      ]
     },
     "execution_count": 5,
     "metadata": {},
     "output_type": "execute_result"
    }
   ],
   "source": [
    "districts.head()"
   ]
  },
  {
   "cell_type": "markdown",
   "id": "3fe58c66",
   "metadata": {},
   "source": [
    "# Small cleaning of pubs\n",
    "\n",
    "It appears that there is a problem with two of the entries. More precisely with the way their names are written in the CSV file. We need to clean those two entries.\n",
    "\n",
    "Here is the original cleaning that was done. Afterwards, the data was cleaned by hand as there were some issue that pandas could not detect."
   ]
  },
  {
   "cell_type": "code",
   "execution_count": 6,
   "id": "bcf5b620",
   "metadata": {},
   "outputs": [
    {
     "data": {
      "text/plain": [
       "Unnamed: 0                0\n",
       "Unnamed: 0.1              0\n",
       "Unnamed: 0.1.1            0\n",
       "Unnamed: 0.1.1.1          0\n",
       "Unnamed: 0.1.1.1.1        0\n",
       "Unnamed: 0.1.1.1.1.1      0\n",
       "Unnamed: 0.1.1.1.1.1.1    0\n",
       "fas_id                    0\n",
       "name                      0\n",
       "address                   0\n",
       "postcode                  0\n",
       "easting                   0\n",
       "northing                  0\n",
       "latitude                  0\n",
       "longitude                 0\n",
       "local_authority           0\n",
       "population                0\n",
       "population.1              0\n",
       "population.1.1            0\n",
       "population.1.1.1          0\n",
       "population.1.1.1.1        0\n",
       "population.1.1.1.1.1      0\n",
       "population.1.1.1.1.1.1    0\n",
       "dtype: int64"
      ]
     },
     "execution_count": 6,
     "metadata": {},
     "output_type": "execute_result"
    }
   ],
   "source": [
    "pubs.isna().sum()"
   ]
  },
  {
   "cell_type": "code",
   "execution_count": 7,
   "id": "24d47be7",
   "metadata": {},
   "outputs": [
    {
     "data": {
      "text/html": [
       "<div>\n",
       "<style scoped>\n",
       "    .dataframe tbody tr th:only-of-type {\n",
       "        vertical-align: middle;\n",
       "    }\n",
       "\n",
       "    .dataframe tbody tr th {\n",
       "        vertical-align: top;\n",
       "    }\n",
       "\n",
       "    .dataframe thead th {\n",
       "        text-align: right;\n",
       "    }\n",
       "</style>\n",
       "<table border=\"1\" class=\"dataframe\">\n",
       "  <thead>\n",
       "    <tr style=\"text-align: right;\">\n",
       "      <th></th>\n",
       "      <th>Unnamed: 0</th>\n",
       "      <th>Unnamed: 0.1</th>\n",
       "      <th>Unnamed: 0.1.1</th>\n",
       "      <th>Unnamed: 0.1.1.1</th>\n",
       "      <th>Unnamed: 0.1.1.1.1</th>\n",
       "      <th>Unnamed: 0.1.1.1.1.1</th>\n",
       "      <th>Unnamed: 0.1.1.1.1.1.1</th>\n",
       "      <th>fas_id</th>\n",
       "      <th>name</th>\n",
       "      <th>address</th>\n",
       "      <th>...</th>\n",
       "      <th>latitude</th>\n",
       "      <th>longitude</th>\n",
       "      <th>local_authority</th>\n",
       "      <th>population</th>\n",
       "      <th>population.1</th>\n",
       "      <th>population.1.1</th>\n",
       "      <th>population.1.1.1</th>\n",
       "      <th>population.1.1.1.1</th>\n",
       "      <th>population.1.1.1.1.1</th>\n",
       "      <th>population.1.1.1.1.1.1</th>\n",
       "    </tr>\n",
       "  </thead>\n",
       "  <tbody>\n",
       "  </tbody>\n",
       "</table>\n",
       "<p>0 rows × 23 columns</p>\n",
       "</div>"
      ],
      "text/plain": [
       "Empty DataFrame\n",
       "Columns: [Unnamed: 0, Unnamed: 0.1, Unnamed: 0.1.1, Unnamed: 0.1.1.1, Unnamed: 0.1.1.1.1, Unnamed: 0.1.1.1.1.1, Unnamed: 0.1.1.1.1.1.1, fas_id, name, address, postcode, easting, northing, latitude, longitude, local_authority, population, population.1, population.1.1, population.1.1.1, population.1.1.1.1, population.1.1.1.1.1, population.1.1.1.1.1.1]\n",
       "Index: []\n",
       "\n",
       "[0 rows x 23 columns]"
      ]
     },
     "execution_count": 7,
     "metadata": {},
     "output_type": "execute_result"
    }
   ],
   "source": [
    "pubs[pubs['local_authority'].isna()]"
   ]
  },
  {
   "cell_type": "code",
   "execution_count": 8,
   "id": "d89cd3f0",
   "metadata": {},
   "outputs": [],
   "source": [
    "pubs.loc[[768, 43212], ['local_authority', 'longitude', 'latitude', 'northing', 'easting', 'postcode']] = pubs.loc[[768, 43212], ['longitude', 'latitude', 'northing', 'easting', 'postcode', 'address']].values"
   ]
  },
  {
   "cell_type": "code",
   "execution_count": 9,
   "id": "92da6c97",
   "metadata": {},
   "outputs": [
    {
     "ename": "ValueError",
     "evalue": "Must have equal len keys and value when setting with an ndarray",
     "output_type": "error",
     "traceback": [
      "\u001b[1;31m---------------------------------------------------------------------------\u001b[0m",
      "\u001b[1;31mValueError\u001b[0m                                Traceback (most recent call last)",
      "\u001b[1;32m<ipython-input-9-aa04319c556e>\u001b[0m in \u001b[0;36m<module>\u001b[1;34m\u001b[0m\n\u001b[1;32m----> 1\u001b[1;33m \u001b[0mpubs\u001b[0m\u001b[1;33m.\u001b[0m\u001b[0mloc\u001b[0m\u001b[1;33m[\u001b[0m\u001b[1;33m[\u001b[0m\u001b[1;36m768\u001b[0m\u001b[1;33m,\u001b[0m \u001b[1;36m43212\u001b[0m\u001b[1;33m]\u001b[0m\u001b[1;33m,\u001b[0m \u001b[1;33m[\u001b[0m\u001b[1;34m'name'\u001b[0m\u001b[1;33m,\u001b[0m \u001b[1;34m'address'\u001b[0m\u001b[1;33m]\u001b[0m\u001b[1;33m]\u001b[0m \u001b[1;33m=\u001b[0m \u001b[0mnp\u001b[0m\u001b[1;33m.\u001b[0m\u001b[0marray\u001b[0m\u001b[1;33m(\u001b[0m\u001b[1;33m[\u001b[0m\u001b[0mx\u001b[0m\u001b[1;33m.\u001b[0m\u001b[0msplit\u001b[0m\u001b[1;33m(\u001b[0m\u001b[1;34m','\u001b[0m\u001b[1;33m,\u001b[0m \u001b[1;36m1\u001b[0m\u001b[1;33m)\u001b[0m \u001b[1;32mfor\u001b[0m \u001b[0mx\u001b[0m \u001b[1;32min\u001b[0m \u001b[0mpubs\u001b[0m\u001b[1;33m.\u001b[0m\u001b[0mloc\u001b[0m\u001b[1;33m[\u001b[0m\u001b[1;33m[\u001b[0m\u001b[1;36m768\u001b[0m\u001b[1;33m,\u001b[0m \u001b[1;36m43212\u001b[0m\u001b[1;33m]\u001b[0m\u001b[1;33m]\u001b[0m\u001b[1;33m.\u001b[0m\u001b[0mname\u001b[0m\u001b[1;33m.\u001b[0m\u001b[0mvalues\u001b[0m\u001b[1;33m]\u001b[0m\u001b[1;33m)\u001b[0m\u001b[1;33m\u001b[0m\u001b[1;33m\u001b[0m\u001b[0m\n\u001b[0m",
      "\u001b[1;32mC:\\ProgramData\\Anaconda3\\lib\\site-packages\\pandas\\core\\indexing.py\u001b[0m in \u001b[0;36m__setitem__\u001b[1;34m(self, key, value)\u001b[0m\n\u001b[0;32m    690\u001b[0m \u001b[1;33m\u001b[0m\u001b[0m\n\u001b[0;32m    691\u001b[0m         \u001b[0miloc\u001b[0m \u001b[1;33m=\u001b[0m \u001b[0mself\u001b[0m \u001b[1;32mif\u001b[0m \u001b[0mself\u001b[0m\u001b[1;33m.\u001b[0m\u001b[0mname\u001b[0m \u001b[1;33m==\u001b[0m \u001b[1;34m\"iloc\"\u001b[0m \u001b[1;32melse\u001b[0m \u001b[0mself\u001b[0m\u001b[1;33m.\u001b[0m\u001b[0mobj\u001b[0m\u001b[1;33m.\u001b[0m\u001b[0miloc\u001b[0m\u001b[1;33m\u001b[0m\u001b[1;33m\u001b[0m\u001b[0m\n\u001b[1;32m--> 692\u001b[1;33m         \u001b[0miloc\u001b[0m\u001b[1;33m.\u001b[0m\u001b[0m_setitem_with_indexer\u001b[0m\u001b[1;33m(\u001b[0m\u001b[0mindexer\u001b[0m\u001b[1;33m,\u001b[0m \u001b[0mvalue\u001b[0m\u001b[1;33m,\u001b[0m \u001b[0mself\u001b[0m\u001b[1;33m.\u001b[0m\u001b[0mname\u001b[0m\u001b[1;33m)\u001b[0m\u001b[1;33m\u001b[0m\u001b[1;33m\u001b[0m\u001b[0m\n\u001b[0m\u001b[0;32m    693\u001b[0m \u001b[1;33m\u001b[0m\u001b[0m\n\u001b[0;32m    694\u001b[0m     \u001b[1;32mdef\u001b[0m \u001b[0m_validate_key\u001b[0m\u001b[1;33m(\u001b[0m\u001b[0mself\u001b[0m\u001b[1;33m,\u001b[0m \u001b[0mkey\u001b[0m\u001b[1;33m,\u001b[0m \u001b[0maxis\u001b[0m\u001b[1;33m:\u001b[0m \u001b[0mint\u001b[0m\u001b[1;33m)\u001b[0m\u001b[1;33m:\u001b[0m\u001b[1;33m\u001b[0m\u001b[1;33m\u001b[0m\u001b[0m\n",
      "\u001b[1;32mC:\\ProgramData\\Anaconda3\\lib\\site-packages\\pandas\\core\\indexing.py\u001b[0m in \u001b[0;36m_setitem_with_indexer\u001b[1;34m(self, indexer, value, name)\u001b[0m\n\u001b[0;32m   1633\u001b[0m         \u001b[1;32mif\u001b[0m \u001b[0mtake_split_path\u001b[0m\u001b[1;33m:\u001b[0m\u001b[1;33m\u001b[0m\u001b[1;33m\u001b[0m\u001b[0m\n\u001b[0;32m   1634\u001b[0m             \u001b[1;31m# We have to operate column-wise\u001b[0m\u001b[1;33m\u001b[0m\u001b[1;33m\u001b[0m\u001b[1;33m\u001b[0m\u001b[0m\n\u001b[1;32m-> 1635\u001b[1;33m             \u001b[0mself\u001b[0m\u001b[1;33m.\u001b[0m\u001b[0m_setitem_with_indexer_split_path\u001b[0m\u001b[1;33m(\u001b[0m\u001b[0mindexer\u001b[0m\u001b[1;33m,\u001b[0m \u001b[0mvalue\u001b[0m\u001b[1;33m,\u001b[0m \u001b[0mname\u001b[0m\u001b[1;33m)\u001b[0m\u001b[1;33m\u001b[0m\u001b[1;33m\u001b[0m\u001b[0m\n\u001b[0m\u001b[0;32m   1636\u001b[0m         \u001b[1;32melse\u001b[0m\u001b[1;33m:\u001b[0m\u001b[1;33m\u001b[0m\u001b[1;33m\u001b[0m\u001b[0m\n\u001b[0;32m   1637\u001b[0m             \u001b[0mself\u001b[0m\u001b[1;33m.\u001b[0m\u001b[0m_setitem_single_block\u001b[0m\u001b[1;33m(\u001b[0m\u001b[0mindexer\u001b[0m\u001b[1;33m,\u001b[0m \u001b[0mvalue\u001b[0m\u001b[1;33m,\u001b[0m \u001b[0mname\u001b[0m\u001b[1;33m)\u001b[0m\u001b[1;33m\u001b[0m\u001b[1;33m\u001b[0m\u001b[0m\n",
      "\u001b[1;32mC:\\ProgramData\\Anaconda3\\lib\\site-packages\\pandas\\core\\indexing.py\u001b[0m in \u001b[0;36m_setitem_with_indexer_split_path\u001b[1;34m(self, indexer, value, name)\u001b[0m\n\u001b[0;32m   1670\u001b[0m \u001b[1;33m\u001b[0m\u001b[0m\n\u001b[0;32m   1671\u001b[0m             \u001b[1;32melif\u001b[0m \u001b[0mnp\u001b[0m\u001b[1;33m.\u001b[0m\u001b[0mndim\u001b[0m\u001b[1;33m(\u001b[0m\u001b[0mvalue\u001b[0m\u001b[1;33m)\u001b[0m \u001b[1;33m==\u001b[0m \u001b[1;36m2\u001b[0m\u001b[1;33m:\u001b[0m\u001b[1;33m\u001b[0m\u001b[1;33m\u001b[0m\u001b[0m\n\u001b[1;32m-> 1672\u001b[1;33m                 \u001b[0mself\u001b[0m\u001b[1;33m.\u001b[0m\u001b[0m_setitem_with_indexer_2d_value\u001b[0m\u001b[1;33m(\u001b[0m\u001b[0mindexer\u001b[0m\u001b[1;33m,\u001b[0m \u001b[0mvalue\u001b[0m\u001b[1;33m)\u001b[0m\u001b[1;33m\u001b[0m\u001b[1;33m\u001b[0m\u001b[0m\n\u001b[0m\u001b[0;32m   1673\u001b[0m \u001b[1;33m\u001b[0m\u001b[0m\n\u001b[0;32m   1674\u001b[0m             \u001b[1;32melif\u001b[0m \u001b[0mlen\u001b[0m\u001b[1;33m(\u001b[0m\u001b[0milocs\u001b[0m\u001b[1;33m)\u001b[0m \u001b[1;33m==\u001b[0m \u001b[1;36m1\u001b[0m \u001b[1;32mand\u001b[0m \u001b[0mlplane_indexer\u001b[0m \u001b[1;33m==\u001b[0m \u001b[0mlen\u001b[0m\u001b[1;33m(\u001b[0m\u001b[0mvalue\u001b[0m\u001b[1;33m)\u001b[0m \u001b[1;32mand\u001b[0m \u001b[1;32mnot\u001b[0m \u001b[0mis_scalar\u001b[0m\u001b[1;33m(\u001b[0m\u001b[0mpi\u001b[0m\u001b[1;33m)\u001b[0m\u001b[1;33m:\u001b[0m\u001b[1;33m\u001b[0m\u001b[1;33m\u001b[0m\u001b[0m\n",
      "\u001b[1;32mC:\\ProgramData\\Anaconda3\\lib\\site-packages\\pandas\\core\\indexing.py\u001b[0m in \u001b[0;36m_setitem_with_indexer_2d_value\u001b[1;34m(self, indexer, value)\u001b[0m\n\u001b[0;32m   1731\u001b[0m         \u001b[1;32mif\u001b[0m \u001b[0mlen\u001b[0m\u001b[1;33m(\u001b[0m\u001b[0milocs\u001b[0m\u001b[1;33m)\u001b[0m \u001b[1;33m!=\u001b[0m \u001b[0mvalue\u001b[0m\u001b[1;33m.\u001b[0m\u001b[0mshape\u001b[0m\u001b[1;33m[\u001b[0m\u001b[1;36m1\u001b[0m\u001b[1;33m]\u001b[0m\u001b[1;33m:\u001b[0m\u001b[1;33m\u001b[0m\u001b[1;33m\u001b[0m\u001b[0m\n\u001b[0;32m   1732\u001b[0m             raise ValueError(\n\u001b[1;32m-> 1733\u001b[1;33m                 \u001b[1;34m\"Must have equal len keys and value when setting with an ndarray\"\u001b[0m\u001b[1;33m\u001b[0m\u001b[1;33m\u001b[0m\u001b[0m\n\u001b[0m\u001b[0;32m   1734\u001b[0m             )\n\u001b[0;32m   1735\u001b[0m \u001b[1;33m\u001b[0m\u001b[0m\n",
      "\u001b[1;31mValueError\u001b[0m: Must have equal len keys and value when setting with an ndarray"
     ]
    }
   ],
   "source": [
    "pubs.loc[[768, 43212], ['name', 'address']] = np.array([x.split(',', 1) for x in pubs.loc[[768, 43212]].name.values])"
   ]
  },
  {
   "cell_type": "code",
   "execution_count": 10,
   "id": "08d3b3cc",
   "metadata": {},
   "outputs": [],
   "source": [
    "pubs.loc[[768, 43212], 'address'] = pubs.loc[[768, 43212], 'address'].str[1:]"
   ]
  },
  {
   "cell_type": "code",
   "execution_count": 11,
   "id": "295340d4",
   "metadata": {},
   "outputs": [
    {
     "data": {
      "text/html": [
       "<div>\n",
       "<style scoped>\n",
       "    .dataframe tbody tr th:only-of-type {\n",
       "        vertical-align: middle;\n",
       "    }\n",
       "\n",
       "    .dataframe tbody tr th {\n",
       "        vertical-align: top;\n",
       "    }\n",
       "\n",
       "    .dataframe thead th {\n",
       "        text-align: right;\n",
       "    }\n",
       "</style>\n",
       "<table border=\"1\" class=\"dataframe\">\n",
       "  <thead>\n",
       "    <tr style=\"text-align: right;\">\n",
       "      <th></th>\n",
       "      <th>Unnamed: 0</th>\n",
       "      <th>Unnamed: 0.1</th>\n",
       "      <th>Unnamed: 0.1.1</th>\n",
       "      <th>Unnamed: 0.1.1.1</th>\n",
       "      <th>Unnamed: 0.1.1.1.1</th>\n",
       "      <th>Unnamed: 0.1.1.1.1.1</th>\n",
       "      <th>Unnamed: 0.1.1.1.1.1.1</th>\n",
       "      <th>fas_id</th>\n",
       "      <th>name</th>\n",
       "      <th>address</th>\n",
       "      <th>...</th>\n",
       "      <th>latitude</th>\n",
       "      <th>longitude</th>\n",
       "      <th>local_authority</th>\n",
       "      <th>population</th>\n",
       "      <th>population.1</th>\n",
       "      <th>population.1.1</th>\n",
       "      <th>population.1.1.1</th>\n",
       "      <th>population.1.1.1.1</th>\n",
       "      <th>population.1.1.1.1.1</th>\n",
       "      <th>population.1.1.1.1.1.1</th>\n",
       "    </tr>\n",
       "  </thead>\n",
       "  <tbody>\n",
       "    <tr>\n",
       "      <th>768</th>\n",
       "      <td>768</td>\n",
       "      <td>769</td>\n",
       "      <td>770</td>\n",
       "      <td>771</td>\n",
       "      <td>772</td>\n",
       "      <td>773</td>\n",
       "      <td>774</td>\n",
       "      <td>6247</td>\n",
       "      <td>The Chough Public House</td>\n",
       "      <td>he Chough, 18 Eastham Crescent, Brentwood, Essex</td>\n",
       "      <td>...</td>\n",
       "      <td>193012</td>\n",
       "      <td>51.612838</td>\n",
       "      <td>0.32799</td>\n",
       "      <td>77021</td>\n",
       "      <td>77021</td>\n",
       "      <td>77021</td>\n",
       "      <td>77021</td>\n",
       "      <td>77021</td>\n",
       "      <td>77021</td>\n",
       "      <td>77021</td>\n",
       "    </tr>\n",
       "    <tr>\n",
       "      <th>43212</th>\n",
       "      <td>43212</td>\n",
       "      <td>43214</td>\n",
       "      <td>43216</td>\n",
       "      <td>43218</td>\n",
       "      <td>43220</td>\n",
       "      <td>43222</td>\n",
       "      <td>43224</td>\n",
       "      <td>407015</td>\n",
       "      <td>The Rodley Barge</td>\n",
       "      <td>82 - 184 Town Street, Rodley, Leeds</td>\n",
       "      <td>...</td>\n",
       "      <td>436293</td>\n",
       "      <td>53.822431</td>\n",
       "      <td>-1.657901</td>\n",
       "      <td>793139</td>\n",
       "      <td>793139</td>\n",
       "      <td>793139</td>\n",
       "      <td>793139</td>\n",
       "      <td>793139</td>\n",
       "      <td>793139</td>\n",
       "      <td>793139</td>\n",
       "    </tr>\n",
       "  </tbody>\n",
       "</table>\n",
       "<p>2 rows × 23 columns</p>\n",
       "</div>"
      ],
      "text/plain": [
       "       Unnamed: 0  Unnamed: 0.1  Unnamed: 0.1.1  Unnamed: 0.1.1.1  \\\n",
       "768           768           769             770               771   \n",
       "43212       43212         43214           43216             43218   \n",
       "\n",
       "       Unnamed: 0.1.1.1.1  Unnamed: 0.1.1.1.1.1  Unnamed: 0.1.1.1.1.1.1  \\\n",
       "768                   772                   773                     774   \n",
       "43212               43220                 43222                   43224   \n",
       "\n",
       "       fas_id                     name  \\\n",
       "768      6247  The Chough Public House   \n",
       "43212  407015         The Rodley Barge   \n",
       "\n",
       "                                                address  ... latitude  \\\n",
       "768    he Chough, 18 Eastham Crescent, Brentwood, Essex  ...   193012   \n",
       "43212               82 - 184 Town Street, Rodley, Leeds  ...   436293   \n",
       "\n",
       "       longitude  local_authority population population.1 population.1.1  \\\n",
       "768    51.612838          0.32799      77021        77021          77021   \n",
       "43212  53.822431        -1.657901     793139       793139         793139   \n",
       "\n",
       "       population.1.1.1  population.1.1.1.1  population.1.1.1.1.1  \\\n",
       "768               77021               77021                 77021   \n",
       "43212            793139              793139                793139   \n",
       "\n",
       "       population.1.1.1.1.1.1  \n",
       "768                     77021  \n",
       "43212                  793139  \n",
       "\n",
       "[2 rows x 23 columns]"
      ]
     },
     "execution_count": 11,
     "metadata": {},
     "output_type": "execute_result"
    }
   ],
   "source": [
    "pubs.loc[[768, 43212]]"
   ]
  },
  {
   "cell_type": "markdown",
   "id": "1609cf54",
   "metadata": {},
   "source": [
    "# Quick look at the intersection between our datasets"
   ]
  },
  {
   "cell_type": "code",
   "execution_count": 12,
   "id": "e65c644c",
   "metadata": {},
   "outputs": [
    {
     "name": "stdout",
     "output_type": "stream",
     "text": [
      "361\n"
     ]
    }
   ],
   "source": [
    "print(len(pubs.local_authority.unique()))"
   ]
  },
  {
   "cell_type": "code",
   "execution_count": 13,
   "id": "78d5b208",
   "metadata": {},
   "outputs": [
    {
     "name": "stdout",
     "output_type": "stream",
     "text": [
      "363\n"
     ]
    }
   ],
   "source": [
    "print(len(districts))"
   ]
  },
  {
   "cell_type": "code",
   "execution_count": 14,
   "id": "c1d58e92",
   "metadata": {},
   "outputs": [
    {
     "name": "stdout",
     "output_type": "stream",
     "text": [
      "355\n"
     ]
    }
   ],
   "source": [
    "print(len(np.intersect1d(districts.District.unique(), pubs.local_authority.unique())))"
   ]
  },
  {
   "cell_type": "code",
   "execution_count": 15,
   "id": "c23720ce",
   "metadata": {},
   "outputs": [
    {
     "name": "stdout",
     "output_type": "stream",
     "text": [
      "1\n"
     ]
    }
   ],
   "source": [
    "print(len(np.intersect1d(old_districts_en.District.unique(), pubs.local_authority.unique())))"
   ]
  },
  {
   "cell_type": "code",
   "execution_count": 16,
   "id": "d586a08f",
   "metadata": {},
   "outputs": [],
   "source": [
    "pubs['local_authority'] = pubs['local_authority'].replace({x: y for (x, y) in old_districts_en.values})"
   ]
  },
  {
   "cell_type": "code",
   "execution_count": 17,
   "id": "b8b3fa67",
   "metadata": {},
   "outputs": [
    {
     "data": {
      "text/html": [
       "<div>\n",
       "<style scoped>\n",
       "    .dataframe tbody tr th:only-of-type {\n",
       "        vertical-align: middle;\n",
       "    }\n",
       "\n",
       "    .dataframe tbody tr th {\n",
       "        vertical-align: top;\n",
       "    }\n",
       "\n",
       "    .dataframe thead th {\n",
       "        text-align: right;\n",
       "    }\n",
       "</style>\n",
       "<table border=\"1\" class=\"dataframe\">\n",
       "  <thead>\n",
       "    <tr style=\"text-align: right;\">\n",
       "      <th></th>\n",
       "      <th>District</th>\n",
       "      <th>Population</th>\n",
       "    </tr>\n",
       "  </thead>\n",
       "  <tbody>\n",
       "    <tr>\n",
       "      <th>153</th>\n",
       "      <td>Malvern Hills</td>\n",
       "      <td>78698</td>\n",
       "    </tr>\n",
       "    <tr>\n",
       "      <th>164</th>\n",
       "      <td>Milton Keynes</td>\n",
       "      <td>269457</td>\n",
       "    </tr>\n",
       "    <tr>\n",
       "      <th>317</th>\n",
       "      <td>Neath Port Talbot †</td>\n",
       "      <td>144386</td>\n",
       "    </tr>\n",
       "    <tr>\n",
       "      <th>322</th>\n",
       "      <td>Gwynedd *</td>\n",
       "      <td>125171</td>\n",
       "    </tr>\n",
       "    <tr>\n",
       "      <th>323</th>\n",
       "      <td>Conwy ‡</td>\n",
       "      <td>118184</td>\n",
       "    </tr>\n",
       "    <tr>\n",
       "      <th>327</th>\n",
       "      <td>Ceredigion §</td>\n",
       "      <td>72895</td>\n",
       "    </tr>\n",
       "    <tr>\n",
       "      <th>329</th>\n",
       "      <td>Blaenau Gwent</td>\n",
       "      <td>70020</td>\n",
       "    </tr>\n",
       "    <tr>\n",
       "      <th>354</th>\n",
       "      <td>Stirling</td>\n",
       "      <td>94330</td>\n",
       "    </tr>\n",
       "    <tr>\n",
       "      <th>361</th>\n",
       "      <td>Shetland</td>\n",
       "      <td>22990</td>\n",
       "    </tr>\n",
       "  </tbody>\n",
       "</table>\n",
       "</div>"
      ],
      "text/plain": [
       "                District  Population\n",
       "153        Malvern Hills       78698\n",
       "164        Milton Keynes      269457\n",
       "317  Neath Port Talbot †      144386\n",
       "322            Gwynedd *      125171\n",
       "323              Conwy ‡      118184\n",
       "327         Ceredigion §       72895\n",
       "329        Blaenau Gwent       70020\n",
       "354             Stirling       94330\n",
       "361             Shetland       22990"
      ]
     },
     "execution_count": 17,
     "metadata": {},
     "output_type": "execute_result"
    }
   ],
   "source": [
    "districts[~districts['District'].isin(pubs.local_authority.unique())]"
   ]
  },
  {
   "cell_type": "code",
   "execution_count": 18,
   "id": "6056fb01",
   "metadata": {},
   "outputs": [],
   "source": [
    "districts.loc[[317, 322, 323, 327], 'District'] = districts.loc[[317, 322, 323, 327], 'District'].apply(lambda x: x[:-2])"
   ]
  },
  {
   "cell_type": "code",
   "execution_count": 19,
   "id": "cb402aa0",
   "metadata": {},
   "outputs": [
    {
     "data": {
      "text/html": [
       "<div>\n",
       "<style scoped>\n",
       "    .dataframe tbody tr th:only-of-type {\n",
       "        vertical-align: middle;\n",
       "    }\n",
       "\n",
       "    .dataframe tbody tr th {\n",
       "        vertical-align: top;\n",
       "    }\n",
       "\n",
       "    .dataframe thead th {\n",
       "        text-align: right;\n",
       "    }\n",
       "</style>\n",
       "<table border=\"1\" class=\"dataframe\">\n",
       "  <thead>\n",
       "    <tr style=\"text-align: right;\">\n",
       "      <th></th>\n",
       "      <th>District</th>\n",
       "      <th>Population</th>\n",
       "    </tr>\n",
       "  </thead>\n",
       "  <tbody>\n",
       "    <tr>\n",
       "      <th>153</th>\n",
       "      <td>Malvern Hills</td>\n",
       "      <td>78698</td>\n",
       "    </tr>\n",
       "    <tr>\n",
       "      <th>164</th>\n",
       "      <td>Milton Keynes</td>\n",
       "      <td>269457</td>\n",
       "    </tr>\n",
       "    <tr>\n",
       "      <th>329</th>\n",
       "      <td>Blaenau Gwent</td>\n",
       "      <td>70020</td>\n",
       "    </tr>\n",
       "    <tr>\n",
       "      <th>354</th>\n",
       "      <td>Stirling</td>\n",
       "      <td>94330</td>\n",
       "    </tr>\n",
       "    <tr>\n",
       "      <th>361</th>\n",
       "      <td>Shetland</td>\n",
       "      <td>22990</td>\n",
       "    </tr>\n",
       "  </tbody>\n",
       "</table>\n",
       "</div>"
      ],
      "text/plain": [
       "          District  Population\n",
       "153  Malvern Hills       78698\n",
       "164  Milton Keynes      269457\n",
       "329  Blaenau Gwent       70020\n",
       "354       Stirling       94330\n",
       "361       Shetland       22990"
      ]
     },
     "execution_count": 19,
     "metadata": {},
     "output_type": "execute_result"
    }
   ],
   "source": [
    "districts[~districts['District'].isin(pubs.local_authority.unique())]"
   ]
  },
  {
   "cell_type": "code",
   "execution_count": 20,
   "id": "f2313bfb",
   "metadata": {},
   "outputs": [
    {
     "name": "stdout",
     "output_type": "stream",
     "text": [
      "Malvern Hills\n",
      "['Herefordshire and Malvern Hills']\n",
      "Milton Keynes\n",
      "[]\n",
      "Blaenau Gwent\n",
      "[]\n",
      "Stirling\n",
      "[]\n",
      "Shetland\n",
      "[]\n"
     ]
    }
   ],
   "source": [
    "for x in districts[~districts['District'].isin(pubs.local_authority.unique())].District.values :\n",
    "    print(x)\n",
    "    print(pubs[pubs['local_authority'].str.contains(x)].local_authority.unique())"
   ]
  },
  {
   "cell_type": "code",
   "execution_count": 21,
   "id": "884f63f5",
   "metadata": {},
   "outputs": [
    {
     "data": {
      "text/html": [
       "<div>\n",
       "<style scoped>\n",
       "    .dataframe tbody tr th:only-of-type {\n",
       "        vertical-align: middle;\n",
       "    }\n",
       "\n",
       "    .dataframe tbody tr th {\n",
       "        vertical-align: top;\n",
       "    }\n",
       "\n",
       "    .dataframe thead th {\n",
       "        text-align: right;\n",
       "    }\n",
       "</style>\n",
       "<table border=\"1\" class=\"dataframe\">\n",
       "  <thead>\n",
       "    <tr style=\"text-align: right;\">\n",
       "      <th></th>\n",
       "      <th>Unnamed: 0</th>\n",
       "      <th>Unnamed: 0.1</th>\n",
       "      <th>Unnamed: 0.1.1</th>\n",
       "      <th>Unnamed: 0.1.1.1</th>\n",
       "      <th>Unnamed: 0.1.1.1.1</th>\n",
       "      <th>Unnamed: 0.1.1.1.1.1</th>\n",
       "      <th>Unnamed: 0.1.1.1.1.1.1</th>\n",
       "      <th>fas_id</th>\n",
       "      <th>name</th>\n",
       "      <th>address</th>\n",
       "      <th>...</th>\n",
       "      <th>latitude</th>\n",
       "      <th>longitude</th>\n",
       "      <th>local_authority</th>\n",
       "      <th>population</th>\n",
       "      <th>population.1</th>\n",
       "      <th>population.1.1</th>\n",
       "      <th>population.1.1.1</th>\n",
       "      <th>population.1.1.1.1</th>\n",
       "      <th>population.1.1.1.1.1</th>\n",
       "      <th>population.1.1.1.1.1.1</th>\n",
       "    </tr>\n",
       "  </thead>\n",
       "  <tbody>\n",
       "  </tbody>\n",
       "</table>\n",
       "<p>0 rows × 23 columns</p>\n",
       "</div>"
      ],
      "text/plain": [
       "Empty DataFrame\n",
       "Columns: [Unnamed: 0, Unnamed: 0.1, Unnamed: 0.1.1, Unnamed: 0.1.1.1, Unnamed: 0.1.1.1.1, Unnamed: 0.1.1.1.1.1, Unnamed: 0.1.1.1.1.1.1, fas_id, name, address, postcode, easting, northing, latitude, longitude, local_authority, population, population.1, population.1.1, population.1.1.1, population.1.1.1.1, population.1.1.1.1.1, population.1.1.1.1.1.1]\n",
       "Index: []\n",
       "\n",
       "[0 rows x 23 columns]"
      ]
     },
     "execution_count": 21,
     "metadata": {},
     "output_type": "execute_result"
    }
   ],
   "source": [
    "pubs[pubs['local_authority'] == 'St. Helens'].head(1)"
   ]
  },
  {
   "cell_type": "code",
   "execution_count": 22,
   "id": "77c7dd68",
   "metadata": {},
   "outputs": [
    {
     "data": {
      "text/html": [
       "<div>\n",
       "<style scoped>\n",
       "    .dataframe tbody tr th:only-of-type {\n",
       "        vertical-align: middle;\n",
       "    }\n",
       "\n",
       "    .dataframe tbody tr th {\n",
       "        vertical-align: top;\n",
       "    }\n",
       "\n",
       "    .dataframe thead th {\n",
       "        text-align: right;\n",
       "    }\n",
       "</style>\n",
       "<table border=\"1\" class=\"dataframe\">\n",
       "  <thead>\n",
       "    <tr style=\"text-align: right;\">\n",
       "      <th></th>\n",
       "      <th>Unnamed: 0</th>\n",
       "      <th>Unnamed: 0.1</th>\n",
       "      <th>Unnamed: 0.1.1</th>\n",
       "      <th>Unnamed: 0.1.1.1</th>\n",
       "      <th>Unnamed: 0.1.1.1.1</th>\n",
       "      <th>Unnamed: 0.1.1.1.1.1</th>\n",
       "      <th>Unnamed: 0.1.1.1.1.1.1</th>\n",
       "      <th>fas_id</th>\n",
       "      <th>name</th>\n",
       "      <th>address</th>\n",
       "      <th>...</th>\n",
       "      <th>latitude</th>\n",
       "      <th>longitude</th>\n",
       "      <th>local_authority</th>\n",
       "      <th>population</th>\n",
       "      <th>population.1</th>\n",
       "      <th>population.1.1</th>\n",
       "      <th>population.1.1.1</th>\n",
       "      <th>population.1.1.1.1</th>\n",
       "      <th>population.1.1.1.1.1</th>\n",
       "      <th>population.1.1.1.1.1.1</th>\n",
       "    </tr>\n",
       "  </thead>\n",
       "  <tbody>\n",
       "  </tbody>\n",
       "</table>\n",
       "<p>0 rows × 23 columns</p>\n",
       "</div>"
      ],
      "text/plain": [
       "Empty DataFrame\n",
       "Columns: [Unnamed: 0, Unnamed: 0.1, Unnamed: 0.1.1, Unnamed: 0.1.1.1, Unnamed: 0.1.1.1.1, Unnamed: 0.1.1.1.1.1, Unnamed: 0.1.1.1.1.1.1, fas_id, name, address, postcode, easting, northing, latitude, longitude, local_authority, population, population.1, population.1.1, population.1.1.1, population.1.1.1.1, population.1.1.1.1.1, population.1.1.1.1.1.1]\n",
       "Index: []\n",
       "\n",
       "[0 rows x 23 columns]"
      ]
     },
     "execution_count": 22,
     "metadata": {},
     "output_type": "execute_result"
    }
   ],
   "source": [
    "pubs[pubs['local_authority'] == 'Na h-Eileanan Siar'].head(1)"
   ]
  },
  {
   "cell_type": "code",
   "execution_count": 23,
   "id": "fb8ff440",
   "metadata": {},
   "outputs": [
    {
     "name": "stdout",
     "output_type": "stream",
     "text": [
      "[]\n",
      "[]\n",
      "[]\n",
      "[]\n",
      "[]\n"
     ]
    }
   ],
   "source": [
    "# More datascraping lead to the conclusion that Buckinghamshire is separated into these 5 subdistricts.\n",
    "for x in ['South Bucks', 'Chiltern', 'Wycombe', 'Aylesbury Vale', 'Milton Keynes'] :\n",
    "    print(pubs[pubs['local_authority'].str.contains(x)].local_authority.unique())"
   ]
  },
  {
   "cell_type": "code",
   "execution_count": 24,
   "id": "5046c147",
   "metadata": {},
   "outputs": [],
   "source": [
    "to_replace = {}\n",
    "for x in districts[~districts['District'].isin(pubs.local_authority.unique())].District.values :\n",
    "    if(len(pubs[pubs['local_authority'].str.contains(x)].local_authority.unique()) > 0) :\n",
    "        to_replace[pubs[pubs['local_authority'].str.contains(x)].local_authority.unique()[0]] = x\n",
    "to_replace['St. Helens'] = 'St Helens'\n",
    "to_replace['Na h-Eileanan Siar'] = 'Na h-Eileanan Siar (Western Isles)'\n",
    "to_replace['Shepway'] = 'Folkestone and Hythe'\n",
    "for x in ['South Bucks', 'Chiltern', 'Wycombe', 'Aylesbury Vale', 'Milton Keynes'] : \n",
    "    to_replace[x] = 'Buckinghamshire'"
   ]
  },
  {
   "cell_type": "code",
   "execution_count": 25,
   "id": "2b31bbed",
   "metadata": {},
   "outputs": [],
   "source": [
    "pubs['local_authority'] = pubs['local_authority'].replace(to_replace)"
   ]
  },
  {
   "cell_type": "code",
   "execution_count": 26,
   "id": "eaaec766",
   "metadata": {},
   "outputs": [
    {
     "data": {
      "text/plain": [
       "array(['0.32799', '-1.657901'], dtype=object)"
      ]
     },
     "execution_count": 26,
     "metadata": {},
     "output_type": "execute_result"
    }
   ],
   "source": [
    "pubs[~pubs['local_authority'].isin(districts.District.unique())].local_authority.unique()"
   ]
  },
  {
   "cell_type": "code",
   "execution_count": 27,
   "id": "44738962",
   "metadata": {},
   "outputs": [],
   "source": [
    "pubs = pd.merge(pubs, districts, left_on = 'local_authority', right_on = 'District')"
   ]
  },
  {
   "cell_type": "code",
   "execution_count": 28,
   "id": "9fb2a1b1",
   "metadata": {},
   "outputs": [
    {
     "data": {
      "text/html": [
       "<div>\n",
       "<style scoped>\n",
       "    .dataframe tbody tr th:only-of-type {\n",
       "        vertical-align: middle;\n",
       "    }\n",
       "\n",
       "    .dataframe tbody tr th {\n",
       "        vertical-align: top;\n",
       "    }\n",
       "\n",
       "    .dataframe thead th {\n",
       "        text-align: right;\n",
       "    }\n",
       "</style>\n",
       "<table border=\"1\" class=\"dataframe\">\n",
       "  <thead>\n",
       "    <tr style=\"text-align: right;\">\n",
       "      <th></th>\n",
       "      <th>Unnamed: 0</th>\n",
       "      <th>Unnamed: 0.1</th>\n",
       "      <th>Unnamed: 0.1.1</th>\n",
       "      <th>Unnamed: 0.1.1.1</th>\n",
       "      <th>Unnamed: 0.1.1.1.1</th>\n",
       "      <th>Unnamed: 0.1.1.1.1.1</th>\n",
       "      <th>Unnamed: 0.1.1.1.1.1.1</th>\n",
       "      <th>fas_id</th>\n",
       "      <th>name</th>\n",
       "      <th>address</th>\n",
       "      <th>...</th>\n",
       "      <th>local_authority</th>\n",
       "      <th>population</th>\n",
       "      <th>population.1</th>\n",
       "      <th>population.1.1</th>\n",
       "      <th>population.1.1.1</th>\n",
       "      <th>population.1.1.1.1</th>\n",
       "      <th>population.1.1.1.1.1</th>\n",
       "      <th>population.1.1.1.1.1.1</th>\n",
       "      <th>District</th>\n",
       "      <th>Population</th>\n",
       "    </tr>\n",
       "  </thead>\n",
       "  <tbody>\n",
       "    <tr>\n",
       "      <th>0</th>\n",
       "      <td>0</td>\n",
       "      <td>0</td>\n",
       "      <td>0</td>\n",
       "      <td>0</td>\n",
       "      <td>0</td>\n",
       "      <td>0</td>\n",
       "      <td>0</td>\n",
       "      <td>24</td>\n",
       "      <td>Anchor Inn</td>\n",
       "      <td>Upper Street, Stratford St Mary, COLCHESTER, E...</td>\n",
       "      <td>...</td>\n",
       "      <td>Babergh</td>\n",
       "      <td>92036</td>\n",
       "      <td>92036</td>\n",
       "      <td>92036</td>\n",
       "      <td>92036</td>\n",
       "      <td>92036</td>\n",
       "      <td>92036</td>\n",
       "      <td>92036</td>\n",
       "      <td>Babergh</td>\n",
       "      <td>92036</td>\n",
       "    </tr>\n",
       "  </tbody>\n",
       "</table>\n",
       "<p>1 rows × 25 columns</p>\n",
       "</div>"
      ],
      "text/plain": [
       "   Unnamed: 0  Unnamed: 0.1  Unnamed: 0.1.1  Unnamed: 0.1.1.1  \\\n",
       "0           0             0               0                 0   \n",
       "\n",
       "   Unnamed: 0.1.1.1.1  Unnamed: 0.1.1.1.1.1  Unnamed: 0.1.1.1.1.1.1  fas_id  \\\n",
       "0                   0                     0                       0      24   \n",
       "\n",
       "         name                                            address  ...  \\\n",
       "0  Anchor Inn  Upper Street, Stratford St Mary, COLCHESTER, E...  ...   \n",
       "\n",
       "  local_authority population  population.1 population.1.1 population.1.1.1  \\\n",
       "0         Babergh      92036         92036          92036            92036   \n",
       "\n",
       "  population.1.1.1.1  population.1.1.1.1.1  population.1.1.1.1.1.1  District  \\\n",
       "0              92036                 92036                   92036   Babergh   \n",
       "\n",
       "   Population  \n",
       "0       92036  \n",
       "\n",
       "[1 rows x 25 columns]"
      ]
     },
     "execution_count": 28,
     "metadata": {},
     "output_type": "execute_result"
    }
   ],
   "source": [
    "pubs.head(1)"
   ]
  },
  {
   "cell_type": "code",
   "execution_count": 29,
   "id": "37ec404c",
   "metadata": {},
   "outputs": [],
   "source": [
    "pubs = pubs.drop(columns = 'District').rename(columns = {'Population' : 'population'})"
   ]
  },
  {
   "cell_type": "code",
   "execution_count": 30,
   "id": "1a1656a4",
   "metadata": {},
   "outputs": [
    {
     "data": {
      "text/html": [
       "<div>\n",
       "<style scoped>\n",
       "    .dataframe tbody tr th:only-of-type {\n",
       "        vertical-align: middle;\n",
       "    }\n",
       "\n",
       "    .dataframe tbody tr th {\n",
       "        vertical-align: top;\n",
       "    }\n",
       "\n",
       "    .dataframe thead th {\n",
       "        text-align: right;\n",
       "    }\n",
       "</style>\n",
       "<table border=\"1\" class=\"dataframe\">\n",
       "  <thead>\n",
       "    <tr style=\"text-align: right;\">\n",
       "      <th></th>\n",
       "      <th>Unnamed: 0</th>\n",
       "      <th>Unnamed: 0.1</th>\n",
       "      <th>Unnamed: 0.1.1</th>\n",
       "      <th>Unnamed: 0.1.1.1</th>\n",
       "      <th>Unnamed: 0.1.1.1.1</th>\n",
       "      <th>Unnamed: 0.1.1.1.1.1</th>\n",
       "      <th>Unnamed: 0.1.1.1.1.1.1</th>\n",
       "      <th>fas_id</th>\n",
       "      <th>name</th>\n",
       "      <th>address</th>\n",
       "      <th>...</th>\n",
       "      <th>longitude</th>\n",
       "      <th>local_authority</th>\n",
       "      <th>population</th>\n",
       "      <th>population.1</th>\n",
       "      <th>population.1.1</th>\n",
       "      <th>population.1.1.1</th>\n",
       "      <th>population.1.1.1.1</th>\n",
       "      <th>population.1.1.1.1.1</th>\n",
       "      <th>population.1.1.1.1.1.1</th>\n",
       "      <th>population</th>\n",
       "    </tr>\n",
       "  </thead>\n",
       "  <tbody>\n",
       "    <tr>\n",
       "      <th>0</th>\n",
       "      <td>0</td>\n",
       "      <td>0</td>\n",
       "      <td>0</td>\n",
       "      <td>0</td>\n",
       "      <td>0</td>\n",
       "      <td>0</td>\n",
       "      <td>0</td>\n",
       "      <td>24</td>\n",
       "      <td>Anchor Inn</td>\n",
       "      <td>Upper Street, Stratford St Mary, COLCHESTER, E...</td>\n",
       "      <td>...</td>\n",
       "      <td>0.979328</td>\n",
       "      <td>Babergh</td>\n",
       "      <td>92036</td>\n",
       "      <td>92036</td>\n",
       "      <td>92036</td>\n",
       "      <td>92036</td>\n",
       "      <td>92036</td>\n",
       "      <td>92036</td>\n",
       "      <td>92036</td>\n",
       "      <td>92036</td>\n",
       "    </tr>\n",
       "  </tbody>\n",
       "</table>\n",
       "<p>1 rows × 24 columns</p>\n",
       "</div>"
      ],
      "text/plain": [
       "   Unnamed: 0  Unnamed: 0.1  Unnamed: 0.1.1  Unnamed: 0.1.1.1  \\\n",
       "0           0             0               0                 0   \n",
       "\n",
       "   Unnamed: 0.1.1.1.1  Unnamed: 0.1.1.1.1.1  Unnamed: 0.1.1.1.1.1.1  fas_id  \\\n",
       "0                   0                     0                       0      24   \n",
       "\n",
       "         name                                            address  ...  \\\n",
       "0  Anchor Inn  Upper Street, Stratford St Mary, COLCHESTER, E...  ...   \n",
       "\n",
       "  longitude local_authority  population population.1 population.1.1  \\\n",
       "0  0.979328         Babergh       92036        92036          92036   \n",
       "\n",
       "  population.1.1.1  population.1.1.1.1  population.1.1.1.1.1  \\\n",
       "0            92036               92036                 92036   \n",
       "\n",
       "   population.1.1.1.1.1.1  population  \n",
       "0                   92036       92036  \n",
       "\n",
       "[1 rows x 24 columns]"
      ]
     },
     "execution_count": 30,
     "metadata": {},
     "output_type": "execute_result"
    }
   ],
   "source": [
    "pubs.head(1)"
   ]
  },
  {
   "cell_type": "code",
   "execution_count": 31,
   "id": "55b8a31c",
   "metadata": {},
   "outputs": [],
   "source": [
    "pubs.to_csv('open_pubs.csv') "
   ]
  },
  {
   "cell_type": "code",
   "execution_count": 32,
   "id": "34b6ace4",
   "metadata": {},
   "outputs": [],
   "source": [
    "districts.to_csv('districts.csv')"
   ]
  },
  {
   "cell_type": "markdown",
   "id": "06fbb586",
   "metadata": {},
   "source": [
    "# EDA"
   ]
  },
  {
   "cell_type": "code",
   "execution_count": 33,
   "id": "9618e82c",
   "metadata": {},
   "outputs": [
    {
     "name": "stdout",
     "output_type": "stream",
     "text": [
      "359\n"
     ]
    }
   ],
   "source": [
    "print(len(pubs['local_authority'].unique()))"
   ]
  },
  {
   "cell_type": "code",
   "execution_count": 34,
   "id": "d3687ec2",
   "metadata": {},
   "outputs": [
    {
     "name": "stdout",
     "output_type": "stream",
     "text": [
      "51552\n"
     ]
    }
   ],
   "source": [
    "print(len(pubs))"
   ]
  },
  {
   "cell_type": "code",
   "execution_count": 35,
   "id": "2cb52949",
   "metadata": {},
   "outputs": [
    {
     "data": {
      "image/png": "[encoded data removed]",
      "text/plain": [
       "<Figure size 576x432 with 1 Axes>"
      ]
     },
     "metadata": {
      "needs_background": "light"
     },
     "output_type": "display_data"
    }
   ],
   "source": [
    "import matplotlib.pyplot as plt\n",
    "plt.figure(figsize = (8, 6))\n",
    "plt.title('Histogram of pubs per district')\n",
    "pubs.groupby('local_authority').size().hist(bins = 20)\n",
    "plt.savefig('Hist1.png')"
   ]
  },
  {
   "cell_type": "code",
   "execution_count": 113,
   "id": "2ae551f8",
   "metadata": {},
   "outputs": [
    {
     "data": {
      "image/png": "[encoded data removed]",
      "text/plain": [
       "<Figure size 432x288 with 1 Axes>"
      ]
     },
     "metadata": {
      "needs_background": "light"
     },
     "output_type": "display_data"
    }
   ],
   "source": [
    "fig = voronoi_plot_2d(vor)\n",
    "plt.show()"
   ]
  },
  {
   "cell_type": "code",
   "execution_count": 116,
   "id": "33edc5be",
   "metadata": {},
   "outputs": [
    {
     "data": {
      "text/plain": [
       "array([[-2438.75534536,  -275.82128404],\n",
       "       [   -7.05427618,    57.56272085],\n",
       "       [   -9.79715542,    53.12025966],\n",
       "       ...,\n",
       "       [   -2.98590465,    53.40659239],\n",
       "       [   -2.98693393,    53.40619251],\n",
       "       [   -2.9868895 ,    53.406311  ]])"
      ]
     },
     "execution_count": 116,
     "metadata": {},
     "output_type": "execute_result"
    }
   ],
   "source": [
    "vor.vertices"
   ]
  },
  {
   "cell_type": "code",
   "execution_count": 115,
   "id": "550ee89a",
   "metadata": {},
   "outputs": [],
   "source": [
    "#Suppressing the vertices that are not in england\n",
    "#Find bounding box for england\n",
    "#Need to further check the point lie in england"
   ]
  },
  {
   "cell_type": "code",
   "execution_count": 117,
   "id": "d9baf5de",
   "metadata": {},
   "outputs": [],
   "source": [
    "vor.vertices = vor.vertices[np.where(vor.vertices[:,1] > 35) and np.where(vor.vertices[:,1] < 60)]\n",
    "vor.vertices = vor.vertices[np.where(vor.vertices[:,0] > 0) and np.where(vor.vertices[:,1] < 3)]"
   ]
  },
  {
   "cell_type": "code",
   "execution_count": 118,
   "id": "006e2063",
   "metadata": {},
   "outputs": [
    {
     "data": {
      "text/plain": [
       "94296"
      ]
     },
     "execution_count": 118,
     "metadata": {},
     "output_type": "execute_result"
    }
   ],
   "source": [
    "len(vor.vertices)"
   ]
  },
  {
   "cell_type": "code",
   "execution_count": 96,
   "id": "751e593d",
   "metadata": {},
   "outputs": [
    {
     "data": {
      "text/plain": [
       "<matplotlib.collections.PathCollection at 0x1bd00a18ec8>"
      ]
     },
     "execution_count": 96,
     "metadata": {},
     "output_type": "execute_result"
    },
    {
     "data": {
      "image/png": "[encoded data removed]",
      "text/plain": [
       "<Figure size 432x288 with 1 Axes>"
      ]
     },
     "metadata": {
      "needs_background": "light"
     },
     "output_type": "display_data"
    }
   ],
   "source": [
    "plt.scatter(x=vor.vertices[:,0], y = vor.vertices[:,1])"
   ]
  },
  {
   "cell_type": "code",
   "execution_count": 97,
   "id": "123c50ba",
   "metadata": {},
   "outputs": [
    {
     "data": {
      "text/plain": [
       "69"
      ]
     },
     "execution_count": 97,
     "metadata": {},
     "output_type": "execute_result"
    }
   ],
   "source": [
    "len(vor.vertices)"
   ]
  },
  {
   "cell_type": "code",
   "execution_count": null,
   "id": "4c37de66",
   "metadata": {},
   "outputs": [],
   "source": []
  }
 ],
 "metadata": {
  "kernelspec": {
   "display_name": "Python 3",
   "language": "python",
   "name": "python3"
  },
  "language_info": {
   "codemirror_mode": {
    "name": "ipython",
    "version": 3
   },
   "file_extension": ".py",
   "mimetype": "text/x-python",
   "name": "python",
   "nbconvert_exporter": "python",
   "pygments_lexer": "ipython3",
   "version": "3.7.6"
  }
 },
 "nbformat": 4,
 "nbformat_minor": 5
}
