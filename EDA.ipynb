{
 "cells": [
  {
   "cell_type": "markdown",
   "id": "70b65a77-86a0-43ab-aceb-0109f0d6efb4",
   "metadata": {},
   "source": [
    "# Imports"
   ]
  },
  {
   "cell_type": "code",
   "execution_count": 1,
   "id": "a92fcf73-ab91-40c6-9928-5ef4e20423c4",
   "metadata": {},
   "outputs": [],
   "source": [
    "import pandas as pd\n",
    "import numpy as np"
   ]
  },
  {
   "cell_type": "markdown",
   "id": "c05f3c7b-2efa-4e8f-9894-09872446034f",
   "metadata": {},
   "source": [
    "# Load the data"
   ]
  },
  {
   "cell_type": "code",
   "execution_count": 2,
   "id": "89b3b05d-c96b-4bee-8bac-32c98478f0ed",
   "metadata": {},
   "outputs": [],
   "source": [
    "pubs = pd.read_csv('open_pubs.csv')\n",
    "districts_en = pd.read_csv('districts_en.csv')\n",
    "old_districts_en = pd.read_csv('old_districts_en.csv')\n",
    "districts_wales = pd.read_csv('districts_wales.csv')\n",
    "districts_scott = pd.read_csv('districts_scott.csv')"
   ]
  },
  {
   "cell_type": "code",
   "execution_count": 3,
   "id": "58b7c343-f899-41a5-a3a7-6412ec572f1c",
   "metadata": {},
   "outputs": [
    {
     "data": {
      "text/html": [
       "<div>\n",
       "<style scoped>\n",
       "    .dataframe tbody tr th:only-of-type {\n",
       "        vertical-align: middle;\n",
       "    }\n",
       "\n",
       "    .dataframe tbody tr th {\n",
       "        vertical-align: top;\n",
       "    }\n",
       "\n",
       "    .dataframe thead th {\n",
       "        text-align: right;\n",
       "    }\n",
       "</style>\n",
       "<table border=\"1\" class=\"dataframe\">\n",
       "  <thead>\n",
       "    <tr style=\"text-align: right;\">\n",
       "      <th></th>\n",
       "      <th>fas_id</th>\n",
       "      <th>name</th>\n",
       "      <th>address</th>\n",
       "      <th>postcode</th>\n",
       "      <th>easting</th>\n",
       "      <th>northing</th>\n",
       "      <th>latitude</th>\n",
       "      <th>longitude</th>\n",
       "      <th>local_authority</th>\n",
       "    </tr>\n",
       "  </thead>\n",
       "  <tbody>\n",
       "    <tr>\n",
       "      <th>0</th>\n",
       "      <td>24</td>\n",
       "      <td>Anchor Inn</td>\n",
       "      <td>Upper Street, Stratford St Mary, COLCHESTER, E...</td>\n",
       "      <td>CO7 6LW</td>\n",
       "      <td>604748</td>\n",
       "      <td>234405.0</td>\n",
       "      <td>51.97039</td>\n",
       "      <td>0.979328</td>\n",
       "      <td>Babergh</td>\n",
       "    </tr>\n",
       "    <tr>\n",
       "      <th>1</th>\n",
       "      <td>30</td>\n",
       "      <td>Angel Inn</td>\n",
       "      <td>Egremont Street, Glemsford, SUDBURY, Suffolk</td>\n",
       "      <td>CO10 7SA</td>\n",
       "      <td>582888</td>\n",
       "      <td>247368.0</td>\n",
       "      <td>52.094427</td>\n",
       "      <td>0.668408</td>\n",
       "      <td>Babergh</td>\n",
       "    </tr>\n",
       "    <tr>\n",
       "      <th>2</th>\n",
       "      <td>63</td>\n",
       "      <td>Black Boy Hotel</td>\n",
       "      <td>7 Market Hill, SUDBURY, Suffolk</td>\n",
       "      <td>CO10 2EA</td>\n",
       "      <td>587356</td>\n",
       "      <td>241327.0</td>\n",
       "      <td>52.038683</td>\n",
       "      <td>0.730226</td>\n",
       "      <td>Babergh</td>\n",
       "    </tr>\n",
       "    <tr>\n",
       "      <th>3</th>\n",
       "      <td>64</td>\n",
       "      <td>Black Horse</td>\n",
       "      <td>Lower Street, Stratford St Mary, COLCHESTER, E...</td>\n",
       "      <td>CO7 6JS</td>\n",
       "      <td>604270</td>\n",
       "      <td>233920.0</td>\n",
       "      <td>51.966211</td>\n",
       "      <td>0.972091</td>\n",
       "      <td>Babergh</td>\n",
       "    </tr>\n",
       "    <tr>\n",
       "      <th>4</th>\n",
       "      <td>65</td>\n",
       "      <td>Black Lion</td>\n",
       "      <td>Lion Road, Glemsford, SUDBURY, Suffolk</td>\n",
       "      <td>CO10 7RF</td>\n",
       "      <td>582750</td>\n",
       "      <td>248298.0</td>\n",
       "      <td>52.102815</td>\n",
       "      <td>0.666893</td>\n",
       "      <td>Babergh</td>\n",
       "    </tr>\n",
       "  </tbody>\n",
       "</table>\n",
       "</div>"
      ],
      "text/plain": [
       "   fas_id             name                                            address  \\\n",
       "0      24       Anchor Inn  Upper Street, Stratford St Mary, COLCHESTER, E...   \n",
       "1      30        Angel Inn       Egremont Street, Glemsford, SUDBURY, Suffolk   \n",
       "2      63  Black Boy Hotel                    7 Market Hill, SUDBURY, Suffolk   \n",
       "3      64      Black Horse  Lower Street, Stratford St Mary, COLCHESTER, E...   \n",
       "4      65       Black Lion             Lion Road, Glemsford, SUDBURY, Suffolk   \n",
       "\n",
       "   postcode  easting  northing   latitude longitude local_authority  \n",
       "0   CO7 6LW   604748  234405.0   51.97039  0.979328         Babergh  \n",
       "1  CO10 7SA   582888  247368.0  52.094427  0.668408         Babergh  \n",
       "2  CO10 2EA   587356  241327.0  52.038683  0.730226         Babergh  \n",
       "3   CO7 6JS   604270  233920.0  51.966211  0.972091         Babergh  \n",
       "4  CO10 7RF   582750  248298.0  52.102815  0.666893         Babergh  "
      ]
     },
     "execution_count": 3,
     "metadata": {},
     "output_type": "execute_result"
    }
   ],
   "source": [
    "pubs.head()"
   ]
  },
  {
   "cell_type": "code",
   "execution_count": 4,
   "id": "11da0612-ede3-436e-b5ea-9f3d42113181",
   "metadata": {},
   "outputs": [],
   "source": [
    "districts = pd.concat([districts_en, districts_wales, districts_scott], ignore_index = True)"
   ]
  },
  {
   "cell_type": "code",
   "execution_count": 5,
   "id": "86c73b00-3fda-4be0-a435-b82881f7bd64",
   "metadata": {},
   "outputs": [
    {
     "data": {
      "text/html": [
       "<div>\n",
       "<style scoped>\n",
       "    .dataframe tbody tr th:only-of-type {\n",
       "        vertical-align: middle;\n",
       "    }\n",
       "\n",
       "    .dataframe tbody tr th {\n",
       "        vertical-align: top;\n",
       "    }\n",
       "\n",
       "    .dataframe thead th {\n",
       "        text-align: right;\n",
       "    }\n",
       "</style>\n",
       "<table border=\"1\" class=\"dataframe\">\n",
       "  <thead>\n",
       "    <tr style=\"text-align: right;\">\n",
       "      <th></th>\n",
       "      <th>District</th>\n",
       "      <th>Population</th>\n",
       "    </tr>\n",
       "  </thead>\n",
       "  <tbody>\n",
       "    <tr>\n",
       "      <th>0</th>\n",
       "      <td>Adur</td>\n",
       "      <td>64301</td>\n",
       "    </tr>\n",
       "    <tr>\n",
       "      <th>1</th>\n",
       "      <td>Allerdale</td>\n",
       "      <td>97761</td>\n",
       "    </tr>\n",
       "    <tr>\n",
       "      <th>2</th>\n",
       "      <td>Amber Valley</td>\n",
       "      <td>128147</td>\n",
       "    </tr>\n",
       "    <tr>\n",
       "      <th>3</th>\n",
       "      <td>Arun</td>\n",
       "      <td>160758</td>\n",
       "    </tr>\n",
       "    <tr>\n",
       "      <th>4</th>\n",
       "      <td>Ashfield</td>\n",
       "      <td>127918</td>\n",
       "    </tr>\n",
       "  </tbody>\n",
       "</table>\n",
       "</div>"
      ],
      "text/plain": [
       "       District  Population\n",
       "0          Adur       64301\n",
       "1     Allerdale       97761\n",
       "2  Amber Valley      128147\n",
       "3          Arun      160758\n",
       "4      Ashfield      127918"
      ]
     },
     "execution_count": 5,
     "metadata": {},
     "output_type": "execute_result"
    }
   ],
   "source": [
    "districts.head()"
   ]
  },
  {
   "cell_type": "markdown",
   "id": "d5808f2d-b76d-469e-b4eb-a1ae61c9c846",
   "metadata": {},
   "source": [
    "# Small cleaning of pubs\n",
    "\n",
    "It appears that there is a problem with two of the entries. More precisely with the way their names are written in the CSV file. We need to clean those two entries."
   ]
  },
  {
   "cell_type": "code",
   "execution_count": 6,
   "id": "8e2cd9dc-880c-4da3-9500-cc44f7771941",
   "metadata": {},
   "outputs": [
    {
     "data": {
      "text/plain": [
       "fas_id             0\n",
       "name               0\n",
       "address            0\n",
       "postcode           0\n",
       "easting            0\n",
       "northing           0\n",
       "latitude           0\n",
       "longitude          0\n",
       "local_authority    2\n",
       "dtype: int64"
      ]
     },
     "execution_count": 6,
     "metadata": {},
     "output_type": "execute_result"
    }
   ],
   "source": [
    "pubs.isna().sum()"
   ]
  },
  {
   "cell_type": "code",
   "execution_count": 7,
   "id": "4d086339-f9ed-4792-97d1-caf28b7f234d",
   "metadata": {},
   "outputs": [
    {
     "data": {
      "text/html": [
       "<div>\n",
       "<style scoped>\n",
       "    .dataframe tbody tr th:only-of-type {\n",
       "        vertical-align: middle;\n",
       "    }\n",
       "\n",
       "    .dataframe tbody tr th {\n",
       "        vertical-align: top;\n",
       "    }\n",
       "\n",
       "    .dataframe thead th {\n",
       "        text-align: right;\n",
       "    }\n",
       "</style>\n",
       "<table border=\"1\" class=\"dataframe\">\n",
       "  <thead>\n",
       "    <tr style=\"text-align: right;\">\n",
       "      <th></th>\n",
       "      <th>fas_id</th>\n",
       "      <th>name</th>\n",
       "      <th>address</th>\n",
       "      <th>postcode</th>\n",
       "      <th>easting</th>\n",
       "      <th>northing</th>\n",
       "      <th>latitude</th>\n",
       "      <th>longitude</th>\n",
       "      <th>local_authority</th>\n",
       "    </tr>\n",
       "  </thead>\n",
       "  <tbody>\n",
       "    <tr>\n",
       "      <th>768</th>\n",
       "      <td>7499</td>\n",
       "      <td>J D Wetherspoon \\\"The Star\\\",\"105 High Street,...</td>\n",
       "      <td>EN11 8TN</td>\n",
       "      <td>537293</td>\n",
       "      <td>208856</td>\n",
       "      <td>51.761556</td>\n",
       "      <td>-0.012036</td>\n",
       "      <td>Broxbourne</td>\n",
       "      <td>NaN</td>\n",
       "    </tr>\n",
       "    <tr>\n",
       "      <th>43212</th>\n",
       "      <td>412676</td>\n",
       "      <td>\\\"Rory's Bar\\\",\"57 Market Place, Malton, North...</td>\n",
       "      <td>YO17 7LX</td>\n",
       "      <td>478582</td>\n",
       "      <td>471715</td>\n",
       "      <td>54.135281</td>\n",
       "      <td>-0.798783</td>\n",
       "      <td>Ryedale</td>\n",
       "      <td>NaN</td>\n",
       "    </tr>\n",
       "  </tbody>\n",
       "</table>\n",
       "</div>"
      ],
      "text/plain": [
       "       fas_id                                               name   address  \\\n",
       "768      7499  J D Wetherspoon \\\"The Star\\\",\"105 High Street,...  EN11 8TN   \n",
       "43212  412676  \\\"Rory's Bar\\\",\"57 Market Place, Malton, North...  YO17 7LX   \n",
       "\n",
       "      postcode  easting   northing   latitude   longitude local_authority  \n",
       "768     537293   208856  51.761556  -0.012036  Broxbourne             NaN  \n",
       "43212   478582   471715  54.135281  -0.798783     Ryedale             NaN  "
      ]
     },
     "execution_count": 7,
     "metadata": {},
     "output_type": "execute_result"
    }
   ],
   "source": [
    "pubs[pubs['local_authority'].isna()]"
   ]
  },
  {
   "cell_type": "code",
   "execution_count": 8,
   "id": "bd682803-6a0e-4952-a90b-2f37aab26d07",
   "metadata": {},
   "outputs": [],
   "source": [
    "pubs.loc[[768, 43212], ['local_authority', 'longitude', 'latitude', 'northing', 'easting', 'postcode']] = pubs.loc[[768, 43212], ['longitude', 'latitude', 'northing', 'easting', 'postcode', 'address']].values"
   ]
  },
  {
   "cell_type": "code",
   "execution_count": 9,
   "id": "356ed87c-094e-4cc8-9533-a059638bfeb1",
   "metadata": {},
   "outputs": [],
   "source": [
    "pubs.loc[[768, 43212], ['name', 'address']] = np.array([x.split(',', 1) for x in pubs.loc[[768, 43212]].name.values])"
   ]
  },
  {
   "cell_type": "code",
   "execution_count": 10,
   "id": "484ef7b4-d809-4a55-b665-85817996a22a",
   "metadata": {},
   "outputs": [],
   "source": [
    "pubs.loc[[768, 43212], 'address'] = pubs.loc[[768, 43212], 'address'].str[1:]"
   ]
  },
  {
   "cell_type": "code",
   "execution_count": 11,
   "id": "cdb84d9e-25d8-4c5c-962a-cb82a475b233",
   "metadata": {},
   "outputs": [
    {
     "data": {
      "text/html": [
       "<div>\n",
       "<style scoped>\n",
       "    .dataframe tbody tr th:only-of-type {\n",
       "        vertical-align: middle;\n",
       "    }\n",
       "\n",
       "    .dataframe tbody tr th {\n",
       "        vertical-align: top;\n",
       "    }\n",
       "\n",
       "    .dataframe thead th {\n",
       "        text-align: right;\n",
       "    }\n",
       "</style>\n",
       "<table border=\"1\" class=\"dataframe\">\n",
       "  <thead>\n",
       "    <tr style=\"text-align: right;\">\n",
       "      <th></th>\n",
       "      <th>fas_id</th>\n",
       "      <th>name</th>\n",
       "      <th>address</th>\n",
       "      <th>postcode</th>\n",
       "      <th>easting</th>\n",
       "      <th>northing</th>\n",
       "      <th>latitude</th>\n",
       "      <th>longitude</th>\n",
       "      <th>local_authority</th>\n",
       "    </tr>\n",
       "  </thead>\n",
       "  <tbody>\n",
       "    <tr>\n",
       "      <th>768</th>\n",
       "      <td>7499</td>\n",
       "      <td>J D Wetherspoon \\\"The Star\\\"</td>\n",
       "      <td>105 High Street, Hoddesdon, Hertfordshire</td>\n",
       "      <td>EN11 8TN</td>\n",
       "      <td>537293</td>\n",
       "      <td>208856.0</td>\n",
       "      <td>51.761556</td>\n",
       "      <td>-0.012036</td>\n",
       "      <td>Broxbourne</td>\n",
       "    </tr>\n",
       "    <tr>\n",
       "      <th>43212</th>\n",
       "      <td>412676</td>\n",
       "      <td>\\\"Rory's Bar\\\"</td>\n",
       "      <td>57 Market Place, Malton, North Yorkshire</td>\n",
       "      <td>YO17 7LX</td>\n",
       "      <td>478582</td>\n",
       "      <td>471715.0</td>\n",
       "      <td>54.135281</td>\n",
       "      <td>-0.798783</td>\n",
       "      <td>Ryedale</td>\n",
       "    </tr>\n",
       "  </tbody>\n",
       "</table>\n",
       "</div>"
      ],
      "text/plain": [
       "       fas_id                          name  \\\n",
       "768      7499  J D Wetherspoon \\\"The Star\\\"   \n",
       "43212  412676                \\\"Rory's Bar\\\"   \n",
       "\n",
       "                                         address  postcode easting  northing  \\\n",
       "768    105 High Street, Hoddesdon, Hertfordshire  EN11 8TN  537293  208856.0   \n",
       "43212   57 Market Place, Malton, North Yorkshire  YO17 7LX  478582  471715.0   \n",
       "\n",
       "        latitude  longitude local_authority  \n",
       "768    51.761556  -0.012036      Broxbourne  \n",
       "43212  54.135281  -0.798783         Ryedale  "
      ]
     },
     "execution_count": 11,
     "metadata": {},
     "output_type": "execute_result"
    }
   ],
   "source": [
    "pubs.loc[[768, 43212]]"
   ]
  },
  {
   "cell_type": "markdown",
   "id": "521b1142-df30-4dca-a2a3-dae9c41c7355",
   "metadata": {},
   "source": [
    "# Quick look at the intersection between our datasets"
   ]
  },
  {
   "cell_type": "code",
   "execution_count": 12,
   "id": "0b49568a-00bd-4245-b4b7-c5f69def9909",
   "metadata": {},
   "outputs": [
    {
     "name": "stdout",
     "output_type": "stream",
     "text": [
      "376\n"
     ]
    }
   ],
   "source": [
    "print(len(pubs.local_authority.unique()))"
   ]
  },
  {
   "cell_type": "code",
   "execution_count": 13,
   "id": "75f73158-bceb-4c35-81a4-9d2bb22520d8",
   "metadata": {},
   "outputs": [
    {
     "name": "stdout",
     "output_type": "stream",
     "text": [
      "363\n"
     ]
    }
   ],
   "source": [
    "print(len(districts))"
   ]
  },
  {
   "cell_type": "code",
   "execution_count": 14,
   "id": "43d527ab-7727-43bd-b34d-24c1d4af4944",
   "metadata": {},
   "outputs": [
    {
     "name": "stdout",
     "output_type": "stream",
     "text": [
      "341\n"
     ]
    }
   ],
   "source": [
    "print(len(np.intersect1d(districts.District.unique(), pubs.local_authority.unique())))"
   ]
  },
  {
   "cell_type": "code",
   "execution_count": 15,
   "id": "35aa9180-d465-480a-a5b3-924266bd21c7",
   "metadata": {},
   "outputs": [
    {
     "name": "stdout",
     "output_type": "stream",
     "text": [
      "21\n"
     ]
    }
   ],
   "source": [
    "print(len(np.intersect1d(old_districts_en.District.unique(), pubs.local_authority.unique())))"
   ]
  },
  {
   "cell_type": "code",
   "execution_count": 16,
   "id": "1c1dfd75-8f2d-44f6-835c-97d9827653cc",
   "metadata": {},
   "outputs": [],
   "source": [
    "pubs['local_authority'] = pubs['local_authority'].replace({x: y for (x, y) in old_districts_en.values})"
   ]
  },
  {
   "cell_type": "code",
   "execution_count": 17,
   "id": "9e4c1e7f-4637-4b91-ae38-b4c3bc7dcc72",
   "metadata": {},
   "outputs": [
    {
     "data": {
      "text/html": [
       "<div>\n",
       "<style scoped>\n",
       "    .dataframe tbody tr th:only-of-type {\n",
       "        vertical-align: middle;\n",
       "    }\n",
       "\n",
       "    .dataframe tbody tr th {\n",
       "        vertical-align: top;\n",
       "    }\n",
       "\n",
       "    .dataframe thead th {\n",
       "        text-align: right;\n",
       "    }\n",
       "</style>\n",
       "<table border=\"1\" class=\"dataframe\">\n",
       "  <thead>\n",
       "    <tr style=\"text-align: right;\">\n",
       "      <th></th>\n",
       "      <th>District</th>\n",
       "      <th>Population</th>\n",
       "    </tr>\n",
       "  </thead>\n",
       "  <tbody>\n",
       "    <tr>\n",
       "      <th>32</th>\n",
       "      <td>Bristol</td>\n",
       "      <td>463377</td>\n",
       "    </tr>\n",
       "    <tr>\n",
       "      <th>38</th>\n",
       "      <td>Buckinghamshire</td>\n",
       "      <td>543973</td>\n",
       "    </tr>\n",
       "    <tr>\n",
       "      <th>96</th>\n",
       "      <td>Folkestone and Hythe</td>\n",
       "      <td>112996</td>\n",
       "    </tr>\n",
       "    <tr>\n",
       "      <th>121</th>\n",
       "      <td>Herefordshire</td>\n",
       "      <td>192801</td>\n",
       "    </tr>\n",
       "    <tr>\n",
       "      <th>128</th>\n",
       "      <td>Kingston upon Hull</td>\n",
       "      <td>259778</td>\n",
       "    </tr>\n",
       "    <tr>\n",
       "      <th>153</th>\n",
       "      <td>Malvern Hills</td>\n",
       "      <td>78698</td>\n",
       "    </tr>\n",
       "    <tr>\n",
       "      <th>215</th>\n",
       "      <td>St Helens</td>\n",
       "      <td>180585</td>\n",
       "    </tr>\n",
       "    <tr>\n",
       "      <th>317</th>\n",
       "      <td>Neath Port Talbot †</td>\n",
       "      <td>144386</td>\n",
       "    </tr>\n",
       "    <tr>\n",
       "      <th>322</th>\n",
       "      <td>Gwynedd *</td>\n",
       "      <td>125171</td>\n",
       "    </tr>\n",
       "    <tr>\n",
       "      <th>323</th>\n",
       "      <td>Conwy ‡</td>\n",
       "      <td>118184</td>\n",
       "    </tr>\n",
       "    <tr>\n",
       "      <th>327</th>\n",
       "      <td>Ceredigion §</td>\n",
       "      <td>72895</td>\n",
       "    </tr>\n",
       "    <tr>\n",
       "      <th>329</th>\n",
       "      <td>Blaenau Gwent</td>\n",
       "      <td>70020</td>\n",
       "    </tr>\n",
       "    <tr>\n",
       "      <th>354</th>\n",
       "      <td>Stirling</td>\n",
       "      <td>94330</td>\n",
       "    </tr>\n",
       "    <tr>\n",
       "      <th>360</th>\n",
       "      <td>Na h-Eileanan Siar (Western Isles)</td>\n",
       "      <td>26830</td>\n",
       "    </tr>\n",
       "    <tr>\n",
       "      <th>361</th>\n",
       "      <td>Shetland</td>\n",
       "      <td>22990</td>\n",
       "    </tr>\n",
       "    <tr>\n",
       "      <th>362</th>\n",
       "      <td>Orkney</td>\n",
       "      <td>22190</td>\n",
       "    </tr>\n",
       "  </tbody>\n",
       "</table>\n",
       "</div>"
      ],
      "text/plain": [
       "                               District  Population\n",
       "32                              Bristol      463377\n",
       "38                      Buckinghamshire      543973\n",
       "96                 Folkestone and Hythe      112996\n",
       "121                       Herefordshire      192801\n",
       "128                  Kingston upon Hull      259778\n",
       "153                       Malvern Hills       78698\n",
       "215                           St Helens      180585\n",
       "317                 Neath Port Talbot †      144386\n",
       "322                           Gwynedd *      125171\n",
       "323                             Conwy ‡      118184\n",
       "327                        Ceredigion §       72895\n",
       "329                       Blaenau Gwent       70020\n",
       "354                            Stirling       94330\n",
       "360  Na h-Eileanan Siar (Western Isles)       26830\n",
       "361                            Shetland       22990\n",
       "362                              Orkney       22190"
      ]
     },
     "execution_count": 17,
     "metadata": {},
     "output_type": "execute_result"
    }
   ],
   "source": [
    "districts[~districts['District'].isin(pubs.local_authority.unique())]"
   ]
  },
  {
   "cell_type": "code",
   "execution_count": 22,
   "id": "2f067209-7f38-4f63-9810-e627379d57bf",
   "metadata": {},
   "outputs": [],
   "source": [
    "districts.loc[[317, 322, 323, 327], 'District'] = districts.loc[[317, 322, 323, 327], 'District'].apply(lambda x: x[:-2])"
   ]
  },
  {
   "cell_type": "code",
   "execution_count": 23,
   "id": "6dbc31b2-3ff5-4bfd-bf1d-80da8a34d17d",
   "metadata": {},
   "outputs": [
    {
     "data": {
      "text/html": [
       "<div>\n",
       "<style scoped>\n",
       "    .dataframe tbody tr th:only-of-type {\n",
       "        vertical-align: middle;\n",
       "    }\n",
       "\n",
       "    .dataframe tbody tr th {\n",
       "        vertical-align: top;\n",
       "    }\n",
       "\n",
       "    .dataframe thead th {\n",
       "        text-align: right;\n",
       "    }\n",
       "</style>\n",
       "<table border=\"1\" class=\"dataframe\">\n",
       "  <thead>\n",
       "    <tr style=\"text-align: right;\">\n",
       "      <th></th>\n",
       "      <th>District</th>\n",
       "      <th>Population</th>\n",
       "    </tr>\n",
       "  </thead>\n",
       "  <tbody>\n",
       "    <tr>\n",
       "      <th>32</th>\n",
       "      <td>Bristol</td>\n",
       "      <td>463377</td>\n",
       "    </tr>\n",
       "    <tr>\n",
       "      <th>38</th>\n",
       "      <td>Buckinghamshire</td>\n",
       "      <td>543973</td>\n",
       "    </tr>\n",
       "    <tr>\n",
       "      <th>96</th>\n",
       "      <td>Folkestone and Hythe</td>\n",
       "      <td>112996</td>\n",
       "    </tr>\n",
       "    <tr>\n",
       "      <th>121</th>\n",
       "      <td>Herefordshire</td>\n",
       "      <td>192801</td>\n",
       "    </tr>\n",
       "    <tr>\n",
       "      <th>128</th>\n",
       "      <td>Kingston upon Hull</td>\n",
       "      <td>259778</td>\n",
       "    </tr>\n",
       "    <tr>\n",
       "      <th>153</th>\n",
       "      <td>Malvern Hills</td>\n",
       "      <td>78698</td>\n",
       "    </tr>\n",
       "    <tr>\n",
       "      <th>215</th>\n",
       "      <td>St Helens</td>\n",
       "      <td>180585</td>\n",
       "    </tr>\n",
       "    <tr>\n",
       "      <th>329</th>\n",
       "      <td>Blaenau Gwent</td>\n",
       "      <td>70020</td>\n",
       "    </tr>\n",
       "    <tr>\n",
       "      <th>354</th>\n",
       "      <td>Stirling</td>\n",
       "      <td>94330</td>\n",
       "    </tr>\n",
       "    <tr>\n",
       "      <th>360</th>\n",
       "      <td>Na h-Eileanan Siar (Western Isles)</td>\n",
       "      <td>26830</td>\n",
       "    </tr>\n",
       "    <tr>\n",
       "      <th>361</th>\n",
       "      <td>Shetland</td>\n",
       "      <td>22990</td>\n",
       "    </tr>\n",
       "    <tr>\n",
       "      <th>362</th>\n",
       "      <td>Orkney</td>\n",
       "      <td>22190</td>\n",
       "    </tr>\n",
       "  </tbody>\n",
       "</table>\n",
       "</div>"
      ],
      "text/plain": [
       "                               District  Population\n",
       "32                              Bristol      463377\n",
       "38                      Buckinghamshire      543973\n",
       "96                 Folkestone and Hythe      112996\n",
       "121                       Herefordshire      192801\n",
       "128                  Kingston upon Hull      259778\n",
       "153                       Malvern Hills       78698\n",
       "215                           St Helens      180585\n",
       "329                       Blaenau Gwent       70020\n",
       "354                            Stirling       94330\n",
       "360  Na h-Eileanan Siar (Western Isles)       26830\n",
       "361                            Shetland       22990\n",
       "362                              Orkney       22190"
      ]
     },
     "execution_count": 23,
     "metadata": {},
     "output_type": "execute_result"
    }
   ],
   "source": [
    "districts[~districts['District'].isin(pubs.local_authority.unique())]"
   ]
  },
  {
   "cell_type": "code",
   "execution_count": 25,
   "id": "579d8574-0c2b-47be-adfc-092e95cf7903",
   "metadata": {},
   "outputs": [
    {
     "name": "stdout",
     "output_type": "stream",
     "text": [
      "Bristol\n",
      "['Bristol, City of']\n",
      "Buckinghamshire\n",
      "[]\n",
      "Folkestone and Hythe\n",
      "[]\n",
      "Herefordshire\n",
      "['Herefordshire, County of' 'Herefordshire and Malvern Hills']\n",
      "Kingston upon Hull\n",
      "['Kingston upon Hull, City of']\n",
      "Malvern Hills\n",
      "['Herefordshire and Malvern Hills']\n",
      "St Helens\n",
      "[]\n",
      "Blaenau Gwent\n",
      "[]\n",
      "Stirling\n",
      "[]\n",
      "Na h-Eileanan Siar (Western Isles)\n"
     ]
    },
    {
     "name": "stderr",
     "output_type": "stream",
     "text": [
      "C:\\Users\\Quent\\AppData\\Local\\Temp/ipykernel_3936/3556083741.py:3: UserWarning: This pattern is interpreted as a regular expression, and has match groups. To actually get the groups, use str.extract.\n",
      "  print(pubs[pubs['local_authority'].str.contains(x)].local_authority.unique())\n"
     ]
    },
    {
     "name": "stdout",
     "output_type": "stream",
     "text": [
      "[]\n",
      "Shetland\n",
      "[]\n",
      "Orkney\n",
      "['Orkney Islands']\n"
     ]
    }
   ],
   "source": [
    "for x in districts[~districts['District'].isin(pubs.local_authority.unique())].District.values :\n",
    "    print(x)\n",
    "    print(pubs[pubs['local_authority'].str.contains(x)].local_authority.unique())"
   ]
  },
  {
   "cell_type": "code",
   "execution_count": 23,
   "id": "d9572d81-0cf6-4109-a50c-588145f8a048",
   "metadata": {},
   "outputs": [
    {
     "data": {
      "text/html": [
       "<div>\n",
       "<style scoped>\n",
       "    .dataframe tbody tr th:only-of-type {\n",
       "        vertical-align: middle;\n",
       "    }\n",
       "\n",
       "    .dataframe tbody tr th {\n",
       "        vertical-align: top;\n",
       "    }\n",
       "\n",
       "    .dataframe thead th {\n",
       "        text-align: right;\n",
       "    }\n",
       "</style>\n",
       "<table border=\"1\" class=\"dataframe\">\n",
       "  <thead>\n",
       "    <tr style=\"text-align: right;\">\n",
       "      <th></th>\n",
       "      <th>fas_id</th>\n",
       "      <th>name</th>\n",
       "      <th>address</th>\n",
       "      <th>postcode</th>\n",
       "      <th>easting</th>\n",
       "      <th>northing</th>\n",
       "      <th>latitude</th>\n",
       "      <th>longitude</th>\n",
       "      <th>local_authority</th>\n",
       "    </tr>\n",
       "  </thead>\n",
       "  <tbody>\n",
       "    <tr>\n",
       "      <th>20752</th>\n",
       "      <td>210755</td>\n",
       "      <td>Ashton-In-Makerfield Golf Club Ltd</td>\n",
       "      <td>Ashton In Makerfield Golf Club, Liverpool Road...</td>\n",
       "      <td>WN4 0YT</td>\n",
       "      <td>355858</td>\n",
       "      <td>398563.0</td>\n",
       "      <td>53.481915</td>\n",
       "      <td>-2.666636</td>\n",
       "      <td>St. Helens</td>\n",
       "    </tr>\n",
       "  </tbody>\n",
       "</table>\n",
       "</div>"
      ],
      "text/plain": [
       "       fas_id                                name  \\\n",
       "20752  210755  Ashton-In-Makerfield Golf Club Ltd   \n",
       "\n",
       "                                                 address postcode easting  \\\n",
       "20752  Ashton In Makerfield Golf Club, Liverpool Road...  WN4 0YT  355858   \n",
       "\n",
       "       northing   latitude  longitude local_authority  \n",
       "20752  398563.0  53.481915  -2.666636      St. Helens  "
      ]
     },
     "execution_count": 23,
     "metadata": {},
     "output_type": "execute_result"
    }
   ],
   "source": [
    "pubs[pubs['local_authority'] == 'St. Helens'].head(1)"
   ]
  },
  {
   "cell_type": "code",
   "execution_count": 27,
   "id": "0c571c14-fae7-4022-9ca3-5c1dc6a7dae5",
   "metadata": {},
   "outputs": [
    {
     "name": "stdout",
     "output_type": "stream",
     "text": [
      "['South Bucks']\n",
      "['Chiltern']\n",
      "['Wycombe']\n",
      "['Aylesbury Vale']\n",
      "['Milton Keynes']\n"
     ]
    }
   ],
   "source": [
    "# More datascraping lead to the conclusion that Buckinghamshire is separated into these 5 subdistricts.\n",
    "for x in ['South Bucks', 'Chiltern', 'Wycombe', 'Aylesbury Vale', 'Milton Keynes'] :\n",
    "    print(pubs[pubs['local_authority'].str.contains(x)].local_authority.unique())"
   ]
  },
  {
   "cell_type": "code",
   "execution_count": 32,
   "id": "4179ca67-3ebb-41c0-a947-45f6c02bfecc",
   "metadata": {},
   "outputs": [],
   "source": [
    "to_replace = {}\n",
    "for x in districts[~districts['Name'].isin(pubs.local_authority.unique())].Name.values :\n",
    "    if(len(pubs[pubs['local_authority'].str.contains(x)].local_authority.unique()) > 0) :\n",
    "        to_replace[pubs[pubs['local_authority'].str.contains(x)].local_authority.unique()[0]] = x\n",
    "to_replace['St. Helens'] = 'St Helens'\n",
    "for x in ['South Bucks', 'Chiltern', 'Wycombe', 'Aylesbury Vale', 'Milton Keynes'] : \n",
    "    to_replace[x] = 'Buckinghamshire'"
   ]
  },
  {
   "cell_type": "code",
   "execution_count": 36,
   "id": "867ac7a7-2ea7-4a3c-bf96-8a36510f3e5f",
   "metadata": {},
   "outputs": [],
   "source": [
    "pubs['local_authority'] = pubs['local_authority'].replace(to_replace)"
   ]
  },
  {
   "cell_type": "code",
   "execution_count": 38,
   "id": "b50dd5c1-e883-435c-a357-a7268eacfdbf",
   "metadata": {},
   "outputs": [
    {
     "data": {
      "text/plain": [
       "array(['Shepway', 'Aberdeen City', 'Aberdeenshire', 'Angus',\n",
       "       'Argyll and Bute', 'Clackmannanshire', 'Na h-Eileanan Siar',\n",
       "       'Dumfries and Galloway', 'Dundee City', 'East Ayrshire',\n",
       "       'East Dunbartonshire', 'East Lothian', 'East Renfrewshire',\n",
       "       'City of Edinburgh', 'Falkirk', 'Fife', 'Glasgow City', 'Highland',\n",
       "       'Inverclyde', 'Midlothian', 'Moray', 'North Ayrshire',\n",
       "       'North Lanarkshire', 'Orkney Islands', 'Perth and Kinross',\n",
       "       'Renfrewshire', 'Scottish Borders', 'South Ayrshire',\n",
       "       'South Lanarkshire', 'West Dunbartonshire', 'West Lothian',\n",
       "       'Isle of Anglesey', 'Bridgend', 'Caerphilly', 'Rhondda Cynon Taf',\n",
       "       'Cardiff', 'Carmarthenshire', 'Neath Port Talbot', 'Ceredigion',\n",
       "       'Conwy', 'Denbighshire', 'Flintshire', 'Gwynedd', 'Merthyr Tydfil',\n",
       "       'Monmouthshire', 'Torfaen', 'Newport', 'Pembrokeshire', 'Powys',\n",
       "       'Swansea', 'Vale of Glamorgan', 'Wrexham'], dtype=object)"
      ]
     },
     "execution_count": 38,
     "metadata": {},
     "output_type": "execute_result"
    }
   ],
   "source": [
    "pubs[~pubs['local_authority'].isin(districts.District.unique())].local_authority.unique()"
   ]
  },
  {
   "cell_type": "markdown",
   "id": "a3630fde-7a66-4e36-826b-48e556170ba9",
   "metadata": {},
   "source": [
    "Only districts outside of England remain to be sorted (if we want to)."
   ]
  },
  {
   "cell_type": "code",
   "execution_count": null,
   "id": "fd019f30-cc6d-441b-9579-ccfef839c391",
   "metadata": {},
   "outputs": [],
   "source": []
  }
 ],
 "metadata": {
  "kernelspec": {
   "display_name": "Python 3 (ipykernel)",
   "language": "python",
   "name": "python3"
  },
  "language_info": {
   "codemirror_mode": {
    "name": "ipython",
    "version": 3
   },
   "file_extension": ".py",
   "mimetype": "text/x-python",
   "name": "python",
   "nbconvert_exporter": "python",
   "pygments_lexer": "ipython3",
   "version": "3.10.0"
  }
 },
 "nbformat": 4,
 "nbformat_minor": 5
}
