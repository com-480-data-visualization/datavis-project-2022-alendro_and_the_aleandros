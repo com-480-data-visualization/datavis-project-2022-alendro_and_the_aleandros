{
 "cells": [
  {
   "cell_type": "code",
   "execution_count": 1,
   "id": "b5d229af-8b8a-4b17-9a09-50b9f04f41f8",
   "metadata": {},
   "outputs": [],
   "source": [
    "import pandas as pd\n",
    "import requests\n",
    "from bs4 import BeautifulSoup"
   ]
  },
  {
   "cell_type": "code",
   "execution_count": 2,
   "id": "c6c6b327-24f5-4e15-874d-90b2eb318e82",
   "metadata": {},
   "outputs": [],
   "source": [
    "en = \"https://en.wikipedia.org/wiki/List_of_English_districts\"\n",
    "wales = \"https://en.wikipedia.org/wiki/List_of_Welsh_principal_areas\"\n",
    "scott = \"https://en.wikipedia.org/wiki/Subdivisions_of_Scotland\"\n",
    "response_en = requests.get(en)\n",
    "response_wales = requests.get(wales)\n",
    "response_scott = requests.get(scott)"
   ]
  },
  {
   "cell_type": "code",
   "execution_count": 3,
   "id": "ccb3b10d-d816-40b2-9f1f-e9653504cbe2",
   "metadata": {},
   "outputs": [],
   "source": [
    "# Here we get every table on the Wikipedia page\n",
    "soup_en = BeautifulSoup(response_en.text, 'lxml')\n",
    "soup_wales = BeautifulSoup(response_wales.text, 'lxml')\n",
    "soup_scott = BeautifulSoup(response_scott.text, 'lxml')\n",
    "table_en = soup_en.select(\"table.wikitable\")\n",
    "table_wales = soup_wales.select(\"table.wikitable\")\n",
    "table_scott = soup_scott.select(\"table.wikitable\")"
   ]
  },
  {
   "cell_type": "code",
   "execution_count": 4,
   "id": "95dd3e25-fdc0-4435-9be5-1f645e84deab",
   "metadata": {},
   "outputs": [],
   "source": [
    "df_en = pd.read_html(str(table_en))\n",
    "df_wales = pd.read_html(str(table_wales))\n",
    "df_scott = pd.read_html(str(table_scott))"
   ]
  },
  {
   "cell_type": "code",
   "execution_count": 5,
   "id": "ade9f272-15ec-49c3-8125-582b9b90f2d7",
   "metadata": {},
   "outputs": [],
   "source": [
    "new_districts_en = pd.DataFrame(df_en[0])\n",
    "old_districts_en = pd.DataFrame(df_en[1])\n",
    "districts_wales = pd.DataFrame(df_wales[0])\n",
    "districts_scott = pd.DataFrame(df_scott[0])"
   ]
  },
  {
   "cell_type": "code",
   "execution_count": 6,
   "id": "e626d955-eff9-43c1-a9dd-b0aeab4dc92a",
   "metadata": {},
   "outputs": [
    {
     "data": {
      "text/html": [
       "<div>\n",
       "<style scoped>\n",
       "    .dataframe tbody tr th:only-of-type {\n",
       "        vertical-align: middle;\n",
       "    }\n",
       "\n",
       "    .dataframe tbody tr th {\n",
       "        vertical-align: top;\n",
       "    }\n",
       "\n",
       "    .dataframe thead th {\n",
       "        text-align: right;\n",
       "    }\n",
       "</style>\n",
       "<table border=\"1\" class=\"dataframe\">\n",
       "  <thead>\n",
       "    <tr style=\"text-align: right;\">\n",
       "      <th></th>\n",
       "      <th>Name</th>\n",
       "      <th>Website</th>\n",
       "      <th>Population(2019 est.)</th>\n",
       "      <th>Title</th>\n",
       "      <th>Type</th>\n",
       "      <th>Ceremonial County</th>\n",
       "    </tr>\n",
       "  </thead>\n",
       "  <tbody>\n",
       "    <tr>\n",
       "      <th>0</th>\n",
       "      <td>Adur</td>\n",
       "      <td>website</td>\n",
       "      <td>64301</td>\n",
       "      <td>District</td>\n",
       "      <td>NaN</td>\n",
       "      <td>West Sussex</td>\n",
       "    </tr>\n",
       "    <tr>\n",
       "      <th>1</th>\n",
       "      <td>Allerdale</td>\n",
       "      <td>website</td>\n",
       "      <td>97761</td>\n",
       "      <td>Borough</td>\n",
       "      <td>NaN</td>\n",
       "      <td>Cumbria</td>\n",
       "    </tr>\n",
       "    <tr>\n",
       "      <th>2</th>\n",
       "      <td>Amber Valley</td>\n",
       "      <td>website</td>\n",
       "      <td>128147</td>\n",
       "      <td>Borough</td>\n",
       "      <td>NaN</td>\n",
       "      <td>Derbyshire</td>\n",
       "    </tr>\n",
       "    <tr>\n",
       "      <th>3</th>\n",
       "      <td>Arun</td>\n",
       "      <td>website</td>\n",
       "      <td>160758</td>\n",
       "      <td>District</td>\n",
       "      <td>NaN</td>\n",
       "      <td>West Sussex</td>\n",
       "    </tr>\n",
       "    <tr>\n",
       "      <th>4</th>\n",
       "      <td>Ashfield</td>\n",
       "      <td>website</td>\n",
       "      <td>127918</td>\n",
       "      <td>District</td>\n",
       "      <td>NaN</td>\n",
       "      <td>Nottinghamshire</td>\n",
       "    </tr>\n",
       "  </tbody>\n",
       "</table>\n",
       "</div>"
      ],
      "text/plain": [
       "           Name  Website  Population(2019 est.)     Title Type  \\\n",
       "0          Adur  website                  64301  District  NaN   \n",
       "1     Allerdale  website                  97761   Borough  NaN   \n",
       "2  Amber Valley  website                 128147   Borough  NaN   \n",
       "3          Arun  website                 160758  District  NaN   \n",
       "4      Ashfield  website                 127918  District  NaN   \n",
       "\n",
       "  Ceremonial County  \n",
       "0       West Sussex  \n",
       "1           Cumbria  \n",
       "2        Derbyshire  \n",
       "3       West Sussex  \n",
       "4   Nottinghamshire  "
      ]
     },
     "execution_count": 6,
     "metadata": {},
     "output_type": "execute_result"
    }
   ],
   "source": [
    "new_districts_en.head()"
   ]
  },
  {
   "cell_type": "code",
   "execution_count": 7,
   "id": "d5a52968-f28a-4cb7-b0c9-9db66d2062ec",
   "metadata": {},
   "outputs": [],
   "source": [
    "new_districts_en = new_districts_en[['Name', 'Population(2019 est.)']]"
   ]
  },
  {
   "cell_type": "code",
   "execution_count": 8,
   "id": "d23f5c1a-76ae-4924-a6bd-08e928503ed2",
   "metadata": {},
   "outputs": [],
   "source": [
    "new_districts_en = new_districts_en.rename(columns = {'Name': 'District', 'Population(2019 est.)' : 'Population'})"
   ]
  },
  {
   "cell_type": "code",
   "execution_count": 9,
   "id": "73274ee2-3473-4f1c-b0f5-58898487cef4",
   "metadata": {},
   "outputs": [
    {
     "data": {
      "text/html": [
       "<div>\n",
       "<style scoped>\n",
       "    .dataframe tbody tr th:only-of-type {\n",
       "        vertical-align: middle;\n",
       "    }\n",
       "\n",
       "    .dataframe tbody tr th {\n",
       "        vertical-align: top;\n",
       "    }\n",
       "\n",
       "    .dataframe thead th {\n",
       "        text-align: right;\n",
       "    }\n",
       "</style>\n",
       "<table border=\"1\" class=\"dataframe\">\n",
       "  <thead>\n",
       "    <tr style=\"text-align: right;\">\n",
       "      <th></th>\n",
       "      <th>District</th>\n",
       "      <th>Population</th>\n",
       "    </tr>\n",
       "  </thead>\n",
       "  <tbody>\n",
       "    <tr>\n",
       "      <th>0</th>\n",
       "      <td>Adur</td>\n",
       "      <td>64301</td>\n",
       "    </tr>\n",
       "    <tr>\n",
       "      <th>1</th>\n",
       "      <td>Allerdale</td>\n",
       "      <td>97761</td>\n",
       "    </tr>\n",
       "    <tr>\n",
       "      <th>2</th>\n",
       "      <td>Amber Valley</td>\n",
       "      <td>128147</td>\n",
       "    </tr>\n",
       "    <tr>\n",
       "      <th>3</th>\n",
       "      <td>Arun</td>\n",
       "      <td>160758</td>\n",
       "    </tr>\n",
       "    <tr>\n",
       "      <th>4</th>\n",
       "      <td>Ashfield</td>\n",
       "      <td>127918</td>\n",
       "    </tr>\n",
       "  </tbody>\n",
       "</table>\n",
       "</div>"
      ],
      "text/plain": [
       "       District  Population\n",
       "0          Adur       64301\n",
       "1     Allerdale       97761\n",
       "2  Amber Valley      128147\n",
       "3          Arun      160758\n",
       "4      Ashfield      127918"
      ]
     },
     "execution_count": 9,
     "metadata": {},
     "output_type": "execute_result"
    }
   ],
   "source": [
    "new_districts_en.head()"
   ]
  },
  {
   "cell_type": "code",
   "execution_count": 20,
   "id": "eb7192e2-24fe-4f23-a869-e48f0e0967cd",
   "metadata": {},
   "outputs": [],
   "source": [
    "new_districts_en.to_csv('districts_en.csv', index = False)"
   ]
  },
  {
   "cell_type": "code",
   "execution_count": 11,
   "id": "21c276de-e972-49ff-a4d8-b6401e88c37e",
   "metadata": {},
   "outputs": [
    {
     "data": {
      "text/html": [
       "<div>\n",
       "<style scoped>\n",
       "    .dataframe tbody tr th:only-of-type {\n",
       "        vertical-align: middle;\n",
       "    }\n",
       "\n",
       "    .dataframe tbody tr th {\n",
       "        vertical-align: top;\n",
       "    }\n",
       "\n",
       "    .dataframe thead th {\n",
       "        text-align: right;\n",
       "    }\n",
       "</style>\n",
       "<table border=\"1\" class=\"dataframe\">\n",
       "  <thead>\n",
       "    <tr style=\"text-align: right;\">\n",
       "      <th></th>\n",
       "      <th>District</th>\n",
       "      <th>Status</th>\n",
       "      <th>Date abolished</th>\n",
       "      <th>Former county</th>\n",
       "      <th>Successor</th>\n",
       "    </tr>\n",
       "  </thead>\n",
       "  <tbody>\n",
       "    <tr>\n",
       "      <th>0</th>\n",
       "      <td>Alnwick</td>\n",
       "      <td>non-metropolitan district</td>\n",
       "      <td>1 April 2009</td>\n",
       "      <td>Northumberland</td>\n",
       "      <td>Northumberland</td>\n",
       "    </tr>\n",
       "    <tr>\n",
       "      <th>1</th>\n",
       "      <td>Bath</td>\n",
       "      <td>non-metropolitan district, City</td>\n",
       "      <td>1 April 1996</td>\n",
       "      <td>Avon</td>\n",
       "      <td>Bath and North East Somerset</td>\n",
       "    </tr>\n",
       "    <tr>\n",
       "      <th>2</th>\n",
       "      <td>Berwick-upon-Tweed</td>\n",
       "      <td>non-metropolitan district, borough</td>\n",
       "      <td>1 April 2009</td>\n",
       "      <td>Northumberland</td>\n",
       "      <td>Northumberland</td>\n",
       "    </tr>\n",
       "    <tr>\n",
       "      <th>3</th>\n",
       "      <td>Beverley</td>\n",
       "      <td>non-metropolitan district, borough</td>\n",
       "      <td>1 April 1996</td>\n",
       "      <td>Humberside</td>\n",
       "      <td>East Riding of Yorkshire</td>\n",
       "    </tr>\n",
       "    <tr>\n",
       "      <th>4</th>\n",
       "      <td>Blyth Valley</td>\n",
       "      <td>non-metropolitan district, borough</td>\n",
       "      <td>1 April 2009</td>\n",
       "      <td>Northumberland</td>\n",
       "      <td>Northumberland</td>\n",
       "    </tr>\n",
       "  </tbody>\n",
       "</table>\n",
       "</div>"
      ],
      "text/plain": [
       "             District                              Status Date abolished  \\\n",
       "0             Alnwick           non-metropolitan district   1 April 2009   \n",
       "1                Bath     non-metropolitan district, City   1 April 1996   \n",
       "2  Berwick-upon-Tweed  non-metropolitan district, borough   1 April 2009   \n",
       "3            Beverley  non-metropolitan district, borough   1 April 1996   \n",
       "4        Blyth Valley  non-metropolitan district, borough   1 April 2009   \n",
       "\n",
       "    Former county                     Successor  \n",
       "0  Northumberland                Northumberland  \n",
       "1            Avon  Bath and North East Somerset  \n",
       "2  Northumberland                Northumberland  \n",
       "3      Humberside      East Riding of Yorkshire  \n",
       "4  Northumberland                Northumberland  "
      ]
     },
     "execution_count": 11,
     "metadata": {},
     "output_type": "execute_result"
    }
   ],
   "source": [
    "old_districts_en.head()"
   ]
  },
  {
   "cell_type": "code",
   "execution_count": 12,
   "id": "59ff3794-e43c-4ff9-b183-4572183fa01a",
   "metadata": {},
   "outputs": [],
   "source": [
    "old_districts_en = old_districts_en[['District', 'Successor']]"
   ]
  },
  {
   "cell_type": "code",
   "execution_count": 13,
   "id": "17bb6b13-d667-4cef-83a9-58ccb35394a9",
   "metadata": {},
   "outputs": [],
   "source": [
    "old_districts_en.to_csv('old_districts_en.csv', index = False)"
   ]
  },
  {
   "cell_type": "code",
   "execution_count": 14,
   "id": "c4d244fb-2b49-4eec-9d04-27a8d81308e2",
   "metadata": {},
   "outputs": [
    {
     "data": {
      "text/html": [
       "<div>\n",
       "<style scoped>\n",
       "    .dataframe tbody tr th:only-of-type {\n",
       "        vertical-align: middle;\n",
       "    }\n",
       "\n",
       "    .dataframe tbody tr th {\n",
       "        vertical-align: top;\n",
       "    }\n",
       "\n",
       "    .dataframe thead th {\n",
       "        text-align: right;\n",
       "    }\n",
       "</style>\n",
       "<table border=\"1\" class=\"dataframe\">\n",
       "  <thead>\n",
       "    <tr style=\"text-align: right;\">\n",
       "      <th></th>\n",
       "      <th>District</th>\n",
       "      <th>Created</th>\n",
       "      <th>Population</th>\n",
       "      <th>Population density/km2</th>\n",
       "      <th>Area km2</th>\n",
       "      <th>Type</th>\n",
       "    </tr>\n",
       "  </thead>\n",
       "  <tbody>\n",
       "    <tr>\n",
       "      <th>0</th>\n",
       "      <td>Cardiff</td>\n",
       "      <td>1996 a</td>\n",
       "      <td>369202</td>\n",
       "      <td>2585</td>\n",
       "      <td>140</td>\n",
       "      <td>County (also a city)</td>\n",
       "    </tr>\n",
       "    <tr>\n",
       "      <th>1</th>\n",
       "      <td>Swansea</td>\n",
       "      <td>1996 a</td>\n",
       "      <td>246563</td>\n",
       "      <td>649</td>\n",
       "      <td>378</td>\n",
       "      <td>County (also a city)</td>\n",
       "    </tr>\n",
       "    <tr>\n",
       "      <th>2</th>\n",
       "      <td>Rhondda Cynon Taf</td>\n",
       "      <td>1996</td>\n",
       "      <td>241873</td>\n",
       "      <td>566</td>\n",
       "      <td>424</td>\n",
       "      <td>County borough</td>\n",
       "    </tr>\n",
       "    <tr>\n",
       "      <th>3</th>\n",
       "      <td>Carmarthenshire</td>\n",
       "      <td>1996 a</td>\n",
       "      <td>190073</td>\n",
       "      <td>79</td>\n",
       "      <td>2,370[4]</td>\n",
       "      <td>County</td>\n",
       "    </tr>\n",
       "    <tr>\n",
       "      <th>4</th>\n",
       "      <td>Caerphilly</td>\n",
       "      <td>1996</td>\n",
       "      <td>181731</td>\n",
       "      <td>653</td>\n",
       "      <td>278</td>\n",
       "      <td>County borough</td>\n",
       "    </tr>\n",
       "  </tbody>\n",
       "</table>\n",
       "</div>"
      ],
      "text/plain": [
       "            District Created  Population  Population density/km2  Area km2  \\\n",
       "0            Cardiff  1996 a      369202                    2585       140   \n",
       "1            Swansea  1996 a      246563                     649       378   \n",
       "2  Rhondda Cynon Taf    1996      241873                     566       424   \n",
       "3    Carmarthenshire  1996 a      190073                      79  2,370[4]   \n",
       "4         Caerphilly    1996      181731                     653       278   \n",
       "\n",
       "                   Type  \n",
       "0  County (also a city)  \n",
       "1  County (also a city)  \n",
       "2        County borough  \n",
       "3                County  \n",
       "4        County borough  "
      ]
     },
     "execution_count": 14,
     "metadata": {},
     "output_type": "execute_result"
    }
   ],
   "source": [
    "districts_wales.head()"
   ]
  },
  {
   "cell_type": "code",
   "execution_count": 15,
   "id": "1c07cdc7-f768-47bc-9278-7d18bfde0401",
   "metadata": {},
   "outputs": [],
   "source": [
    "districts_wales = districts_wales[['District', 'Population']]"
   ]
  },
  {
   "cell_type": "code",
   "execution_count": 16,
   "id": "7adbb3cf-e135-46c8-a2ec-422b319eb620",
   "metadata": {},
   "outputs": [],
   "source": [
    "districts_wales.to_csv('districts_wales.csv', index = False)"
   ]
  },
  {
   "cell_type": "code",
   "execution_count": 17,
   "id": "a5f124bc-67a0-4acf-b096-4ef008a3eb3c",
   "metadata": {},
   "outputs": [
    {
     "data": {
      "text/html": [
       "<div>\n",
       "<style scoped>\n",
       "    .dataframe tbody tr th:only-of-type {\n",
       "        vertical-align: middle;\n",
       "    }\n",
       "\n",
       "    .dataframe tbody tr th {\n",
       "        vertical-align: top;\n",
       "    }\n",
       "\n",
       "    .dataframe thead th {\n",
       "        text-align: right;\n",
       "    }\n",
       "</style>\n",
       "<table border=\"1\" class=\"dataframe\">\n",
       "  <thead>\n",
       "    <tr style=\"text-align: right;\">\n",
       "      <th></th>\n",
       "      <th>Rank</th>\n",
       "      <th>Council area</th>\n",
       "      <th>Population[3]</th>\n",
       "      <th>Electors[4]</th>\n",
       "      <th>Area (km2)[5]</th>\n",
       "      <th>Density(per km2)</th>\n",
       "    </tr>\n",
       "  </thead>\n",
       "  <tbody>\n",
       "    <tr>\n",
       "      <th>0</th>\n",
       "      <td>1</td>\n",
       "      <td>Glasgow City</td>\n",
       "      <td>626410</td>\n",
       "      <td>462286</td>\n",
       "      <td>174.7</td>\n",
       "      <td>3586</td>\n",
       "    </tr>\n",
       "    <tr>\n",
       "      <th>1</th>\n",
       "      <td>2</td>\n",
       "      <td>City of Edinburgh</td>\n",
       "      <td>518500</td>\n",
       "      <td>367762</td>\n",
       "      <td>263.4</td>\n",
       "      <td>1969</td>\n",
       "    </tr>\n",
       "    <tr>\n",
       "      <th>2</th>\n",
       "      <td>3</td>\n",
       "      <td>Fife</td>\n",
       "      <td>371910</td>\n",
       "      <td>280622</td>\n",
       "      <td>1325.0</td>\n",
       "      <td>281</td>\n",
       "    </tr>\n",
       "    <tr>\n",
       "      <th>3</th>\n",
       "      <td>4</td>\n",
       "      <td>North Lanarkshire</td>\n",
       "      <td>340180</td>\n",
       "      <td>256174</td>\n",
       "      <td>469.9</td>\n",
       "      <td>724</td>\n",
       "    </tr>\n",
       "    <tr>\n",
       "      <th>4</th>\n",
       "      <td>5</td>\n",
       "      <td>South Lanarkshire</td>\n",
       "      <td>319020</td>\n",
       "      <td>248875</td>\n",
       "      <td>1772.0</td>\n",
       "      <td>180</td>\n",
       "    </tr>\n",
       "  </tbody>\n",
       "</table>\n",
       "</div>"
      ],
      "text/plain": [
       "   Rank       Council area  Population[3]  Electors[4]  Area (km2)[5]  \\\n",
       "0     1       Glasgow City         626410       462286          174.7   \n",
       "1     2  City of Edinburgh         518500       367762          263.4   \n",
       "2     3               Fife         371910       280622         1325.0   \n",
       "3     4  North Lanarkshire         340180       256174          469.9   \n",
       "4     5  South Lanarkshire         319020       248875         1772.0   \n",
       "\n",
       "   Density(per km2)  \n",
       "0              3586  \n",
       "1              1969  \n",
       "2               281  \n",
       "3               724  \n",
       "4               180  "
      ]
     },
     "execution_count": 17,
     "metadata": {},
     "output_type": "execute_result"
    }
   ],
   "source": [
    "districts_scott.head()"
   ]
  },
  {
   "cell_type": "code",
   "execution_count": 18,
   "id": "52573d0c-7da7-492d-afc6-d21b078f1e3a",
   "metadata": {},
   "outputs": [],
   "source": [
    "districts_scott = districts_scott.rename(columns = {'Council area' : 'District', 'Population[3]' : 'Population'})[['District', 'Population']]"
   ]
  },
  {
   "cell_type": "code",
   "execution_count": 19,
   "id": "4ebf4e95-dc5c-4519-8a84-68ccd4c13507",
   "metadata": {},
   "outputs": [],
   "source": [
    "districts_scott.to_csv('districts_scott.csv', index = False)"
   ]
  }
 ],
 "metadata": {
  "kernelspec": {
   "display_name": "Python 3 (ipykernel)",
   "language": "python",
   "name": "python3"
  },
  "language_info": {
   "codemirror_mode": {
    "name": "ipython",
    "version": 3
   },
   "file_extension": ".py",
   "mimetype": "text/x-python",
   "name": "python",
   "nbconvert_exporter": "python",
   "pygments_lexer": "ipython3",
   "version": "3.10.0"
  }
 },
 "nbformat": 4,
 "nbformat_minor": 5
}
