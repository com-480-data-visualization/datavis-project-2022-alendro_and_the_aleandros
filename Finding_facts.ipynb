{
 "cells": [
  {
   "cell_type": "code",
   "execution_count": 1,
   "id": "5e5a95d0",
   "metadata": {},
   "outputs": [],
   "source": [
    "import numpy as np\n",
    "import pandas as pd\n",
    "import matplotlib.pyplot as plt\n",
    "from tqdm import tqdm"
   ]
  },
  {
   "cell_type": "code",
   "execution_count": 2,
   "id": "4f3efd96",
   "metadata": {},
   "outputs": [],
   "source": [
    "pubs = pd.read_csv('open_pubs.csv')\n",
    "\n",
    "pubs['latitude'] = pd.to_numeric(pubs['latitude'], errors = 'coerce')\n",
    "pubs['longitude'] = pd.to_numeric(pubs['longitude'], errors = 'coerce')"
   ]
  },
  {
   "cell_type": "code",
   "execution_count": 3,
   "id": "0a1134c9",
   "metadata": {},
   "outputs": [
    {
     "name": "stdout",
     "output_type": "stream",
     "text": [
      "Size of dataframe before dropping the nan elements: 51498\n"
     ]
    }
   ],
   "source": [
    "print(f\"Size of dataframe before dropping the nan elements: {len(pubs)}\")"
   ]
  },
  {
   "cell_type": "code",
   "execution_count": 4,
   "id": "7b279caa",
   "metadata": {},
   "outputs": [
    {
     "name": "stdout",
     "output_type": "stream",
     "text": [
      "Size of dataframe before dropping the nan elements: 51498\n"
     ]
    }
   ],
   "source": [
    "#Need to remove entries where there is a nan\n",
    "pubs = pubs.drop(pubs[pubs['longitude'].isna()].index)\n",
    "pubs = pubs.drop(pubs[pubs['latitude'].isna()].index)\n",
    "print(f\"Size of dataframe before dropping the nan elements: {len(pubs)}\")"
   ]
  },
  {
   "cell_type": "markdown",
   "id": "66b048c4",
   "metadata": {},
   "source": [
    "Spicy facts to be found:\n",
    "* Furthest point away from any bar\n",
    "* Bar with the longest name\n",
    "* Bar with the shortest name\n",
    "* Oldest bar\n",
    "* Biggest bar (in term of area)\n",
    "* Smallest bar\n",
    "* Most expensive bar\n",
    "* Favorite Bar of the King (Harry or the other)\n",
    "* Most famous Bar where the Beatles played\n",
    "* ..."
   ]
  },
  {
   "cell_type": "markdown",
   "id": "26f6140c",
   "metadata": {},
   "source": [
    "## Furthest point away from any bar\n",
    "\n",
    "We do a rough estimation where the furthest point from any bar is.\n",
    "\n",
    "As this is not trivial we do it like this:\n",
    "* Create a boundary area inside the land by looking at the longitude and latitude of england on a map\n",
    "* Sample random points inside the area\n",
    "* Find point at max distance from any bar\n",
    "* Create a new zone centered on this point\n",
    "* Resample points to find exact position\n",
    "\n",
    "We run this algorithm multiple time to see if we always get the same result"
   ]
  },
  {
   "cell_type": "code",
   "execution_count": 5,
   "id": "aa567777",
   "metadata": {},
   "outputs": [],
   "source": [
    "x = pubs['longitude']\n",
    "y = pubs['latitude']"
   ]
  },
  {
   "cell_type": "code",
   "execution_count": 55,
   "id": "e249e95c",
   "metadata": {},
   "outputs": [],
   "source": [
    "boundaries = np.array([[50.188037,-5.196287],\n",
    "[50.966788,-1.590941],\n",
    "[51.077358,1.003247],\n",
    "[51.475966,0.299739],\n",
    "[52.410518,1.618818],\n",
    "[52.597765,0.202959],\n",
    "[52.969871,-0.170780],\n",
    "[53.181076,0.180974],\n",
    "[54.524934,-0.905976],\n",
    "[54.628941,-1.371318],\n",
    "[55.693713,-2.162784],\n",
    "[55.031826,-2.910262],\n",
    "[54.058985,-2.690415],\n",
    "[53.332650,-3.078930],\n",
    "[52.844392,-3.969309],\n",
    "[51.626685,-3.716485],\n",
    "[51.844404,-2.298475],\n",
    "[51.190390,-2.892061],\n",
    "[50.188037,-5.196287]                ])"
   ]
  },
  {
   "cell_type": "code",
   "execution_count": 56,
   "id": "a06533ea",
   "metadata": {},
   "outputs": [
    {
     "data": {
      "text/plain": [
       "<matplotlib.collections.PathCollection at 0x1e905a06f08>"
      ]
     },
     "execution_count": 56,
     "metadata": {},
     "output_type": "execute_result"
    },
    {
     "data": {
      "image/png": "[encoded data removed]",
      "text/plain": [
       "<Figure size 432x288 with 1 Axes>"
      ]
     },
     "metadata": {
      "needs_background": "light"
     },
     "output_type": "display_data"
    }
   ],
   "source": [
    "plt.plot(boundaries[:,1], boundaries[:,0], marker = 'x', c = 'orange')\n",
    "plt.scatter(x, y)"
   ]
  },
  {
   "cell_type": "code",
   "execution_count": 57,
   "id": "0ee80c80",
   "metadata": {},
   "outputs": [],
   "source": [
    "from shapely.geometry import Polygon, Point\n",
    "import pointpats"
   ]
  },
  {
   "cell_type": "code",
   "execution_count": 58,
   "id": "f71d4621",
   "metadata": {},
   "outputs": [],
   "source": [
    "bars_location = np.array(list(zip(y,x)))"
   ]
  },
  {
   "cell_type": "code",
   "execution_count": 65,
   "id": "fe8aefc4",
   "metadata": {},
   "outputs": [
    {
     "name": "stderr",
     "output_type": "stream",
     "text": [
      "5000it [00:04, 1007.30it/s]\n",
      "5000it [00:04, 1022.93it/s]\n",
      "5000it [00:04, 1017.13it/s]\n",
      "5000it [00:04, 1014.59it/s]\n",
      "5000it [00:05, 975.65it/s] \n",
      "5000it [00:04, 1016.89it/s]\n",
      "5000it [00:05, 992.13it/s] \n",
      "5000it [00:05, 950.36it/s] \n",
      "5000it [00:04, 1002.44it/s]\n",
      "5000it [00:04, 1007.29it/s]\n"
     ]
    }
   ],
   "source": [
    "\n",
    "nb_random_points = 5000\n",
    "radius = [0.08, 0.001] #decreasing radius size to create second zone where we create points\n",
    "keep_point = []\n",
    "nb_runs = 5\n",
    "for i in range(nb_runs):\n",
    "    poly = Polygon(boundaries)\n",
    "    iteration = 0\n",
    "    while (iteration < 2):\n",
    "        points = pointpats.random.poisson(poly, size=nb_random_points) #Generates random points within the polygone\n",
    "        distances = np.zeros(len(points))\n",
    "        for i,random_point in tqdm(enumerate(points)):\n",
    "            distances[i] = np.min(np.linalg.norm(random_point -  bars_location, axis = 1))# For each random point, compute the min dist between the point and all bars\n",
    "        \n",
    "        #Take the random_point that is the furthest away from all points\n",
    "        furthest_point = points[np.argmax(distances)] #Finds the max min distance\n",
    "        iteration +=1\n",
    "    keep_point.append(furthest_point)"
   ]
  },
  {
   "cell_type": "code",
   "execution_count": 73,
   "id": "53f2d0f1",
   "metadata": {},
   "outputs": [
    {
     "data": {
      "text/plain": [
       "<matplotlib.collections.PathCollection at 0x1e905bc7cc8>"
      ]
     },
     "execution_count": 73,
     "metadata": {},
     "output_type": "execute_result"
    },
    {
     "data": {
      "image/png": "[encoded data removed]",
      "text/plain": [
       "<Figure size 432x288 with 1 Axes>"
      ]
     },
     "metadata": {
      "needs_background": "light"
     },
     "output_type": "display_data"
    }
   ],
   "source": [
    "plt.plot(boundaries[:,1], boundaries[:,0], marker = 'x', c = 'orange')#\n",
    "#plt.scatter(x, y)\n",
    "keep_point = np.array(keep_point)\n",
    "plt.scatter(x = keep_point[:,1], y = keep_point[:,0], c='red')\n",
    "plt.scatter(x = x[47176], y = y[47176])"
   ]
  },
  {
   "cell_type": "code",
   "execution_count": 74,
   "id": "e506d479",
   "metadata": {},
   "outputs": [
    {
     "data": {
      "text/plain": [
       "array([[55.45782877, -2.26814956],\n",
       "       [55.4677785 , -2.31083246],\n",
       "       [55.49057203, -2.30319293],\n",
       "       [55.4670397 , -2.28968815],\n",
       "       [52.24837078, -3.70656611]])"
      ]
     },
     "execution_count": 74,
     "metadata": {},
     "output_type": "execute_result"
    }
   ],
   "source": [
    "keep_point"
   ]
  },
  {
   "cell_type": "markdown",
   "id": "e7d8698b",
   "metadata": {},
   "source": [
    "## Bar furthest away from any bar "
   ]
  },
  {
   "cell_type": "code",
   "execution_count": 68,
   "id": "3a58c62d",
   "metadata": {},
   "outputs": [],
   "source": [
    "bars_location = np.array(list(zip(y,x)))"
   ]
  },
  {
   "cell_type": "code",
   "execution_count": 69,
   "id": "d5ce724a",
   "metadata": {},
   "outputs": [
    {
     "name": "stderr",
     "output_type": "stream",
     "text": [
      "100%|███████████████████████████████████████████████████████████████████████████| 51498/51498 [00:55<00:00, 931.10it/s]\n"
     ]
    }
   ],
   "source": [
    "distances = np.zeros(len(x))\n",
    "for i in tqdm(range(len(x))):\n",
    "    point = bars_location[i]\n",
    "    all_dist = np.linalg.norm(point - bars_location, axis = 1)\n",
    "    all_dist[i] = np.inf #Need to remove the point itself\n",
    "    distances[i] = all_dist[np.argmin(all_dist)]    \n"
   ]
  },
  {
   "cell_type": "code",
   "execution_count": 70,
   "id": "d7372a5b",
   "metadata": {},
   "outputs": [],
   "source": [
    "furthest_pub_away = bars_location[distances.argmax()]"
   ]
  },
  {
   "cell_type": "code",
   "execution_count": 71,
   "id": "014b5bee",
   "metadata": {},
   "outputs": [
    {
     "data": {
      "text/plain": [
       "<matplotlib.collections.PathCollection at 0x1e907153b48>"
      ]
     },
     "execution_count": 71,
     "metadata": {},
     "output_type": "execute_result"
    },
    {
     "data": {
      "image/png": "[encoded data removed]",
      "text/plain": [
       "<Figure size 432x288 with 1 Axes>"
      ]
     },
     "metadata": {
      "needs_background": "light"
     },
     "output_type": "display_data"
    }
   ],
   "source": [
    "plt.scatter(x, y)\n",
    "plt.scatter(x = furthest_pub_away[0], y = furthest_pub_away[1], color = 'red')"
   ]
  },
  {
   "cell_type": "code",
   "execution_count": 72,
   "id": "c5ed458f",
   "metadata": {},
   "outputs": [
    {
     "data": {
      "text/plain": [
       "Unnamed: 0                                                     44612\n",
       "Unnamed: 0.1                                                 44678.0\n",
       "fas_id                                                      444208.0\n",
       "name                                                      MacGochans\n",
       "address            Macgochan's Restaurant Tobermory Isle Of Mull ...\n",
       "postcode                                                    PA75 6NR\n",
       "easting                                                     150432.0\n",
       "northing                                                    755063.0\n",
       "latitude                                                   56.620741\n",
       "longitude                                                  -6.069821\n",
       "local_authority                                      Argyll and Bute\n",
       "population                                                   86260.0\n",
       "Name: 44612, dtype: object"
      ]
     },
     "execution_count": 72,
     "metadata": {},
     "output_type": "execute_result"
    }
   ],
   "source": [
    "pubs.iloc[distances.argmax()]"
   ]
  },
  {
   "cell_type": "markdown",
   "id": "b2d96006",
   "metadata": {},
   "source": [
    "## Bar with shortest/longest name"
   ]
  },
  {
   "cell_type": "code",
   "execution_count": 11,
   "id": "6bcea511",
   "metadata": {},
   "outputs": [],
   "source": [
    "ordered_names = np.argsort(pubs['name'].apply(lambda x: len(x)))\n",
    "shortest_name_indices = list(ordered_names[0:10])\n",
    "longest_name_indices = list(ordered_names[::-1][0:10])"
   ]
  },
  {
   "cell_type": "code",
   "execution_count": 12,
   "id": "79d50d60",
   "metadata": {},
   "outputs": [
    {
     "name": "stdout",
     "output_type": "stream",
     "text": [
      "Name: Feniscowles and Pleasington Sports And Social Club mail to other addr), length of name: 70, lat, long = (53.72325, -2.534871)\n",
      "Name: Love Your Greens Catering, King George Fields Indoor Bowls Club, length of name: 63, lat, long = (51.36996, -0.285478)\n",
      "Name: Holy Trinity Community and Partnership Centre, Community Hall, length of name: 61, lat, long = (53.070715, -0.817595)\n",
      "Name: Hammersmith Riverside Events @ Auriol Kensington Rowing Club, length of name: 60, lat, long = (51.489855, -0.231434)\n",
      "Name: Merthyr Vale & Aberfan Social Democratic Club & Institute Lt, length of name: 60, lat, long = (51.695897, -3.344356)\n",
      "Name: London Midland Railway Clubs Association (Walsall Branch) We, length of name: 60, lat, long = (52.57405, -1.993551)\n",
      "Name: Derbyshire Catering The Nailers - Belper Meadows Sports Club, length of name: 60, lat, long = (53.026261, -1.48573)\n",
      "Name: The Milk Bar Arts and Entertainment Appreciation Society CIC, length of name: 60, lat, long = (51.456546, -2.580442)\n",
      "Name: The Friendship Centre (Petworth And District Over 60's Club), length of name: 60, lat, long = (50.986875, -0.608837)\n",
      "Name: Cross Hands Beefeater Grill And Cheltenham West Premier Inn, length of name: 59, lat, long = (51.919025, -2.111763)\n"
     ]
    }
   ],
   "source": [
    "for row, content in pubs.iloc[longest_name_indices].iterrows():\n",
    "    print(f\"Name: {content['name']}, length of name: {len(content['name'])}, lat, long = {content['latitude'], content['longitude']}\")"
   ]
  },
  {
   "cell_type": "markdown",
   "id": "a3de0f87",
   "metadata": {},
   "source": [
    "First one with 70 letters seems to have a mistake, so we take the second one"
   ]
  },
  {
   "cell_type": "code",
   "execution_count": 15,
   "id": "60e3a1a8",
   "metadata": {},
   "outputs": [
    {
     "name": "stdout",
     "output_type": "stream",
     "text": [
      "Name: v, length of name: 1, lat, long = (52.191353, 1.000189)\n",
      "Name: G6, length of name: 2, lat, long = (51.595438, -3.782497)\n",
      "Name: O2, length of name: 2, lat, long = (52.621929, -1.123824)\n",
      "Name: Ox, length of name: 2, lat, long = (50.72351, -1.954668)\n",
      "Name: C2, length of name: 2, lat, long = (53.237331, -1.424278)\n",
      "Name: HD, length of name: 2, lat, long = (53.473981, -2.243351)\n",
      "Name: 85, length of name: 2, lat, long = (56.203307, -3.207425)\n",
      "Name: XS, length of name: 2, lat, long = (54.852644, -1.573505)\n",
      "Name: 32, length of name: 2, lat, long = (55.996324, -3.88323)\n",
      "Name: 35, length of name: 2, lat, long = (56.00182, -3.885261)\n"
     ]
    }
   ],
   "source": [
    "for row, content in pubs.iloc[shortest_name_indices].iterrows():\n",
    "    print(f\"Name: {content['name']}, length of name: {len(content['name'])}, lat, long = {content['latitude'], content['longitude']}\")"
   ]
  },
  {
   "cell_type": "markdown",
   "id": "778984cb",
   "metadata": {},
   "source": [
    "## Oldest bar in the UK\n",
    "This bar is in the Guiness book of records for being the oldest pub in the uk:\n",
    "\n",
    "source:\n",
    "* https://www.thedrinksbusiness.com/2017/10/the-15-oldest-pubs-in-the-uk-ranked-according-to-their-claims/\n",
    "* https://en.wikipedia.org/wiki/Ye_Olde_Fighting_Cocks\n",
    "\n",
    "Ye Olde Fighting Cocks was recognised as the oldest pub in the UK by the Guinness Book of World Records but the title was rested in 2000. We take this bar as it had at least once the title of oldest bar."
   ]
  },
  {
   "cell_type": "code",
   "execution_count": 16,
   "id": "b39ef8d2",
   "metadata": {},
   "outputs": [
    {
     "data": {
      "text/html": [
       "<div>\n",
       "<style scoped>\n",
       "    .dataframe tbody tr th:only-of-type {\n",
       "        vertical-align: middle;\n",
       "    }\n",
       "\n",
       "    .dataframe tbody tr th {\n",
       "        vertical-align: top;\n",
       "    }\n",
       "\n",
       "    .dataframe thead th {\n",
       "        text-align: right;\n",
       "    }\n",
       "</style>\n",
       "<table border=\"1\" class=\"dataframe\">\n",
       "  <thead>\n",
       "    <tr style=\"text-align: right;\">\n",
       "      <th></th>\n",
       "      <th>Unnamed: 0</th>\n",
       "      <th>fas_id</th>\n",
       "      <th>name</th>\n",
       "      <th>address</th>\n",
       "      <th>postcode</th>\n",
       "      <th>easting</th>\n",
       "      <th>northing</th>\n",
       "      <th>latitude</th>\n",
       "      <th>longitude</th>\n",
       "      <th>local_authority</th>\n",
       "      <th>population</th>\n",
       "    </tr>\n",
       "  </thead>\n",
       "  <tbody>\n",
       "    <tr>\n",
       "      <th>21163</th>\n",
       "      <td>21163</td>\n",
       "      <td>210189</td>\n",
       "      <td>Ye Olde Fighting Cocks</td>\n",
       "      <td>Ye Olde Fighting Cocks, Promenade, Arnside</td>\n",
       "      <td>LA5 0HD</td>\n",
       "      <td>345723</td>\n",
       "      <td>478914</td>\n",
       "      <td>54.203076</td>\n",
       "      <td>-2.833569</td>\n",
       "      <td>South Lakeland</td>\n",
       "      <td>105088</td>\n",
       "    </tr>\n",
       "  </tbody>\n",
       "</table>\n",
       "</div>"
      ],
      "text/plain": [
       "       Unnamed: 0  fas_id                    name  \\\n",
       "21163       21163  210189  Ye Olde Fighting Cocks   \n",
       "\n",
       "                                          address postcode  easting  northing  \\\n",
       "21163  Ye Olde Fighting Cocks, Promenade, Arnside  LA5 0HD   345723    478914   \n",
       "\n",
       "        latitude  longitude local_authority  population  \n",
       "21163  54.203076  -2.833569  South Lakeland      105088  "
      ]
     },
     "execution_count": 16,
     "metadata": {},
     "output_type": "execute_result"
    }
   ],
   "source": [
    "#Checking that it's in the data:\n",
    "pubs[pubs['name'] == 'Ye Olde Fighting Cocks']"
   ]
  },
  {
   "cell_type": "markdown",
   "id": "656ec455",
   "metadata": {},
   "source": [
    "## Smallest bar in the UK\n",
    "\n",
    "source:\n",
    "https://en.wikipedia.org/wiki/The_Nutshell\n",
    "\n",
    "It also had its place in the Guiness book of records, that's why we take this bar instead of another one\n"
   ]
  },
  {
   "cell_type": "code",
   "execution_count": 22,
   "id": "957c855d",
   "metadata": {},
   "outputs": [
    {
     "data": {
      "text/html": [
       "<div>\n",
       "<style scoped>\n",
       "    .dataframe tbody tr th:only-of-type {\n",
       "        vertical-align: middle;\n",
       "    }\n",
       "\n",
       "    .dataframe tbody tr th {\n",
       "        vertical-align: top;\n",
       "    }\n",
       "\n",
       "    .dataframe thead th {\n",
       "        text-align: right;\n",
       "    }\n",
       "</style>\n",
       "<table border=\"1\" class=\"dataframe\">\n",
       "  <thead>\n",
       "    <tr style=\"text-align: right;\">\n",
       "      <th></th>\n",
       "      <th>Unnamed: 0</th>\n",
       "      <th>fas_id</th>\n",
       "      <th>name</th>\n",
       "      <th>address</th>\n",
       "      <th>postcode</th>\n",
       "      <th>easting</th>\n",
       "      <th>northing</th>\n",
       "      <th>latitude</th>\n",
       "      <th>longitude</th>\n",
       "      <th>local_authority</th>\n",
       "      <th>population</th>\n",
       "    </tr>\n",
       "  </thead>\n",
       "  <tbody>\n",
       "  </tbody>\n",
       "</table>\n",
       "</div>"
      ],
      "text/plain": [
       "Empty DataFrame\n",
       "Columns: [Unnamed: 0, fas_id, name, address, postcode, easting, northing, latitude, longitude, local_authority, population]\n",
       "Index: []"
      ]
     },
     "execution_count": 22,
     "metadata": {},
     "output_type": "execute_result"
    }
   ],
   "source": [
    "#Checking that it's in the data:\n",
    "pubs[pubs['name'].apply(lambda x: x.lower()) == 'nutshell']"
   ]
  },
  {
   "cell_type": "code",
   "execution_count": 24,
   "id": "62a3d92f",
   "metadata": {},
   "outputs": [],
   "source": [
    "#It wasn't in the dataset so we need to add it (we don't care about the other infos for this part):\n",
    "pubs = pubs.append({ \"name\": \"The Nutshell\", 'latitude': \"52.24484840036002\", 'longitude':\"0.7127516751586728\" }, ignore_index = True)"
   ]
  },
  {
   "cell_type": "code",
   "execution_count": 26,
   "id": "f22d3ac1",
   "metadata": {},
   "outputs": [
    {
     "data": {
      "text/html": [
       "<div>\n",
       "<style scoped>\n",
       "    .dataframe tbody tr th:only-of-type {\n",
       "        vertical-align: middle;\n",
       "    }\n",
       "\n",
       "    .dataframe tbody tr th {\n",
       "        vertical-align: top;\n",
       "    }\n",
       "\n",
       "    .dataframe thead th {\n",
       "        text-align: right;\n",
       "    }\n",
       "</style>\n",
       "<table border=\"1\" class=\"dataframe\">\n",
       "  <thead>\n",
       "    <tr style=\"text-align: right;\">\n",
       "      <th></th>\n",
       "      <th>Unnamed: 0</th>\n",
       "      <th>fas_id</th>\n",
       "      <th>name</th>\n",
       "      <th>address</th>\n",
       "      <th>postcode</th>\n",
       "      <th>easting</th>\n",
       "      <th>northing</th>\n",
       "      <th>latitude</th>\n",
       "      <th>longitude</th>\n",
       "      <th>local_authority</th>\n",
       "      <th>population</th>\n",
       "    </tr>\n",
       "  </thead>\n",
       "  <tbody>\n",
       "    <tr>\n",
       "      <th>51496</th>\n",
       "      <td>NaN</td>\n",
       "      <td>NaN</td>\n",
       "      <td>The Nutshell</td>\n",
       "      <td>NaN</td>\n",
       "      <td>NaN</td>\n",
       "      <td>NaN</td>\n",
       "      <td>NaN</td>\n",
       "      <td>52.24484840036002</td>\n",
       "      <td>0.7127516751586728</td>\n",
       "      <td>NaN</td>\n",
       "      <td>NaN</td>\n",
       "    </tr>\n",
       "  </tbody>\n",
       "</table>\n",
       "</div>"
      ],
      "text/plain": [
       "       Unnamed: 0  fas_id          name address postcode  easting  northing  \\\n",
       "51496         NaN     NaN  The Nutshell     NaN      NaN      NaN       NaN   \n",
       "\n",
       "                latitude           longitude local_authority  population  \n",
       "51496  52.24484840036002  0.7127516751586728             NaN         NaN  "
      ]
     },
     "execution_count": 26,
     "metadata": {},
     "output_type": "execute_result"
    }
   ],
   "source": [
    "pubs[pubs['name'].apply(lambda x: x.lower()) == 'the nutshell']"
   ]
  },
  {
   "cell_type": "code",
   "execution_count": 28,
   "id": "6104d3d8",
   "metadata": {},
   "outputs": [],
   "source": [
    "#pubs.to_csv('open_pubs.csv')"
   ]
  },
  {
   "cell_type": "markdown",
   "id": "0661c690",
   "metadata": {},
   "source": [
    "## Biggest bar (in area)\n",
    "\n",
    "source:\n",
    "https://www.expressandstar.com/news/uk-news/2020/07/03/uks-largest-pub-ready-for-reopening-as-lockdown-eases/\n"
   ]
  },
  {
   "cell_type": "code",
   "execution_count": 46,
   "id": "68a98bff",
   "metadata": {},
   "outputs": [
    {
     "data": {
      "text/html": [
       "<div>\n",
       "<style scoped>\n",
       "    .dataframe tbody tr th:only-of-type {\n",
       "        vertical-align: middle;\n",
       "    }\n",
       "\n",
       "    .dataframe tbody tr th {\n",
       "        vertical-align: top;\n",
       "    }\n",
       "\n",
       "    .dataframe thead th {\n",
       "        text-align: right;\n",
       "    }\n",
       "</style>\n",
       "<table border=\"1\" class=\"dataframe\">\n",
       "  <thead>\n",
       "    <tr style=\"text-align: right;\">\n",
       "      <th></th>\n",
       "      <th>Unnamed: 0</th>\n",
       "      <th>fas_id</th>\n",
       "      <th>name</th>\n",
       "      <th>address</th>\n",
       "      <th>postcode</th>\n",
       "      <th>easting</th>\n",
       "      <th>northing</th>\n",
       "      <th>latitude</th>\n",
       "      <th>longitude</th>\n",
       "      <th>local_authority</th>\n",
       "      <th>population</th>\n",
       "    </tr>\n",
       "  </thead>\n",
       "  <tbody>\n",
       "  </tbody>\n",
       "</table>\n",
       "</div>"
      ],
      "text/plain": [
       "Empty DataFrame\n",
       "Columns: [Unnamed: 0, fas_id, name, address, postcode, easting, northing, latitude, longitude, local_authority, population]\n",
       "Index: []"
      ]
     },
     "execution_count": 46,
     "metadata": {},
     "output_type": "execute_result"
    }
   ],
   "source": [
    "pubs[pubs['name'].apply(lambda x: x.lower()) == 'royal victoria pavilion']"
   ]
  },
  {
   "cell_type": "code",
   "execution_count": 47,
   "id": "246b01e6",
   "metadata": {},
   "outputs": [],
   "source": [
    "#Need to add it as it wasnt' in the dataset\n",
    "#pubs = pubs.append({ \"name\": \"Royal Victoria Pavilion\", 'latitude': \"51.33198698833608\", 'longitude':\"1.4237457909186908\" }, ignore_index = True)"
   ]
  },
  {
   "cell_type": "code",
   "execution_count": 48,
   "id": "0e466459",
   "metadata": {},
   "outputs": [],
   "source": [
    "#pubs.to_csv('open_pubs.csv')"
   ]
  },
  {
   "cell_type": "markdown",
   "id": "b4fe475d",
   "metadata": {},
   "source": [
    "## Other information found on the internet\n",
    "* Biggest bar (in terms of surface), link:\n",
    "* Smallest bar, link:\n",
    "* Bar with the most drinks\n",
    "* Bar with the most beers\n",
    "* Bar witht the biggest capacity?\n",
    "* Most concentration of bars? See how we can do that make (2d density map)\n",
    "* Bar furthest away from any other bar"
   ]
  },
  {
   "cell_type": "code",
   "execution_count": null,
   "id": "83dcc95e",
   "metadata": {},
   "outputs": [],
   "source": []
  }
 ],
 "metadata": {
  "kernelspec": {
   "display_name": "Python 3",
   "language": "python",
   "name": "python3"
  },
  "language_info": {
   "codemirror_mode": {
    "name": "ipython",
    "version": 3
   },
   "file_extension": ".py",
   "mimetype": "text/x-python",
   "name": "python",
   "nbconvert_exporter": "python",
   "pygments_lexer": "ipython3",
   "version": "3.7.6"
  }
 },
 "nbformat": 4,
 "nbformat_minor": 5
}
