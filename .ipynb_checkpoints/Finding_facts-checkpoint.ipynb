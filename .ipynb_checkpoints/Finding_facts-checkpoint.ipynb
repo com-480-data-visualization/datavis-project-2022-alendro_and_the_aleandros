{
 "cells": [
  {
   "cell_type": "code",
   "execution_count": 1,
   "id": "ff1c11b8",
   "metadata": {},
   "outputs": [],
   "source": [
    "import numpy as np\n",
    "import pandas as pd\n",
    "import matplotlib.pyplot as plt\n",
    "from tqdm import tqdm"
   ]
  },
  {
   "cell_type": "code",
   "execution_count": 2,
   "id": "2f379c6d",
   "metadata": {},
   "outputs": [],
   "source": [
    "pubs = pd.read_csv('open_pubs.csv')\n",
    "\n",
    "pubs['latitude'] = pd.to_numeric(pubs['latitude'], errors = 'coerce')\n",
    "pubs['longitude'] = pd.to_numeric(pubs['longitude'], errors = 'coerce')"
   ]
  },
  {
   "cell_type": "code",
   "execution_count": 3,
   "id": "f685455a",
   "metadata": {},
   "outputs": [
    {
     "name": "stdout",
     "output_type": "stream",
     "text": [
      "Size of dataframe before dropping the nan elements: 51498\n"
     ]
    }
   ],
   "source": [
    "print(f\"Size of dataframe before dropping the nan elements: {len(pubs)}\")"
   ]
  },
  {
   "cell_type": "code",
   "execution_count": 4,
   "id": "26972600",
   "metadata": {},
   "outputs": [
    {
     "name": "stdout",
     "output_type": "stream",
     "text": [
      "Size of dataframe before dropping the nan elements: 51498\n"
     ]
    }
   ],
   "source": [
    "#Need to remove entries where there is a nan\n",
    "pubs = pubs.drop(pubs[pubs['longitude'].isna()].index)\n",
    "pubs = pubs.drop(pubs[pubs['latitude'].isna()].index)\n",
    "print(f\"Size of dataframe before dropping the nan elements: {len(pubs)}\")"
   ]
  },
  {
   "cell_type": "markdown",
   "id": "838ce0a9",
   "metadata": {},
   "source": [
    "Spicy facts to be found:\n",
    "* Furthest point away from any bar\n",
    "* Bar with the longest name\n",
    "* Bar with the shortest name\n",
    "* Oldest bar\n",
    "* Biggest bar (in term of area)\n",
    "* Smallest bar\n",
    "* Most expensive bar\n",
    "* Favorite Bar of the King (Harry or the other)\n",
    "* Most famous Bar where the Beatles played\n",
    "* ..."
   ]
  },
  {
   "cell_type": "markdown",
   "id": "bdd96307",
   "metadata": {},
   "source": [
    "## Furthest point away from any bar\n",
    "\n",
    "We do a rough estimation where the furthest point from any bar is.\n",
    "\n",
    "As this is not trivial we do it like this:\n",
    "* Create a boundary area inside the land by looking at the longitude and latitude of england on a map\n",
    "* Sample random points inside the area\n",
    "* Find point at max distance from any bar\n",
    "* Create a new zone centered on this point\n",
    "* Resample points to find exact position\n",
    "\n",
    "We run this algorithm multiple time to see if we always get the same result"
   ]
  },
  {
   "cell_type": "code",
   "execution_count": 5,
   "id": "beceb447",
   "metadata": {},
   "outputs": [],
   "source": [
    "x = pubs['longitude']\n",
    "y = pubs['latitude']"
   ]
  },
  {
   "cell_type": "code",
   "execution_count": 6,
   "id": "23f2a428",
   "metadata": {},
   "outputs": [],
   "source": [
    "boundaries = np.array([[49.83203679876408,-5.476829974804646],[50.688186362436454,0.23364177359399552],\n",
    "             [50.980571539420545,1.3485438701236152],[52.5261193398506,1.843451999231207],\n",
    "             [55.8252142574324,-1.9879785697314145], [54.96514398111719,-3.1986399011350675],\n",
    "             [54.51395378422479,-3.6902960286520847],[53.45321327221404,-3.216609938788122],\n",
    "             [53.335670494803956,-4.6616497153609116],[51.92051898068354,-5.315215222990277],\n",
    "             [51.3815596532386,-3.9541189551273126], [50.0110646266269,-6.0227448853203285],[49.83203679876408,-5.476829974804646]])"
   ]
  },
  {
   "cell_type": "code",
   "execution_count": 7,
   "id": "84a104b8",
   "metadata": {},
   "outputs": [
    {
     "data": {
      "text/plain": [
       "<matplotlib.collections.PathCollection at 0x1e97f53dcc8>"
      ]
     },
     "execution_count": 7,
     "metadata": {},
     "output_type": "execute_result"
    },
    {
     "data": {
      "image/png": "[encoded data removed]",
      "text/plain": [
       "<Figure size 432x288 with 1 Axes>"
      ]
     },
     "metadata": {
      "needs_background": "light"
     },
     "output_type": "display_data"
    }
   ],
   "source": [
    "plt.plot(boundaries[:,1], boundaries[:,0], marker = 'x', c = 'orange')\n",
    "plt.scatter(x, y)"
   ]
  },
  {
   "cell_type": "code",
   "execution_count": 8,
   "id": "9e1d1bfe",
   "metadata": {},
   "outputs": [
    {
     "name": "stderr",
     "output_type": "stream",
     "text": [
      "C:\\ProgramData\\Anaconda3\\lib\\site-packages\\libpysal\\weights\\util.py:23: UserWarning: geopandas not available. Some functionality will be disabled.\n",
      "  warn(\"geopandas not available. Some functionality will be disabled.\")\n"
     ]
    }
   ],
   "source": [
    "from shapely.geometry import Polygon, Point\n",
    "import pointpats"
   ]
  },
  {
   "cell_type": "code",
   "execution_count": 9,
   "id": "72c67f7b",
   "metadata": {},
   "outputs": [],
   "source": [
    "bars_location = np.array(list(zip(x,y)))"
   ]
  },
  {
   "cell_type": "code",
   "execution_count": 10,
   "id": "9aefd522",
   "metadata": {},
   "outputs": [
    {
     "name": "stderr",
     "output_type": "stream",
     "text": [
      "100it [00:00, 521.37it/s]\n",
      "100it [00:00, 518.21it/s]\n"
     ]
    }
   ],
   "source": [
    "\n",
    "nb_random_points = 100\n",
    "radius = [0.08, 0.001] #decreasing radius size to create second zone where we create points\n",
    "keep_point = []\n",
    "nb_runs = 1\n",
    "for i in range(nb_runs):\n",
    "    poly = Polygon(boundaries)\n",
    "    iteration = 0\n",
    "    while (iteration < 2):\n",
    "        points = pointpats.random.poisson(poly, size=nb_random_points) #Generates random points within the polygone\n",
    "        distances = np.zeros(len(points))\n",
    "        for i,random_point in tqdm(enumerate(points)):\n",
    "            distances[i] = np.min(np.linalg.norm(random_point -  bars_location, axis = 1))# For each random point, compute the min dist between the point and all bars\n",
    "        \n",
    "        #Take the random_point that is the furthest away from all points\n",
    "        furthest_point = points[np.argmax(distances)] #Finds the max min distance\n",
    "        iteration +=1\n",
    "    keep_point.append(furthest_point)"
   ]
  },
  {
   "cell_type": "code",
   "execution_count": 11,
   "id": "efe447be",
   "metadata": {},
   "outputs": [],
   "source": [
    "keep_point = np.array(keep_point)"
   ]
  },
  {
   "cell_type": "code",
   "execution_count": 12,
   "id": "e7b50516",
   "metadata": {},
   "outputs": [
    {
     "data": {
      "text/plain": [
       "70.75186142572606"
      ]
     },
     "execution_count": 12,
     "metadata": {},
     "output_type": "execute_result"
    }
   ],
   "source": [
    "distances[np.argmin(distances)]"
   ]
  },
  {
   "cell_type": "code",
   "execution_count": 13,
   "id": "bbe3d538",
   "metadata": {},
   "outputs": [
    {
     "data": {
      "text/plain": [
       "46568"
      ]
     },
     "execution_count": 13,
     "metadata": {},
     "output_type": "execute_result"
    }
   ],
   "source": [
    "np.argmax(np.linalg.norm(keep_point - bars_location, axis = 1))"
   ]
  },
  {
   "cell_type": "code",
   "execution_count": 14,
   "id": "d9bce9ee",
   "metadata": {},
   "outputs": [
    {
     "data": {
      "text/plain": [
       "<matplotlib.collections.PathCollection at 0x1e905a72308>"
      ]
     },
     "execution_count": 14,
     "metadata": {},
     "output_type": "execute_result"
    },
    {
     "data": {
      "image/png": "[encoded data removed]",
      "text/plain": [
       "<Figure size 432x288 with 1 Axes>"
      ]
     },
     "metadata": {
      "needs_background": "light"
     },
     "output_type": "display_data"
    }
   ],
   "source": [
    "plt.plot(boundaries[:,1], boundaries[:,0], marker = 'x', c = 'orange')#\n",
    "#plt.scatter(x, y)\n",
    "plt.scatter(x = keep_point[:,1], y = keep_point[:,0], c='red')\n",
    "plt.scatter(x = x[46568], y = y[46568])"
   ]
  },
  {
   "cell_type": "code",
   "execution_count": 76,
   "id": "4213023f",
   "metadata": {},
   "outputs": [
    {
     "data": {
      "text/plain": [
       "[0.0, 0.0, 0.0, 0.0, 0.0, 0.0, 0.0, 0.0, 0.0, 0.0]"
      ]
     },
     "execution_count": 76,
     "metadata": {},
     "output_type": "execute_result"
    }
   ],
   "source": [
    "min_distances"
   ]
  },
  {
   "cell_type": "markdown",
   "id": "fc36ab36",
   "metadata": {},
   "source": [
    "## Bar furthest away from any bar "
   ]
  },
  {
   "cell_type": "code",
   "execution_count": 18,
   "id": "3bd48b7e",
   "metadata": {},
   "outputs": [],
   "source": [
    "bars_location = np.array(list(zip(x,y)))"
   ]
  },
  {
   "cell_type": "code",
   "execution_count": 19,
   "id": "6d7ee73d",
   "metadata": {},
   "outputs": [
    {
     "name": "stderr",
     "output_type": "stream",
     "text": [
      "100%|███████████████████████████████████████████████████████████████████████████| 51498/51498 [00:55<00:00, 925.70it/s]\n"
     ]
    }
   ],
   "source": [
    "distances = np.zeros(len(x))\n",
    "for i in tqdm(range(len(x))):\n",
    "    point = bars_location[i]\n",
    "    all_dist = np.linalg.norm(point - bars_location, axis = 1)\n",
    "    all_dist[i] = np.inf #Need to remove the point itself\n",
    "    distances[i] = all_dist[np.argmin(all_dist)]    \n"
   ]
  },
  {
   "cell_type": "code",
   "execution_count": 20,
   "id": "69a69609",
   "metadata": {},
   "outputs": [],
   "source": [
    "furthest_pub_away = bars_location[distances.argmax()]"
   ]
  },
  {
   "cell_type": "code",
   "execution_count": 21,
   "id": "e419dd95",
   "metadata": {},
   "outputs": [
    {
     "data": {
      "text/plain": [
       "<matplotlib.collections.PathCollection at 0x1405ba502c8>"
      ]
     },
     "execution_count": 21,
     "metadata": {},
     "output_type": "execute_result"
    },
    {
     "data": {
      "image/png": "[encoded data removed]",
      "text/plain": [
       "<Figure size 432x288 with 1 Axes>"
      ]
     },
     "metadata": {
      "needs_background": "light"
     },
     "output_type": "display_data"
    }
   ],
   "source": [
    "plt.scatter(x, y)\n",
    "plt.scatter(x = furthest_pub_away[0], y = furthest_pub_away[1], color = 'red')"
   ]
  },
  {
   "cell_type": "code",
   "execution_count": 22,
   "id": "854b6123",
   "metadata": {},
   "outputs": [
    {
     "data": {
      "text/plain": [
       "Unnamed: 0                                                     44612\n",
       "Unnamed: 0.1                                                 44678.0\n",
       "fas_id                                                      444208.0\n",
       "name                                                      MacGochans\n",
       "address            Macgochan's Restaurant Tobermory Isle Of Mull ...\n",
       "postcode                                                    PA75 6NR\n",
       "easting                                                     150432.0\n",
       "northing                                                    755063.0\n",
       "latitude                                                   56.620741\n",
       "longitude                                                  -6.069821\n",
       "local_authority                                      Argyll and Bute\n",
       "population                                                   86260.0\n",
       "Name: 44612, dtype: object"
      ]
     },
     "execution_count": 22,
     "metadata": {},
     "output_type": "execute_result"
    }
   ],
   "source": [
    "pubs.iloc[distances.argmax()]"
   ]
  },
  {
   "cell_type": "code",
   "execution_count": 1,
   "id": "157f5687",
   "metadata": {},
   "outputs": [
    {
     "ename": "NameError",
     "evalue": "name 'np' is not defined",
     "output_type": "error",
     "traceback": [
      "\u001b[1;31m---------------------------------------------------------------------------\u001b[0m",
      "\u001b[1;31mNameError\u001b[0m                                 Traceback (most recent call last)",
      "\u001b[1;32m<ipython-input-1-26439ddf0af0>\u001b[0m in \u001b[0;36m<module>\u001b[1;34m\u001b[0m\n\u001b[1;32m----> 1\u001b[1;33m \u001b[0mfurthest_bar\u001b[0m \u001b[1;33m=\u001b[0m \u001b[0mnp\u001b[0m\u001b[1;33m.\u001b[0m\u001b[0marray\u001b[0m\u001b[1;33m(\u001b[0m\u001b[1;36m56.620741\u001b[0m\u001b[1;33m,\u001b[0m\u001b[1;33m-\u001b[0m\u001b[1;36m6.069821\u001b[0m\u001b[1;33m)\u001b[0m\u001b[1;33m\u001b[0m\u001b[1;33m\u001b[0m\u001b[0m\n\u001b[0m",
      "\u001b[1;31mNameError\u001b[0m: name 'np' is not defined"
     ]
    }
   ],
   "source": [
    "furthest_bar = np.array(56.620741,-6.069821)"
   ]
  },
  {
   "cell_type": "code",
   "execution_count": null,
   "id": "55af524e",
   "metadata": {},
   "outputs": [],
   "source": []
  },
  {
   "cell_type": "markdown",
   "id": "69469074",
   "metadata": {},
   "source": [
    "## Bar with shortest/longest name"
   ]
  },
  {
   "cell_type": "code",
   "execution_count": 11,
   "id": "a3e073b6",
   "metadata": {},
   "outputs": [],
   "source": [
    "ordered_names = np.argsort(pubs['name'].apply(lambda x: len(x)))\n",
    "shortest_name_indices = list(ordered_names[0:10])\n",
    "longest_name_indices = list(ordered_names[::-1][0:10])"
   ]
  },
  {
   "cell_type": "code",
   "execution_count": 12,
   "id": "ed50940a",
   "metadata": {},
   "outputs": [
    {
     "name": "stdout",
     "output_type": "stream",
     "text": [
      "Name: Feniscowles and Pleasington Sports And Social Club mail to other addr), length of name: 70, lat, long = (53.72325, -2.534871)\n",
      "Name: Love Your Greens Catering, King George Fields Indoor Bowls Club, length of name: 63, lat, long = (51.36996, -0.285478)\n",
      "Name: Holy Trinity Community and Partnership Centre, Community Hall, length of name: 61, lat, long = (53.070715, -0.817595)\n",
      "Name: Hammersmith Riverside Events @ Auriol Kensington Rowing Club, length of name: 60, lat, long = (51.489855, -0.231434)\n",
      "Name: Merthyr Vale & Aberfan Social Democratic Club & Institute Lt, length of name: 60, lat, long = (51.695897, -3.344356)\n",
      "Name: London Midland Railway Clubs Association (Walsall Branch) We, length of name: 60, lat, long = (52.57405, -1.993551)\n",
      "Name: Derbyshire Catering The Nailers - Belper Meadows Sports Club, length of name: 60, lat, long = (53.026261, -1.48573)\n",
      "Name: The Milk Bar Arts and Entertainment Appreciation Society CIC, length of name: 60, lat, long = (51.456546, -2.580442)\n",
      "Name: The Friendship Centre (Petworth And District Over 60's Club), length of name: 60, lat, long = (50.986875, -0.608837)\n",
      "Name: Cross Hands Beefeater Grill And Cheltenham West Premier Inn, length of name: 59, lat, long = (51.919025, -2.111763)\n"
     ]
    }
   ],
   "source": [
    "for row, content in pubs.iloc[longest_name_indices].iterrows():\n",
    "    print(f\"Name: {content['name']}, length of name: {len(content['name'])}, lat, long = {content['latitude'], content['longitude']}\")"
   ]
  },
  {
   "cell_type": "markdown",
   "id": "09f20dbe",
   "metadata": {},
   "source": [
    "First one with 70 letters seems to have a mistake, so we take the second one"
   ]
  },
  {
   "cell_type": "code",
   "execution_count": 15,
   "id": "ff6dbce4",
   "metadata": {},
   "outputs": [
    {
     "name": "stdout",
     "output_type": "stream",
     "text": [
      "Name: v, length of name: 1, lat, long = (52.191353, 1.000189)\n",
      "Name: G6, length of name: 2, lat, long = (51.595438, -3.782497)\n",
      "Name: O2, length of name: 2, lat, long = (52.621929, -1.123824)\n",
      "Name: Ox, length of name: 2, lat, long = (50.72351, -1.954668)\n",
      "Name: C2, length of name: 2, lat, long = (53.237331, -1.424278)\n",
      "Name: HD, length of name: 2, lat, long = (53.473981, -2.243351)\n",
      "Name: 85, length of name: 2, lat, long = (56.203307, -3.207425)\n",
      "Name: XS, length of name: 2, lat, long = (54.852644, -1.573505)\n",
      "Name: 32, length of name: 2, lat, long = (55.996324, -3.88323)\n",
      "Name: 35, length of name: 2, lat, long = (56.00182, -3.885261)\n"
     ]
    }
   ],
   "source": [
    "for row, content in pubs.iloc[shortest_name_indices].iterrows():\n",
    "    print(f\"Name: {content['name']}, length of name: {len(content['name'])}, lat, long = {content['latitude'], content['longitude']}\")"
   ]
  },
  {
   "cell_type": "markdown",
   "id": "5089b0e4",
   "metadata": {},
   "source": [
    "## Oldest bar in the UK\n",
    "This bar is in the Guiness book of records for being the oldest pub in the uk:\n",
    "\n",
    "source:\n",
    "* https://www.thedrinksbusiness.com/2017/10/the-15-oldest-pubs-in-the-uk-ranked-according-to-their-claims/\n",
    "* https://en.wikipedia.org/wiki/Ye_Olde_Fighting_Cocks\n",
    "\n",
    "Ye Olde Fighting Cocks was recognised as the oldest pub in the UK by the Guinness Book of World Records but the title was rested in 2000. We take this bar as it had at least once the title of oldest bar."
   ]
  },
  {
   "cell_type": "code",
   "execution_count": 16,
   "id": "75fda831",
   "metadata": {},
   "outputs": [
    {
     "data": {
      "text/html": [
       "<div>\n",
       "<style scoped>\n",
       "    .dataframe tbody tr th:only-of-type {\n",
       "        vertical-align: middle;\n",
       "    }\n",
       "\n",
       "    .dataframe tbody tr th {\n",
       "        vertical-align: top;\n",
       "    }\n",
       "\n",
       "    .dataframe thead th {\n",
       "        text-align: right;\n",
       "    }\n",
       "</style>\n",
       "<table border=\"1\" class=\"dataframe\">\n",
       "  <thead>\n",
       "    <tr style=\"text-align: right;\">\n",
       "      <th></th>\n",
       "      <th>Unnamed: 0</th>\n",
       "      <th>fas_id</th>\n",
       "      <th>name</th>\n",
       "      <th>address</th>\n",
       "      <th>postcode</th>\n",
       "      <th>easting</th>\n",
       "      <th>northing</th>\n",
       "      <th>latitude</th>\n",
       "      <th>longitude</th>\n",
       "      <th>local_authority</th>\n",
       "      <th>population</th>\n",
       "    </tr>\n",
       "  </thead>\n",
       "  <tbody>\n",
       "    <tr>\n",
       "      <th>21163</th>\n",
       "      <td>21163</td>\n",
       "      <td>210189</td>\n",
       "      <td>Ye Olde Fighting Cocks</td>\n",
       "      <td>Ye Olde Fighting Cocks, Promenade, Arnside</td>\n",
       "      <td>LA5 0HD</td>\n",
       "      <td>345723</td>\n",
       "      <td>478914</td>\n",
       "      <td>54.203076</td>\n",
       "      <td>-2.833569</td>\n",
       "      <td>South Lakeland</td>\n",
       "      <td>105088</td>\n",
       "    </tr>\n",
       "  </tbody>\n",
       "</table>\n",
       "</div>"
      ],
      "text/plain": [
       "       Unnamed: 0  fas_id                    name  \\\n",
       "21163       21163  210189  Ye Olde Fighting Cocks   \n",
       "\n",
       "                                          address postcode  easting  northing  \\\n",
       "21163  Ye Olde Fighting Cocks, Promenade, Arnside  LA5 0HD   345723    478914   \n",
       "\n",
       "        latitude  longitude local_authority  population  \n",
       "21163  54.203076  -2.833569  South Lakeland      105088  "
      ]
     },
     "execution_count": 16,
     "metadata": {},
     "output_type": "execute_result"
    }
   ],
   "source": [
    "#Checking that it's in the data:\n",
    "pubs[pubs['name'] == 'Ye Olde Fighting Cocks']"
   ]
  },
  {
   "cell_type": "markdown",
   "id": "67046c80",
   "metadata": {},
   "source": [
    "## Smallest bar in the UK\n",
    "\n",
    "source:\n",
    "https://en.wikipedia.org/wiki/The_Nutshell\n",
    "\n",
    "It also had its place in the Guiness book of records, that's why we take this bar instead of another one\n"
   ]
  },
  {
   "cell_type": "code",
   "execution_count": 22,
   "id": "6493b203",
   "metadata": {},
   "outputs": [
    {
     "data": {
      "text/html": [
       "<div>\n",
       "<style scoped>\n",
       "    .dataframe tbody tr th:only-of-type {\n",
       "        vertical-align: middle;\n",
       "    }\n",
       "\n",
       "    .dataframe tbody tr th {\n",
       "        vertical-align: top;\n",
       "    }\n",
       "\n",
       "    .dataframe thead th {\n",
       "        text-align: right;\n",
       "    }\n",
       "</style>\n",
       "<table border=\"1\" class=\"dataframe\">\n",
       "  <thead>\n",
       "    <tr style=\"text-align: right;\">\n",
       "      <th></th>\n",
       "      <th>Unnamed: 0</th>\n",
       "      <th>fas_id</th>\n",
       "      <th>name</th>\n",
       "      <th>address</th>\n",
       "      <th>postcode</th>\n",
       "      <th>easting</th>\n",
       "      <th>northing</th>\n",
       "      <th>latitude</th>\n",
       "      <th>longitude</th>\n",
       "      <th>local_authority</th>\n",
       "      <th>population</th>\n",
       "    </tr>\n",
       "  </thead>\n",
       "  <tbody>\n",
       "  </tbody>\n",
       "</table>\n",
       "</div>"
      ],
      "text/plain": [
       "Empty DataFrame\n",
       "Columns: [Unnamed: 0, fas_id, name, address, postcode, easting, northing, latitude, longitude, local_authority, population]\n",
       "Index: []"
      ]
     },
     "execution_count": 22,
     "metadata": {},
     "output_type": "execute_result"
    }
   ],
   "source": [
    "#Checking that it's in the data:\n",
    "pubs[pubs['name'].apply(lambda x: x.lower()) == 'nutshell']"
   ]
  },
  {
   "cell_type": "code",
   "execution_count": 24,
   "id": "a45c8381",
   "metadata": {},
   "outputs": [],
   "source": [
    "#It wasn't in the dataset so we need to add it (we don't care about the other infos for this part):\n",
    "pubs = pubs.append({ \"name\": \"The Nutshell\", 'latitude': \"52.24484840036002\", 'longitude':\"0.7127516751586728\" }, ignore_index = True)"
   ]
  },
  {
   "cell_type": "code",
   "execution_count": 26,
   "id": "b247fc0f",
   "metadata": {},
   "outputs": [
    {
     "data": {
      "text/html": [
       "<div>\n",
       "<style scoped>\n",
       "    .dataframe tbody tr th:only-of-type {\n",
       "        vertical-align: middle;\n",
       "    }\n",
       "\n",
       "    .dataframe tbody tr th {\n",
       "        vertical-align: top;\n",
       "    }\n",
       "\n",
       "    .dataframe thead th {\n",
       "        text-align: right;\n",
       "    }\n",
       "</style>\n",
       "<table border=\"1\" class=\"dataframe\">\n",
       "  <thead>\n",
       "    <tr style=\"text-align: right;\">\n",
       "      <th></th>\n",
       "      <th>Unnamed: 0</th>\n",
       "      <th>fas_id</th>\n",
       "      <th>name</th>\n",
       "      <th>address</th>\n",
       "      <th>postcode</th>\n",
       "      <th>easting</th>\n",
       "      <th>northing</th>\n",
       "      <th>latitude</th>\n",
       "      <th>longitude</th>\n",
       "      <th>local_authority</th>\n",
       "      <th>population</th>\n",
       "    </tr>\n",
       "  </thead>\n",
       "  <tbody>\n",
       "    <tr>\n",
       "      <th>51496</th>\n",
       "      <td>NaN</td>\n",
       "      <td>NaN</td>\n",
       "      <td>The Nutshell</td>\n",
       "      <td>NaN</td>\n",
       "      <td>NaN</td>\n",
       "      <td>NaN</td>\n",
       "      <td>NaN</td>\n",
       "      <td>52.24484840036002</td>\n",
       "      <td>0.7127516751586728</td>\n",
       "      <td>NaN</td>\n",
       "      <td>NaN</td>\n",
       "    </tr>\n",
       "  </tbody>\n",
       "</table>\n",
       "</div>"
      ],
      "text/plain": [
       "       Unnamed: 0  fas_id          name address postcode  easting  northing  \\\n",
       "51496         NaN     NaN  The Nutshell     NaN      NaN      NaN       NaN   \n",
       "\n",
       "                latitude           longitude local_authority  population  \n",
       "51496  52.24484840036002  0.7127516751586728             NaN         NaN  "
      ]
     },
     "execution_count": 26,
     "metadata": {},
     "output_type": "execute_result"
    }
   ],
   "source": [
    "pubs[pubs['name'].apply(lambda x: x.lower()) == 'the nutshell']"
   ]
  },
  {
   "cell_type": "code",
   "execution_count": 28,
   "id": "cd7d62bd",
   "metadata": {},
   "outputs": [],
   "source": [
    "#pubs.to_csv('open_pubs.csv')"
   ]
  },
  {
   "cell_type": "markdown",
   "id": "f60e8495",
   "metadata": {},
   "source": [
    "## Biggest bar (in area)\n",
    "\n",
    "source:\n",
    "https://www.expressandstar.com/news/uk-news/2020/07/03/uks-largest-pub-ready-for-reopening-as-lockdown-eases/\n"
   ]
  },
  {
   "cell_type": "code",
   "execution_count": 46,
   "id": "7872e404",
   "metadata": {},
   "outputs": [
    {
     "data": {
      "text/html": [
       "<div>\n",
       "<style scoped>\n",
       "    .dataframe tbody tr th:only-of-type {\n",
       "        vertical-align: middle;\n",
       "    }\n",
       "\n",
       "    .dataframe tbody tr th {\n",
       "        vertical-align: top;\n",
       "    }\n",
       "\n",
       "    .dataframe thead th {\n",
       "        text-align: right;\n",
       "    }\n",
       "</style>\n",
       "<table border=\"1\" class=\"dataframe\">\n",
       "  <thead>\n",
       "    <tr style=\"text-align: right;\">\n",
       "      <th></th>\n",
       "      <th>Unnamed: 0</th>\n",
       "      <th>fas_id</th>\n",
       "      <th>name</th>\n",
       "      <th>address</th>\n",
       "      <th>postcode</th>\n",
       "      <th>easting</th>\n",
       "      <th>northing</th>\n",
       "      <th>latitude</th>\n",
       "      <th>longitude</th>\n",
       "      <th>local_authority</th>\n",
       "      <th>population</th>\n",
       "    </tr>\n",
       "  </thead>\n",
       "  <tbody>\n",
       "  </tbody>\n",
       "</table>\n",
       "</div>"
      ],
      "text/plain": [
       "Empty DataFrame\n",
       "Columns: [Unnamed: 0, fas_id, name, address, postcode, easting, northing, latitude, longitude, local_authority, population]\n",
       "Index: []"
      ]
     },
     "execution_count": 46,
     "metadata": {},
     "output_type": "execute_result"
    }
   ],
   "source": [
    "pubs[pubs['name'].apply(lambda x: x.lower()) == 'royal victoria pavilion']"
   ]
  },
  {
   "cell_type": "code",
   "execution_count": 47,
   "id": "8e7db000",
   "metadata": {},
   "outputs": [],
   "source": [
    "#Need to add it as it wasnt' in the dataset\n",
    "#pubs = pubs.append({ \"name\": \"Royal Victoria Pavilion\", 'latitude': \"51.33198698833608\", 'longitude':\"1.4237457909186908\" }, ignore_index = True)"
   ]
  },
  {
   "cell_type": "code",
   "execution_count": 48,
   "id": "020d8d53",
   "metadata": {},
   "outputs": [],
   "source": [
    "#pubs.to_csv('open_pubs.csv')"
   ]
  },
  {
   "cell_type": "markdown",
   "id": "61090de8",
   "metadata": {},
   "source": [
    "## Other information found on the internet\n",
    "* Biggest bar (in terms of surface), link:\n",
    "* Smallest bar, link:\n",
    "* Bar with the most drinks\n",
    "* Bar with the most beers\n",
    "* Bar witht the biggest capacity?\n",
    "* Most concentration of bars? See how we can do that make (2d density map)\n",
    "* Bar furthest away from any other bar"
   ]
  },
  {
   "cell_type": "code",
   "execution_count": null,
   "id": "65ca9974",
   "metadata": {},
   "outputs": [],
   "source": []
  }
 ],
 "metadata": {
  "kernelspec": {
   "display_name": "Python 3",
   "language": "python",
   "name": "python3"
  },
  "language_info": {
   "codemirror_mode": {
    "name": "ipython",
    "version": 3
   },
   "file_extension": ".py",
   "mimetype": "text/x-python",
   "name": "python",
   "nbconvert_exporter": "python",
   "pygments_lexer": "ipython3",
   "version": "3.7.6"
  }
 },
 "nbformat": 4,
 "nbformat_minor": 5
}
