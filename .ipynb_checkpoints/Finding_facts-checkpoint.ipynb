{
 "cells": [
  {
   "cell_type": "code",
   "execution_count": 1,
   "id": "35d6b23f",
   "metadata": {},
   "outputs": [],
   "source": [
    "import numpy as np\n",
    "import pandas as pd\n",
    "import matplotlib.pyplot as plt\n",
    "from tqdm import tqdm"
   ]
  },
  {
   "cell_type": "markdown",
   "id": "849b1705",
   "metadata": {},
   "source": [
    "## Spicy facts to be found:\n",
    "* Furthest point away from any bar\n",
    "* Bar most furthest away from any bar\n",
    "* Bar with the longest name\n",
    "* Bar with the shortest name\n",
    "* Oldest bar\n",
    "* Smallest bar\n",
    "* Biggest bar (in term of area)"
   ]
  },
  {
   "cell_type": "code",
   "execution_count": 5,
   "id": "ba455ec2",
   "metadata": {},
   "outputs": [],
   "source": [
    "\n",
    "pubs = pd.read_csv('open_pubs.csv')\n",
    "#Need to convert the latitude and longitude to numerical values\n",
    "pubs['latitude'] = pd.to_numeric(pubs['latitude'], errors = 'coerce')\n",
    "pubs['longitude'] = pd.to_numeric(pubs['longitude'], errors = 'coerce')"
   ]
  },
  {
   "cell_type": "code",
   "execution_count": 3,
   "id": "d20e9772",
   "metadata": {},
   "outputs": [
    {
     "name": "stdout",
     "output_type": "stream",
     "text": [
      "Size of dataframe before dropping the nan elements: 51498\n"
     ]
    }
   ],
   "source": [
    "print(f\"Size of dataframe before dropping the nan elements: {len(pubs)}\")"
   ]
  },
  {
   "cell_type": "code",
   "execution_count": 4,
   "id": "7e4b9183",
   "metadata": {},
   "outputs": [
    {
     "name": "stdout",
     "output_type": "stream",
     "text": [
      "Size of dataframe before dropping the nan elements: 51498\n"
     ]
    }
   ],
   "source": [
    "#Need to remove entries where there is a nan\n",
    "pubs = pubs.drop(pubs[pubs['longitude'].isna()].index)\n",
    "pubs = pubs.drop(pubs[pubs['latitude'].isna()].index)\n",
    "print(f\"Size of dataframe before dropping the nan elements: {len(pubs)}\")"
   ]
  },
  {
   "cell_type": "markdown",
   "id": "43885216",
   "metadata": {},
   "source": [
    "## Furthest point away from any bar\n",
    "\n",
    "We do a rough estimation where the furthest point from any bar is.\n",
    "\n",
    "As this is not trivial we do it like this:\n",
    "* Create a boundary area inside the land by looking at the longitude and latitude of england on a map\n",
    "* Sample random 5000 points inside the area\n",
    "* Find point at max distance from any bar\n",
    "* Create a new zone centered (circle) on this point\n",
    "* Resample 5000 points in this zone and find which point is the furthest away from any bar\n",
    "\n",
    "As this algorithm is based on randomness, we run it multiple times and take the coordinates (zone) that happens the most often"
   ]
  },
  {
   "cell_type": "code",
   "execution_count": 13,
   "id": "044d51d2",
   "metadata": {},
   "outputs": [],
   "source": [
    "x = pubs['longitude']\n",
    "y = pubs['latitude']\n",
    "#In order to have a plot that looks like england when we plot the bars we invert the x,y"
   ]
  },
  {
   "cell_type": "code",
   "execution_count": 14,
   "id": "a5c8305f",
   "metadata": {},
   "outputs": [],
   "source": [
    "boundaries = np.array([[50.188037,-5.196287],\n",
    "[50.966788,-1.590941],\n",
    "[51.077358,1.003247],\n",
    "[51.475966,0.299739],\n",
    "[52.410518,1.618818],\n",
    "[52.597765,0.202959],\n",
    "[52.969871,-0.170780],\n",
    "[53.181076,0.180974],\n",
    "[54.524934,-0.905976],\n",
    "[54.628941,-1.371318],\n",
    "[55.693713,-2.162784],\n",
    "[55.031826,-2.910262],\n",
    "[54.058985,-2.690415],\n",
    "[53.332650,-3.078930],\n",
    "[52.844392,-3.969309],\n",
    "[51.626685,-3.716485],\n",
    "[51.844404,-2.298475],\n",
    "[51.190390,-2.892061],\n",
    "[50.188037,-5.196287]]) "
   ]
  },
  {
   "cell_type": "code",
   "execution_count": 15,
   "id": "023998bd",
   "metadata": {},
   "outputs": [
    {
     "data": {
      "text/plain": [
       "<matplotlib.collections.PathCollection at 0x21d9067f8c8>"
      ]
     },
     "execution_count": 15,
     "metadata": {},
     "output_type": "execute_result"
    },
    {
     "data": {
      "image/png": "[encoded data removed]",
      "text/plain": [
       "<Figure size 432x288 with 1 Axes>"
      ]
     },
     "metadata": {
      "needs_background": "light"
     },
     "output_type": "display_data"
    }
   ],
   "source": [
    "#See that the boundaries we compute is clearly within the land\n",
    "plt.plot(boundaries[:,1], boundaries[:,0], marker = 'x', c = 'orange')\n",
    "plt.scatter(x, y)"
   ]
  },
  {
   "cell_type": "code",
   "execution_count": 9,
   "id": "aacaa7f3",
   "metadata": {},
   "outputs": [
    {
     "name": "stderr",
     "output_type": "stream",
     "text": [
      "C:\\ProgramData\\Anaconda3\\lib\\site-packages\\libpysal\\weights\\util.py:23: UserWarning: geopandas not available. Some functionality will be disabled.\n",
      "  warn(\"geopandas not available. Some functionality will be disabled.\")\n"
     ]
    }
   ],
   "source": [
    "from shapely.geometry import Polygon, Point\n",
    "import pointpats"
   ]
  },
  {
   "cell_type": "code",
   "execution_count": 16,
   "id": "7b6ab4dc",
   "metadata": {},
   "outputs": [],
   "source": [
    "bars_location = np.array(list(zip(y,x)))"
   ]
  },
  {
   "cell_type": "code",
   "execution_count": 19,
   "id": "5cda2734",
   "metadata": {},
   "outputs": [
    {
     "name": "stderr",
     "output_type": "stream",
     "text": [
      "5000it [00:08, 601.30it/s]\n",
      "5000it [00:08, 602.75it/s]\n",
      "5000it [00:08, 583.10it/s]\n",
      "5000it [00:08, 617.13it/s]\n",
      "5000it [00:08, 607.69it/s]\n",
      "5000it [00:08, 607.92it/s]\n",
      "5000it [00:08, 613.37it/s]\n",
      "5000it [00:05, 853.51it/s]\n",
      "5000it [00:05, 987.20it/s] \n",
      "5000it [00:08, 583.36it/s]\n",
      "5000it [00:08, 575.41it/s]\n",
      "5000it [00:08, 602.98it/s]\n",
      "5000it [00:08, 596.28it/s]\n",
      "5000it [00:04, 1008.21it/s]\n",
      "5000it [00:05, 983.13it/s] \n",
      "5000it [00:05, 952.65it/s] \n",
      "5000it [00:05, 979.43it/s] \n",
      "5000it [00:05, 971.56it/s] \n",
      "5000it [00:05, 954.40it/s] \n",
      "5000it [00:05, 963.22it/s]\n"
     ]
    }
   ],
   "source": [
    "\n",
    "nb_random_points = 5000\n",
    "radius = 0.08 #decreasing radius size to create second zone where we create points\n",
    "keep_point = []\n",
    "nb_runs = 10\n",
    "\n",
    "for i in range(nb_runs):\n",
    "    poly = Polygon(boundaries)\n",
    "    iteration = 0\n",
    "    while (iteration < 2):\n",
    "        points = pointpats.random.poisson(poly, size=nb_random_points) #Generates random points within the polygone\n",
    "        distances = np.zeros(len(points))\n",
    "        for i,random_point in tqdm(enumerate(points)):\n",
    "            distances[i] = np.min(np.linalg.norm(random_point -  bars_location, axis = 1))# For each random point, compute the min dist between the point and all bars\n",
    "        \n",
    "        #Take the random_point that is the furthest away from all points\n",
    "        furthest_point = points[np.argmax(distances)] #Finds the max min distance\n",
    "        iteration +=1\n",
    "    keep_point.append(furthest_point)\n",
    "\n",
    "keep_point = np.array(keep_point)"
   ]
  },
  {
   "cell_type": "code",
   "execution_count": 21,
   "id": "a3712be8",
   "metadata": {},
   "outputs": [
    {
     "data": {
      "text/plain": [
       "<matplotlib.collections.PathCollection at 0x21d90d28748>"
      ]
     },
     "execution_count": 21,
     "metadata": {},
     "output_type": "execute_result"
    },
    {
     "data": {
      "image/png": "[encoded data removed]",
      "text/plain": [
       "<Figure size 432x288 with 1 Axes>"
      ]
     },
     "metadata": {
      "needs_background": "light"
     },
     "output_type": "display_data"
    }
   ],
   "source": [
    "plt.plot(boundaries[:,1], boundaries[:,0], marker = 'x', c = 'orange')#\n",
    "plt.scatter(x = keep_point[:,1], y = keep_point[:,0], c='red')"
   ]
  },
  {
   "cell_type": "code",
   "execution_count": 22,
   "id": "bc94d899",
   "metadata": {},
   "outputs": [
    {
     "data": {
      "text/plain": [
       "array([[55.47176519, -2.3016075 ],\n",
       "       [55.46600061, -2.27573543],\n",
       "       [55.4384413 , -2.24475155],\n",
       "       [52.26810895, -3.70247998],\n",
       "       [55.49127062, -2.29944892],\n",
       "       [55.48978977, -2.29166001],\n",
       "       [55.46072777, -2.29005911],\n",
       "       [55.46744155, -2.2484789 ],\n",
       "       [55.46349508, -2.24438521],\n",
       "       [55.48248094, -2.25517103]])"
      ]
     },
     "execution_count": 22,
     "metadata": {},
     "output_type": "execute_result"
    }
   ],
   "source": [
    "keep_point"
   ]
  },
  {
   "cell_type": "markdown",
   "id": "560befa4",
   "metadata": {},
   "source": [
    "Mos of the times, the bar is in the upper right of england, we therefore take this point"
   ]
  },
  {
   "cell_type": "markdown",
   "id": "08f66d88",
   "metadata": {},
   "source": [
    "## Bar furthest away from any bar "
   ]
  },
  {
   "cell_type": "code",
   "execution_count": 23,
   "id": "e54d492c",
   "metadata": {},
   "outputs": [],
   "source": [
    "bars_location = np.array(list(zip(y,x)))"
   ]
  },
  {
   "cell_type": "code",
   "execution_count": 24,
   "id": "a362f2b1",
   "metadata": {},
   "outputs": [
    {
     "name": "stderr",
     "output_type": "stream",
     "text": [
      "100%|███████████████████████████████████████████████████████████████████████████| 51498/51498 [00:53<00:00, 959.40it/s]\n"
     ]
    }
   ],
   "source": [
    "distances = np.zeros(len(x))\n",
    "for i in tqdm(range(len(x))):\n",
    "    point = bars_location[i]\n",
    "    all_dist = np.linalg.norm(point - bars_location, axis = 1)\n",
    "    all_dist[i] = np.inf #Need to remove the point itself\n",
    "    distances[i] = all_dist[np.argmin(all_dist)]    \n"
   ]
  },
  {
   "cell_type": "code",
   "execution_count": 25,
   "id": "dea53c61",
   "metadata": {},
   "outputs": [],
   "source": [
    "furthest_pub_away = bars_location[distances.argmax()]"
   ]
  },
  {
   "cell_type": "code",
   "execution_count": 28,
   "id": "23bf3b5b",
   "metadata": {},
   "outputs": [
    {
     "data": {
      "text/plain": [
       "<matplotlib.collections.PathCollection at 0x21d91d20188>"
      ]
     },
     "execution_count": 28,
     "metadata": {},
     "output_type": "execute_result"
    },
    {
     "data": {
      "image/png": "[encoded data removed]",
      "text/plain": [
       "<Figure size 432x288 with 1 Axes>"
      ]
     },
     "metadata": {
      "needs_background": "light"
     },
     "output_type": "display_data"
    }
   ],
   "source": [
    "plt.scatter(x, y)\n",
    "plt.scatter(x = furthest_pub_away[1], y = furthest_pub_away[0], color = 'red')"
   ]
  },
  {
   "cell_type": "code",
   "execution_count": 27,
   "id": "10df0502",
   "metadata": {},
   "outputs": [
    {
     "data": {
      "text/plain": [
       "Unnamed: 0                                                     44612\n",
       "Unnamed: 0.1                                                 44678.0\n",
       "fas_id                                                      444208.0\n",
       "name                                                      MacGochans\n",
       "address            Macgochan's Restaurant Tobermory Isle Of Mull ...\n",
       "postcode                                                    PA75 6NR\n",
       "easting                                                     150432.0\n",
       "northing                                                    755063.0\n",
       "latitude                                                   56.620741\n",
       "longitude                                                  -6.069821\n",
       "local_authority                                      Argyll and Bute\n",
       "population                                                   86260.0\n",
       "Name: 44612, dtype: object"
      ]
     },
     "execution_count": 27,
     "metadata": {},
     "output_type": "execute_result"
    }
   ],
   "source": [
    "pubs.iloc[distances.argmax()]"
   ]
  },
  {
   "cell_type": "markdown",
   "id": "0bc52545",
   "metadata": {},
   "source": [
    "## Bar with shortest/longest name"
   ]
  },
  {
   "cell_type": "code",
   "execution_count": 11,
   "id": "4af4e087",
   "metadata": {},
   "outputs": [],
   "source": [
    "ordered_names = np.argsort(pubs['name'].apply(lambda x: len(x)))\n",
    "shortest_name_indices = list(ordered_names[0:10])\n",
    "longest_name_indices = list(ordered_names[::-1][0:10])"
   ]
  },
  {
   "cell_type": "code",
   "execution_count": 12,
   "id": "f92c6645",
   "metadata": {},
   "outputs": [
    {
     "name": "stdout",
     "output_type": "stream",
     "text": [
      "Name: Feniscowles and Pleasington Sports And Social Club mail to other addr), length of name: 70, lat, long = (53.72325, -2.534871)\n",
      "Name: Love Your Greens Catering, King George Fields Indoor Bowls Club, length of name: 63, lat, long = (51.36996, -0.285478)\n",
      "Name: Holy Trinity Community and Partnership Centre, Community Hall, length of name: 61, lat, long = (53.070715, -0.817595)\n",
      "Name: Hammersmith Riverside Events @ Auriol Kensington Rowing Club, length of name: 60, lat, long = (51.489855, -0.231434)\n",
      "Name: Merthyr Vale & Aberfan Social Democratic Club & Institute Lt, length of name: 60, lat, long = (51.695897, -3.344356)\n",
      "Name: London Midland Railway Clubs Association (Walsall Branch) We, length of name: 60, lat, long = (52.57405, -1.993551)\n",
      "Name: Derbyshire Catering The Nailers - Belper Meadows Sports Club, length of name: 60, lat, long = (53.026261, -1.48573)\n",
      "Name: The Milk Bar Arts and Entertainment Appreciation Society CIC, length of name: 60, lat, long = (51.456546, -2.580442)\n",
      "Name: The Friendship Centre (Petworth And District Over 60's Club), length of name: 60, lat, long = (50.986875, -0.608837)\n",
      "Name: Cross Hands Beefeater Grill And Cheltenham West Premier Inn, length of name: 59, lat, long = (51.919025, -2.111763)\n"
     ]
    }
   ],
   "source": [
    "for row, content in pubs.iloc[longest_name_indices].iterrows():\n",
    "    print(f\"Name: {content['name']}, length of name: {len(content['name'])}, lat, long = {content['latitude'], content['longitude']}\")"
   ]
  },
  {
   "cell_type": "markdown",
   "id": "fde28821",
   "metadata": {},
   "source": [
    "First one with 70 letters seems to have a mistake, so we take the second one"
   ]
  },
  {
   "cell_type": "code",
   "execution_count": 15,
   "id": "7e7e7e90",
   "metadata": {},
   "outputs": [
    {
     "name": "stdout",
     "output_type": "stream",
     "text": [
      "Name: v, length of name: 1, lat, long = (52.191353, 1.000189)\n",
      "Name: G6, length of name: 2, lat, long = (51.595438, -3.782497)\n",
      "Name: O2, length of name: 2, lat, long = (52.621929, -1.123824)\n",
      "Name: Ox, length of name: 2, lat, long = (50.72351, -1.954668)\n",
      "Name: C2, length of name: 2, lat, long = (53.237331, -1.424278)\n",
      "Name: HD, length of name: 2, lat, long = (53.473981, -2.243351)\n",
      "Name: 85, length of name: 2, lat, long = (56.203307, -3.207425)\n",
      "Name: XS, length of name: 2, lat, long = (54.852644, -1.573505)\n",
      "Name: 32, length of name: 2, lat, long = (55.996324, -3.88323)\n",
      "Name: 35, length of name: 2, lat, long = (56.00182, -3.885261)\n"
     ]
    }
   ],
   "source": [
    "for row, content in pubs.iloc[shortest_name_indices].iterrows():\n",
    "    print(f\"Name: {content['name']}, length of name: {len(content['name'])}, lat, long = {content['latitude'], content['longitude']}\")"
   ]
  },
  {
   "cell_type": "markdown",
   "id": "3a68f9fb",
   "metadata": {},
   "source": [
    "## Oldest bar in the UK\n",
    "This bar is in the Guiness book of records for being the oldest pub in the uk:\n",
    "\n",
    "source:\n",
    "* https://www.thedrinksbusiness.com/2017/10/the-15-oldest-pubs-in-the-uk-ranked-according-to-their-claims/\n",
    "* https://en.wikipedia.org/wiki/Ye_Olde_Fighting_Cocks\n",
    "\n",
    "Ye Olde Fighting Cocks was recognised as the oldest pub in the UK by the Guinness Book of World Records but the title was rested in 2000. We take this bar as it had at least once the title of oldest bar."
   ]
  },
  {
   "cell_type": "code",
   "execution_count": 16,
   "id": "d1e1f7a4",
   "metadata": {},
   "outputs": [
    {
     "data": {
      "text/html": [
       "<div>\n",
       "<style scoped>\n",
       "    .dataframe tbody tr th:only-of-type {\n",
       "        vertical-align: middle;\n",
       "    }\n",
       "\n",
       "    .dataframe tbody tr th {\n",
       "        vertical-align: top;\n",
       "    }\n",
       "\n",
       "    .dataframe thead th {\n",
       "        text-align: right;\n",
       "    }\n",
       "</style>\n",
       "<table border=\"1\" class=\"dataframe\">\n",
       "  <thead>\n",
       "    <tr style=\"text-align: right;\">\n",
       "      <th></th>\n",
       "      <th>Unnamed: 0</th>\n",
       "      <th>fas_id</th>\n",
       "      <th>name</th>\n",
       "      <th>address</th>\n",
       "      <th>postcode</th>\n",
       "      <th>easting</th>\n",
       "      <th>northing</th>\n",
       "      <th>latitude</th>\n",
       "      <th>longitude</th>\n",
       "      <th>local_authority</th>\n",
       "      <th>population</th>\n",
       "    </tr>\n",
       "  </thead>\n",
       "  <tbody>\n",
       "    <tr>\n",
       "      <th>21163</th>\n",
       "      <td>21163</td>\n",
       "      <td>210189</td>\n",
       "      <td>Ye Olde Fighting Cocks</td>\n",
       "      <td>Ye Olde Fighting Cocks, Promenade, Arnside</td>\n",
       "      <td>LA5 0HD</td>\n",
       "      <td>345723</td>\n",
       "      <td>478914</td>\n",
       "      <td>54.203076</td>\n",
       "      <td>-2.833569</td>\n",
       "      <td>South Lakeland</td>\n",
       "      <td>105088</td>\n",
       "    </tr>\n",
       "  </tbody>\n",
       "</table>\n",
       "</div>"
      ],
      "text/plain": [
       "       Unnamed: 0  fas_id                    name  \\\n",
       "21163       21163  210189  Ye Olde Fighting Cocks   \n",
       "\n",
       "                                          address postcode  easting  northing  \\\n",
       "21163  Ye Olde Fighting Cocks, Promenade, Arnside  LA5 0HD   345723    478914   \n",
       "\n",
       "        latitude  longitude local_authority  population  \n",
       "21163  54.203076  -2.833569  South Lakeland      105088  "
      ]
     },
     "execution_count": 16,
     "metadata": {},
     "output_type": "execute_result"
    }
   ],
   "source": [
    "#Checking that it's in the data:\n",
    "pubs[pubs['name'] == 'Ye Olde Fighting Cocks']"
   ]
  },
  {
   "cell_type": "markdown",
   "id": "2ddb2756",
   "metadata": {},
   "source": [
    "## Smallest bar in the UK\n",
    "\n",
    "source:\n",
    "https://en.wikipedia.org/wiki/The_Nutshell\n",
    "\n",
    "It also had its place in the Guiness book of records, that's why we take this bar instead of another one\n"
   ]
  },
  {
   "cell_type": "code",
   "execution_count": 22,
   "id": "fc7cdb5b",
   "metadata": {},
   "outputs": [
    {
     "data": {
      "text/html": [
       "<div>\n",
       "<style scoped>\n",
       "    .dataframe tbody tr th:only-of-type {\n",
       "        vertical-align: middle;\n",
       "    }\n",
       "\n",
       "    .dataframe tbody tr th {\n",
       "        vertical-align: top;\n",
       "    }\n",
       "\n",
       "    .dataframe thead th {\n",
       "        text-align: right;\n",
       "    }\n",
       "</style>\n",
       "<table border=\"1\" class=\"dataframe\">\n",
       "  <thead>\n",
       "    <tr style=\"text-align: right;\">\n",
       "      <th></th>\n",
       "      <th>Unnamed: 0</th>\n",
       "      <th>fas_id</th>\n",
       "      <th>name</th>\n",
       "      <th>address</th>\n",
       "      <th>postcode</th>\n",
       "      <th>easting</th>\n",
       "      <th>northing</th>\n",
       "      <th>latitude</th>\n",
       "      <th>longitude</th>\n",
       "      <th>local_authority</th>\n",
       "      <th>population</th>\n",
       "    </tr>\n",
       "  </thead>\n",
       "  <tbody>\n",
       "  </tbody>\n",
       "</table>\n",
       "</div>"
      ],
      "text/plain": [
       "Empty DataFrame\n",
       "Columns: [Unnamed: 0, fas_id, name, address, postcode, easting, northing, latitude, longitude, local_authority, population]\n",
       "Index: []"
      ]
     },
     "execution_count": 22,
     "metadata": {},
     "output_type": "execute_result"
    }
   ],
   "source": [
    "#Checking that it's in the data:\n",
    "pubs[pubs['name'].apply(lambda x: x.lower()) == 'nutshell']"
   ]
  },
  {
   "cell_type": "markdown",
   "id": "8da281c2",
   "metadata": {},
   "source": [
    "As the bar is not in our dataset, we'll add a marker when we create the map"
   ]
  },
  {
   "cell_type": "markdown",
   "id": "74b9793c",
   "metadata": {},
   "source": [
    "## Biggest bar (in area)\n",
    "\n",
    "source:\n",
    "* https://www.expressandstar.com/news/uk-news/2020/07/03/uks-largest-pub-ready-for-reopening-as-lockdown-eases/\n",
    "* https://www.thesun.co.uk/travel/12206196/big-pubs-england-london-social-distance/\n"
   ]
  },
  {
   "cell_type": "code",
   "execution_count": 46,
   "id": "1d1873f1",
   "metadata": {},
   "outputs": [
    {
     "data": {
      "text/html": [
       "<div>\n",
       "<style scoped>\n",
       "    .dataframe tbody tr th:only-of-type {\n",
       "        vertical-align: middle;\n",
       "    }\n",
       "\n",
       "    .dataframe tbody tr th {\n",
       "        vertical-align: top;\n",
       "    }\n",
       "\n",
       "    .dataframe thead th {\n",
       "        text-align: right;\n",
       "    }\n",
       "</style>\n",
       "<table border=\"1\" class=\"dataframe\">\n",
       "  <thead>\n",
       "    <tr style=\"text-align: right;\">\n",
       "      <th></th>\n",
       "      <th>Unnamed: 0</th>\n",
       "      <th>fas_id</th>\n",
       "      <th>name</th>\n",
       "      <th>address</th>\n",
       "      <th>postcode</th>\n",
       "      <th>easting</th>\n",
       "      <th>northing</th>\n",
       "      <th>latitude</th>\n",
       "      <th>longitude</th>\n",
       "      <th>local_authority</th>\n",
       "      <th>population</th>\n",
       "    </tr>\n",
       "  </thead>\n",
       "  <tbody>\n",
       "  </tbody>\n",
       "</table>\n",
       "</div>"
      ],
      "text/plain": [
       "Empty DataFrame\n",
       "Columns: [Unnamed: 0, fas_id, name, address, postcode, easting, northing, latitude, longitude, local_authority, population]\n",
       "Index: []"
      ]
     },
     "execution_count": 46,
     "metadata": {},
     "output_type": "execute_result"
    }
   ],
   "source": [
    "pubs[pubs['name'].apply(lambda x: x.lower()) == 'royal victoria pavilion']"
   ]
  },
  {
   "cell_type": "markdown",
   "id": "5667e291",
   "metadata": {},
   "source": [
    "As the bar is not in our dataset, we'll add a marker when we create the map"
   ]
  },
  {
   "cell_type": "code",
   "execution_count": null,
   "id": "cea62154",
   "metadata": {},
   "outputs": [],
   "source": []
  }
 ],
 "metadata": {
  "kernelspec": {
   "display_name": "Python 3",
   "language": "python",
   "name": "python3"
  },
  "language_info": {
   "codemirror_mode": {
    "name": "ipython",
    "version": 3
   },
   "file_extension": ".py",
   "mimetype": "text/x-python",
   "name": "python",
   "nbconvert_exporter": "python",
   "pygments_lexer": "ipython3",
   "version": "3.7.6"
  }
 },
 "nbformat": 4,
 "nbformat_minor": 5
}
