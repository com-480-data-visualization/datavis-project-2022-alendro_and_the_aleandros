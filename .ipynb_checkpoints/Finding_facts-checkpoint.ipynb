{
 "cells": [
  {
   "cell_type": "code",
   "execution_count": 2,
   "id": "581c0909",
   "metadata": {},
   "outputs": [],
   "source": [
    "import numpy as np\n",
    "import pandas as pd\n",
    "import matplotlib.pyplot as plt\n",
    "from tqdm import tqdm"
   ]
  },
  {
   "cell_type": "code",
   "execution_count": 3,
   "id": "2527e4a5",
   "metadata": {},
   "outputs": [],
   "source": [
    "pubs = pd.read_csv('open_pubs.csv')\n",
    "\n",
    "pubs['latitude'] = pd.to_numeric(pubs['latitude'], errors = 'coerce')\n",
    "pubs['longitude'] = pd.to_numeric(pubs['longitude'], errors = 'coerce')"
   ]
  },
  {
   "cell_type": "code",
   "execution_count": 4,
   "id": "78f46765",
   "metadata": {},
   "outputs": [
    {
     "name": "stdout",
     "output_type": "stream",
     "text": [
      "Size of dataframe before dropping the nan elements: 51566\n"
     ]
    }
   ],
   "source": [
    "print(f\"Size of dataframe before dropping the nan elements: {len(pubs)}\")"
   ]
  },
  {
   "cell_type": "code",
   "execution_count": 5,
   "id": "609f8b69",
   "metadata": {},
   "outputs": [
    {
     "name": "stdout",
     "output_type": "stream",
     "text": [
      "Size of dataframe before dropping the nan elements: 51496\n"
     ]
    }
   ],
   "source": [
    "#Need to remove entries where there is a nan\n",
    "pubs = pubs.drop(pubs[pubs['longitude'].isna()].index)\n",
    "pubs = pubs.drop(pubs[pubs['latitude'].isna()].index)\n",
    "print(f\"Size of dataframe before dropping the nan elements: {len(pubs)}\")"
   ]
  },
  {
   "cell_type": "markdown",
   "id": "e4740bc2",
   "metadata": {},
   "source": [
    "Spicy facts to be found:\n",
    "* Furthest point away from any bar\n",
    "* Bar with the longest name\n",
    "* Bar with the shortest name\n",
    "* Oldest bar\n",
    "* Biggest bar (in term of area)\n",
    "* Smallest bar\n",
    "* Most expensive bar\n",
    "* Favorite Bar of the King (Harry or the other)\n",
    "* Most famous Bar where the Beatles played\n",
    "* ..."
   ]
  },
  {
   "cell_type": "markdown",
   "id": "5046e234",
   "metadata": {},
   "source": [
    "## Furthest point away from any bar\n",
    "\n",
    "We do a rough estimation where the furthest point from any bar is.\n",
    "\n",
    "As this is not trivial we do it like this:\n",
    "* Create a boundary area inside the land by looking at the longitude and latitude of england on a map\n",
    "* Sample random points inside the area\n",
    "* Find point at max distance from any bar\n",
    "* Create a new zone centered on this point\n",
    "* Resample points to find exact position\n",
    "\n",
    "We run this algorithm multiple time to see if we always get the same result"
   ]
  },
  {
   "cell_type": "code",
   "execution_count": 6,
   "id": "b755d27f",
   "metadata": {},
   "outputs": [],
   "source": [
    "x = pubs['longitude']\n",
    "y = pubs['latitude']"
   ]
  },
  {
   "cell_type": "code",
   "execution_count": 7,
   "id": "7ce55bd5",
   "metadata": {},
   "outputs": [],
   "source": [
    "boundaries = np.array([[49.83203679876408,-5.476829974804646],[50.688186362436454,0.23364177359399552],\n",
    "             [50.980571539420545,1.3485438701236152],[52.5261193398506,1.843451999231207],\n",
    "             [55.8252142574324,-1.9879785697314145], [54.96514398111719,-3.1986399011350675],\n",
    "             [54.51395378422479,-3.6902960286520847],[53.45321327221404,-3.216609938788122],\n",
    "             [53.335670494803956,-4.6616497153609116],[51.92051898068354,-5.315215222990277],\n",
    "             [51.3815596532386,-3.9541189551273126], [50.0110646266269,-6.0227448853203285],[49.83203679876408,-5.476829974804646]])"
   ]
  },
  {
   "cell_type": "code",
   "execution_count": 8,
   "id": "ed8ef90d",
   "metadata": {},
   "outputs": [
    {
     "data": {
      "text/plain": [
       "<matplotlib.collections.PathCollection at 0x29bf7dc3608>"
      ]
     },
     "execution_count": 8,
     "metadata": {},
     "output_type": "execute_result"
    },
    {
     "data": {
      "image/png": "[encoded data removed]",
      "text/plain": [
       "<Figure size 432x288 with 1 Axes>"
      ]
     },
     "metadata": {
      "needs_background": "light"
     },
     "output_type": "display_data"
    }
   ],
   "source": [
    "plt.plot(boundaries[:,1], boundaries[:,0], marker = 'x', c = 'orange')\n",
    "plt.scatter(x, y)"
   ]
  },
  {
   "cell_type": "code",
   "execution_count": 9,
   "id": "1694f8f0",
   "metadata": {},
   "outputs": [
    {
     "name": "stderr",
     "output_type": "stream",
     "text": [
      "C:\\ProgramData\\Anaconda3\\lib\\site-packages\\libpysal\\weights\\util.py:23: UserWarning: geopandas not available. Some functionality will be disabled.\n",
      "  warn(\"geopandas not available. Some functionality will be disabled.\")\n"
     ]
    }
   ],
   "source": [
    "from shapely.geometry import Polygon, Point\n",
    "import pointpats"
   ]
  },
  {
   "cell_type": "code",
   "execution_count": 10,
   "id": "0341129b",
   "metadata": {},
   "outputs": [],
   "source": [
    "bars_location = np.array(list(zip(x,y)))"
   ]
  },
  {
   "cell_type": "code",
   "execution_count": 51,
   "id": "6fb0c23d",
   "metadata": {},
   "outputs": [
    {
     "name": "stderr",
     "output_type": "stream",
     "text": [
      "5000it [00:06, 784.45it/s]\n"
     ]
    },
    {
     "name": "stdout",
     "output_type": "stream",
     "text": [
      "70.32419495628375\n",
      "2886\n"
     ]
    },
    {
     "name": "stderr",
     "output_type": "stream",
     "text": [
      "5000it [00:06, 801.21it/s]"
     ]
    },
    {
     "name": "stdout",
     "output_type": "stream",
     "text": [
      "76.24057275580093\n",
      "1042\n"
     ]
    },
    {
     "name": "stderr",
     "output_type": "stream",
     "text": [
      "\n"
     ]
    }
   ],
   "source": [
    "\n",
    "nb_random_points = 5000\n",
    "radius = [0.08, 0.001] #decreasing radius size to create second zone where we create points\n",
    "keep_point = []\n",
    "min_distances = []\n",
    "nb_runs = 1\n",
    "for i in range(nb_runs):\n",
    "    poly = Polygon(boundaries)\n",
    "    iteration = 0\n",
    "    while (iteration < 2):\n",
    "        points = pointpats.random.poisson(poly, size=nb_random_points) #Generates random points within the polygone\n",
    "        distances = np.zeros(len(points))\n",
    "        for i,random_point in tqdm(enumerate(points)):\n",
    "            distances[i] = np.min(np.linalg.norm(random_point -  bars_location, axis = 1))#computes min distance\n",
    "\n",
    "        furthest_point = points[np.argmax(distances)] #Finds the max min distance\n",
    "        "
   ]
  },
  {
   "cell_type": "code",
   "execution_count": 42,
   "id": "9848469c",
   "metadata": {},
   "outputs": [],
   "source": [
    "keep_point = np.array(keep_point)"
   ]
  },
  {
   "cell_type": "code",
   "execution_count": 43,
   "id": "9a981269",
   "metadata": {},
   "outputs": [
    {
     "data": {
      "text/plain": [
       "76.2581189883689"
      ]
     },
     "execution_count": 43,
     "metadata": {},
     "output_type": "execute_result"
    }
   ],
   "source": [
    "distances[np.argmin(distances)]"
   ]
  },
  {
   "cell_type": "code",
   "execution_count": 49,
   "id": "6a9333a6",
   "metadata": {},
   "outputs": [
    {
     "data": {
      "text/plain": [
       "46568"
      ]
     },
     "execution_count": 49,
     "metadata": {},
     "output_type": "execute_result"
    }
   ],
   "source": [
    "np.argmax(np.linalg.norm(keep_point - bars_location, axis = 1))"
   ]
  },
  {
   "cell_type": "code",
   "execution_count": 50,
   "id": "a48c60eb",
   "metadata": {},
   "outputs": [
    {
     "data": {
      "text/plain": [
       "<matplotlib.collections.PathCollection at 0x1a31b039e08>"
      ]
     },
     "execution_count": 50,
     "metadata": {},
     "output_type": "execute_result"
    },
    {
     "data": {
      "image/png": "[encoded data removed]",
      "text/plain": [
       "<Figure size 432x288 with 1 Axes>"
      ]
     },
     "metadata": {
      "needs_background": "light"
     },
     "output_type": "display_data"
    }
   ],
   "source": [
    "plt.plot(boundaries[:,1], boundaries[:,0], marker = 'x', c = 'orange')#\n",
    "#plt.scatter(x, y)\n",
    "plt.scatter(x = keep_point[:,1], y = keep_point[:,0], c='red')\n",
    "plt.scatter(x = x[46568], y = y[46568])"
   ]
  },
  {
   "cell_type": "code",
   "execution_count": 76,
   "id": "b3a8c038",
   "metadata": {},
   "outputs": [
    {
     "data": {
      "text/plain": [
       "[0.0, 0.0, 0.0, 0.0, 0.0, 0.0, 0.0, 0.0, 0.0, 0.0]"
      ]
     },
     "execution_count": 76,
     "metadata": {},
     "output_type": "execute_result"
    }
   ],
   "source": [
    "min_distances"
   ]
  },
  {
   "cell_type": "markdown",
   "id": "602570d0",
   "metadata": {},
   "source": [
    "## Bar furthest away from any bar "
   ]
  },
  {
   "cell_type": "code",
   "execution_count": 49,
   "id": "49fb1a13",
   "metadata": {},
   "outputs": [],
   "source": [
    "bars_location = np.array(list(zip(x,y)))"
   ]
  },
  {
   "cell_type": "code",
   "execution_count": 50,
   "id": "7639729c",
   "metadata": {},
   "outputs": [
    {
     "name": "stderr",
     "output_type": "stream",
     "text": [
      "100%|███████████████████████████████████████████████████████████████████████████| 51496/51496 [00:52<00:00, 983.22it/s]\n"
     ]
    }
   ],
   "source": [
    "distances = np.zeros(len(x))\n",
    "for i in tqdm(range(len(x))):\n",
    "    point = bars_location[i]\n",
    "    all_dist = np.linalg.norm(point - bars_location, axis = 1)\n",
    "    all_dist[i] = np.inf #Need to remove the point itself\n",
    "    distances[i] = all_dist[np.argmin(all_dist)]    \n"
   ]
  },
  {
   "cell_type": "code",
   "execution_count": 51,
   "id": "5beb4c4f",
   "metadata": {},
   "outputs": [],
   "source": [
    "furthest_pub_away = bars_location[distances.argmax()]"
   ]
  },
  {
   "cell_type": "code",
   "execution_count": 52,
   "id": "be2db544",
   "metadata": {},
   "outputs": [
    {
     "data": {
      "text/plain": [
       "<matplotlib.collections.PathCollection at 0x29b8163f548>"
      ]
     },
     "execution_count": 52,
     "metadata": {},
     "output_type": "execute_result"
    },
    {
     "data": {
      "image/png": "[encoded data removed]",
      "text/plain": [
       "<Figure size 432x288 with 1 Axes>"
      ]
     },
     "metadata": {
      "needs_background": "light"
     },
     "output_type": "display_data"
    }
   ],
   "source": [
    "plt.scatter(x, y)\n",
    "plt.scatter(x = furthest_pub_away[0], y = furthest_pub_away[1], color = 'red')"
   ]
  },
  {
   "cell_type": "code",
   "execution_count": 53,
   "id": "daaf12af",
   "metadata": {},
   "outputs": [
    {
     "data": {
      "text/plain": [
       "Unnamed: 0                                                   44678.0\n",
       "fas_id                                                      444208.0\n",
       "name                                                      MacGochans\n",
       "address            Macgochan's Restaurant Tobermory Isle Of Mull ...\n",
       "postcode                                                    PA75 6NR\n",
       "easting                                                     150432.0\n",
       "northing                                                    755063.0\n",
       "latitude                                                   56.620741\n",
       "longitude                                                  -6.069821\n",
       "local_authority                                      Argyll and Bute\n",
       "population                                                   86260.0\n",
       "Name: 44612, dtype: object"
      ]
     },
     "execution_count": 53,
     "metadata": {},
     "output_type": "execute_result"
    }
   ],
   "source": [
    "pubs.iloc[distances.argmax()]"
   ]
  },
  {
   "cell_type": "markdown",
   "id": "48cf4dc5",
   "metadata": {},
   "source": [
    "## Bar with shortest/longest name"
   ]
  },
  {
   "cell_type": "code",
   "execution_count": 11,
   "id": "5d5cc9aa",
   "metadata": {},
   "outputs": [],
   "source": [
    "ordered_names = np.argsort(pubs['name'].apply(lambda x: len(x)))\n",
    "shortest_name_indices = list(ordered_names[0:10])\n",
    "longest_name_indices = list(ordered_names[::-1][0:10])"
   ]
  },
  {
   "cell_type": "code",
   "execution_count": 12,
   "id": "8b21d960",
   "metadata": {},
   "outputs": [
    {
     "name": "stdout",
     "output_type": "stream",
     "text": [
      "Name: Feniscowles and Pleasington Sports And Social Club mail to other addr), length of name: 70, lat, long = (53.72325, -2.534871)\n",
      "Name: Love Your Greens Catering, King George Fields Indoor Bowls Club, length of name: 63, lat, long = (51.36996, -0.285478)\n",
      "Name: Holy Trinity Community and Partnership Centre, Community Hall, length of name: 61, lat, long = (53.070715, -0.817595)\n",
      "Name: Hammersmith Riverside Events @ Auriol Kensington Rowing Club, length of name: 60, lat, long = (51.489855, -0.231434)\n",
      "Name: Merthyr Vale & Aberfan Social Democratic Club & Institute Lt, length of name: 60, lat, long = (51.695897, -3.344356)\n",
      "Name: London Midland Railway Clubs Association (Walsall Branch) We, length of name: 60, lat, long = (52.57405, -1.993551)\n",
      "Name: Derbyshire Catering The Nailers - Belper Meadows Sports Club, length of name: 60, lat, long = (53.026261, -1.48573)\n",
      "Name: The Milk Bar Arts and Entertainment Appreciation Society CIC, length of name: 60, lat, long = (51.456546, -2.580442)\n",
      "Name: The Friendship Centre (Petworth And District Over 60's Club), length of name: 60, lat, long = (50.986875, -0.608837)\n",
      "Name: Cross Hands Beefeater Grill And Cheltenham West Premier Inn, length of name: 59, lat, long = (51.919025, -2.111763)\n"
     ]
    }
   ],
   "source": [
    "for row, content in pubs.iloc[longest_name_indices].iterrows():\n",
    "    print(f\"Name: {content['name']}, length of name: {len(content['name'])}, lat, long = {content['latitude'], content['longitude']}\")"
   ]
  },
  {
   "cell_type": "markdown",
   "id": "3557e557",
   "metadata": {},
   "source": [
    "First one with 70 letters seems to have a mistake, so we take the second one"
   ]
  },
  {
   "cell_type": "code",
   "execution_count": 15,
   "id": "8d24cb12",
   "metadata": {},
   "outputs": [
    {
     "name": "stdout",
     "output_type": "stream",
     "text": [
      "Name: v, length of name: 1, lat, long = (52.191353, 1.000189)\n",
      "Name: G6, length of name: 2, lat, long = (51.595438, -3.782497)\n",
      "Name: O2, length of name: 2, lat, long = (52.621929, -1.123824)\n",
      "Name: Ox, length of name: 2, lat, long = (50.72351, -1.954668)\n",
      "Name: C2, length of name: 2, lat, long = (53.237331, -1.424278)\n",
      "Name: HD, length of name: 2, lat, long = (53.473981, -2.243351)\n",
      "Name: 85, length of name: 2, lat, long = (56.203307, -3.207425)\n",
      "Name: XS, length of name: 2, lat, long = (54.852644, -1.573505)\n",
      "Name: 32, length of name: 2, lat, long = (55.996324, -3.88323)\n",
      "Name: 35, length of name: 2, lat, long = (56.00182, -3.885261)\n"
     ]
    }
   ],
   "source": [
    "for row, content in pubs.iloc[shortest_name_indices].iterrows():\n",
    "    print(f\"Name: {content['name']}, length of name: {len(content['name'])}, lat, long = {content['latitude'], content['longitude']}\")"
   ]
  },
  {
   "cell_type": "markdown",
   "id": "b38ded23",
   "metadata": {},
   "source": [
    "## Oldest bar in the UK\n",
    "This bar is in the Guiness book of records for being the oldest pub in the uk:\n",
    "\n",
    "source:\n",
    "* https://www.thedrinksbusiness.com/2017/10/the-15-oldest-pubs-in-the-uk-ranked-according-to-their-claims/\n",
    "* https://en.wikipedia.org/wiki/Ye_Olde_Fighting_Cocks\n",
    "\n",
    "Ye Olde Fighting Cocks was recognised as the oldest pub in the UK by the Guinness Book of World Records but the title was rested in 2000. We take this bar as it had at least once the title of oldest bar."
   ]
  },
  {
   "cell_type": "code",
   "execution_count": 16,
   "id": "8ea64463",
   "metadata": {},
   "outputs": [
    {
     "data": {
      "text/html": [
       "<div>\n",
       "<style scoped>\n",
       "    .dataframe tbody tr th:only-of-type {\n",
       "        vertical-align: middle;\n",
       "    }\n",
       "\n",
       "    .dataframe tbody tr th {\n",
       "        vertical-align: top;\n",
       "    }\n",
       "\n",
       "    .dataframe thead th {\n",
       "        text-align: right;\n",
       "    }\n",
       "</style>\n",
       "<table border=\"1\" class=\"dataframe\">\n",
       "  <thead>\n",
       "    <tr style=\"text-align: right;\">\n",
       "      <th></th>\n",
       "      <th>Unnamed: 0</th>\n",
       "      <th>fas_id</th>\n",
       "      <th>name</th>\n",
       "      <th>address</th>\n",
       "      <th>postcode</th>\n",
       "      <th>easting</th>\n",
       "      <th>northing</th>\n",
       "      <th>latitude</th>\n",
       "      <th>longitude</th>\n",
       "      <th>local_authority</th>\n",
       "      <th>population</th>\n",
       "    </tr>\n",
       "  </thead>\n",
       "  <tbody>\n",
       "    <tr>\n",
       "      <th>21163</th>\n",
       "      <td>21163</td>\n",
       "      <td>210189</td>\n",
       "      <td>Ye Olde Fighting Cocks</td>\n",
       "      <td>Ye Olde Fighting Cocks, Promenade, Arnside</td>\n",
       "      <td>LA5 0HD</td>\n",
       "      <td>345723</td>\n",
       "      <td>478914</td>\n",
       "      <td>54.203076</td>\n",
       "      <td>-2.833569</td>\n",
       "      <td>South Lakeland</td>\n",
       "      <td>105088</td>\n",
       "    </tr>\n",
       "  </tbody>\n",
       "</table>\n",
       "</div>"
      ],
      "text/plain": [
       "       Unnamed: 0  fas_id                    name  \\\n",
       "21163       21163  210189  Ye Olde Fighting Cocks   \n",
       "\n",
       "                                          address postcode  easting  northing  \\\n",
       "21163  Ye Olde Fighting Cocks, Promenade, Arnside  LA5 0HD   345723    478914   \n",
       "\n",
       "        latitude  longitude local_authority  population  \n",
       "21163  54.203076  -2.833569  South Lakeland      105088  "
      ]
     },
     "execution_count": 16,
     "metadata": {},
     "output_type": "execute_result"
    }
   ],
   "source": [
    "#Checking that it's in the data:\n",
    "pubs[pubs['name'] == 'Ye Olde Fighting Cocks']"
   ]
  },
  {
   "cell_type": "markdown",
   "id": "2dcd3c01",
   "metadata": {},
   "source": [
    "## Smallest bar in the UK\n",
    "\n",
    "source:\n",
    "https://en.wikipedia.org/wiki/The_Nutshell\n",
    "\n",
    "It also had its place in the Guiness book of records, that's why we take this bar instead of another one\n"
   ]
  },
  {
   "cell_type": "code",
   "execution_count": 22,
   "id": "664411a0",
   "metadata": {},
   "outputs": [
    {
     "data": {
      "text/html": [
       "<div>\n",
       "<style scoped>\n",
       "    .dataframe tbody tr th:only-of-type {\n",
       "        vertical-align: middle;\n",
       "    }\n",
       "\n",
       "    .dataframe tbody tr th {\n",
       "        vertical-align: top;\n",
       "    }\n",
       "\n",
       "    .dataframe thead th {\n",
       "        text-align: right;\n",
       "    }\n",
       "</style>\n",
       "<table border=\"1\" class=\"dataframe\">\n",
       "  <thead>\n",
       "    <tr style=\"text-align: right;\">\n",
       "      <th></th>\n",
       "      <th>Unnamed: 0</th>\n",
       "      <th>fas_id</th>\n",
       "      <th>name</th>\n",
       "      <th>address</th>\n",
       "      <th>postcode</th>\n",
       "      <th>easting</th>\n",
       "      <th>northing</th>\n",
       "      <th>latitude</th>\n",
       "      <th>longitude</th>\n",
       "      <th>local_authority</th>\n",
       "      <th>population</th>\n",
       "    </tr>\n",
       "  </thead>\n",
       "  <tbody>\n",
       "  </tbody>\n",
       "</table>\n",
       "</div>"
      ],
      "text/plain": [
       "Empty DataFrame\n",
       "Columns: [Unnamed: 0, fas_id, name, address, postcode, easting, northing, latitude, longitude, local_authority, population]\n",
       "Index: []"
      ]
     },
     "execution_count": 22,
     "metadata": {},
     "output_type": "execute_result"
    }
   ],
   "source": [
    "#Checking that it's in the data:\n",
    "pubs[pubs['name'].apply(lambda x: x.lower()) == 'nutshell']"
   ]
  },
  {
   "cell_type": "code",
   "execution_count": 24,
   "id": "6a4e4445",
   "metadata": {},
   "outputs": [],
   "source": [
    "#It wasn't in the dataset so we need to add it (we don't care about the other infos for this part):\n",
    "pubs = pubs.append({ \"name\": \"The Nutshell\", 'latitude': \"52.24484840036002\", 'longitude':\"0.7127516751586728\" }, ignore_index = True)"
   ]
  },
  {
   "cell_type": "code",
   "execution_count": 26,
   "id": "28a45ea8",
   "metadata": {},
   "outputs": [
    {
     "data": {
      "text/html": [
       "<div>\n",
       "<style scoped>\n",
       "    .dataframe tbody tr th:only-of-type {\n",
       "        vertical-align: middle;\n",
       "    }\n",
       "\n",
       "    .dataframe tbody tr th {\n",
       "        vertical-align: top;\n",
       "    }\n",
       "\n",
       "    .dataframe thead th {\n",
       "        text-align: right;\n",
       "    }\n",
       "</style>\n",
       "<table border=\"1\" class=\"dataframe\">\n",
       "  <thead>\n",
       "    <tr style=\"text-align: right;\">\n",
       "      <th></th>\n",
       "      <th>Unnamed: 0</th>\n",
       "      <th>fas_id</th>\n",
       "      <th>name</th>\n",
       "      <th>address</th>\n",
       "      <th>postcode</th>\n",
       "      <th>easting</th>\n",
       "      <th>northing</th>\n",
       "      <th>latitude</th>\n",
       "      <th>longitude</th>\n",
       "      <th>local_authority</th>\n",
       "      <th>population</th>\n",
       "    </tr>\n",
       "  </thead>\n",
       "  <tbody>\n",
       "    <tr>\n",
       "      <th>51496</th>\n",
       "      <td>NaN</td>\n",
       "      <td>NaN</td>\n",
       "      <td>The Nutshell</td>\n",
       "      <td>NaN</td>\n",
       "      <td>NaN</td>\n",
       "      <td>NaN</td>\n",
       "      <td>NaN</td>\n",
       "      <td>52.24484840036002</td>\n",
       "      <td>0.7127516751586728</td>\n",
       "      <td>NaN</td>\n",
       "      <td>NaN</td>\n",
       "    </tr>\n",
       "  </tbody>\n",
       "</table>\n",
       "</div>"
      ],
      "text/plain": [
       "       Unnamed: 0  fas_id          name address postcode  easting  northing  \\\n",
       "51496         NaN     NaN  The Nutshell     NaN      NaN      NaN       NaN   \n",
       "\n",
       "                latitude           longitude local_authority  population  \n",
       "51496  52.24484840036002  0.7127516751586728             NaN         NaN  "
      ]
     },
     "execution_count": 26,
     "metadata": {},
     "output_type": "execute_result"
    }
   ],
   "source": [
    "pubs[pubs['name'].apply(lambda x: x.lower()) == 'the nutshell']"
   ]
  },
  {
   "cell_type": "code",
   "execution_count": 28,
   "id": "8f1a097c",
   "metadata": {},
   "outputs": [],
   "source": [
    "#pubs.to_csv('open_pubs.csv')"
   ]
  },
  {
   "cell_type": "markdown",
   "id": "4c499c54",
   "metadata": {},
   "source": [
    "## Biggest bar (in area)\n",
    "\n",
    "source:\n",
    "https://www.expressandstar.com/news/uk-news/2020/07/03/uks-largest-pub-ready-for-reopening-as-lockdown-eases/\n"
   ]
  },
  {
   "cell_type": "code",
   "execution_count": 46,
   "id": "195b96a1",
   "metadata": {},
   "outputs": [
    {
     "data": {
      "text/html": [
       "<div>\n",
       "<style scoped>\n",
       "    .dataframe tbody tr th:only-of-type {\n",
       "        vertical-align: middle;\n",
       "    }\n",
       "\n",
       "    .dataframe tbody tr th {\n",
       "        vertical-align: top;\n",
       "    }\n",
       "\n",
       "    .dataframe thead th {\n",
       "        text-align: right;\n",
       "    }\n",
       "</style>\n",
       "<table border=\"1\" class=\"dataframe\">\n",
       "  <thead>\n",
       "    <tr style=\"text-align: right;\">\n",
       "      <th></th>\n",
       "      <th>Unnamed: 0</th>\n",
       "      <th>fas_id</th>\n",
       "      <th>name</th>\n",
       "      <th>address</th>\n",
       "      <th>postcode</th>\n",
       "      <th>easting</th>\n",
       "      <th>northing</th>\n",
       "      <th>latitude</th>\n",
       "      <th>longitude</th>\n",
       "      <th>local_authority</th>\n",
       "      <th>population</th>\n",
       "    </tr>\n",
       "  </thead>\n",
       "  <tbody>\n",
       "  </tbody>\n",
       "</table>\n",
       "</div>"
      ],
      "text/plain": [
       "Empty DataFrame\n",
       "Columns: [Unnamed: 0, fas_id, name, address, postcode, easting, northing, latitude, longitude, local_authority, population]\n",
       "Index: []"
      ]
     },
     "execution_count": 46,
     "metadata": {},
     "output_type": "execute_result"
    }
   ],
   "source": [
    "pubs[pubs['name'].apply(lambda x: x.lower()) == 'royal victoria pavilion']"
   ]
  },
  {
   "cell_type": "code",
   "execution_count": 47,
   "id": "805348f6",
   "metadata": {},
   "outputs": [],
   "source": [
    "#Need to add it as it wasnt' in the dataset\n",
    "#pubs = pubs.append({ \"name\": \"Royal Victoria Pavilion\", 'latitude': \"51.33198698833608\", 'longitude':\"1.4237457909186908\" }, ignore_index = True)"
   ]
  },
  {
   "cell_type": "code",
   "execution_count": 48,
   "id": "e744d315",
   "metadata": {},
   "outputs": [],
   "source": [
    "#pubs.to_csv('open_pubs.csv')"
   ]
  },
  {
   "cell_type": "markdown",
   "id": "5b1eeef2",
   "metadata": {},
   "source": [
    "## Other information found on the internet\n",
    "* Biggest bar (in terms of surface), link:\n",
    "* Smallest bar, link:\n",
    "* Bar with the most drinks\n",
    "* Bar with the most beers\n",
    "* Bar witht the biggest capacity?\n",
    "* Most concentration of bars? See how we can do that make (2d density map)\n",
    "* Bar furthest away from any other bar"
   ]
  },
  {
   "cell_type": "code",
   "execution_count": null,
   "id": "c2af01bd",
   "metadata": {},
   "outputs": [],
   "source": []
  }
 ],
 "metadata": {
  "kernelspec": {
   "display_name": "Python 3",
   "language": "python",
   "name": "python3"
  },
  "language_info": {
   "codemirror_mode": {
    "name": "ipython",
    "version": 3
   },
   "file_extension": ".py",
   "mimetype": "text/x-python",
   "name": "python",
   "nbconvert_exporter": "python",
   "pygments_lexer": "ipython3",
   "version": "3.7.6"
  }
 },
 "nbformat": 4,
 "nbformat_minor": 5
}
