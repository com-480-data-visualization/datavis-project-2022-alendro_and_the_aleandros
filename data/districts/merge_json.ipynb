{
 "cells": [
  {
   "cell_type": "code",
   "execution_count": 1,
   "metadata": {},
   "outputs": [],
   "source": [
    "import json"
   ]
  },
  {
   "cell_type": "code",
   "execution_count": 70,
   "metadata": {},
   "outputs": [],
   "source": [
    "UK_FILE_PATH = \"Local_Authority_Districts_(December_2009)_Boundaries.geojson\"\n",
    "f = open(UK_FILE_PATH)\n",
    "uk_json = json.load(f)"
   ]
  },
  {
   "cell_type": "code",
   "execution_count": 71,
   "metadata": {},
   "outputs": [
    {
     "data": {
      "text/plain": [
       "380"
      ]
     },
     "execution_count": 71,
     "metadata": {},
     "output_type": "execute_result"
    }
   ],
   "source": [
    "len(uk_json['features'])"
   ]
  },
  {
   "cell_type": "code",
   "execution_count": 72,
   "metadata": {},
   "outputs": [],
   "source": [
    "import csv\n",
    "reader = csv.reader(open('choropleth/pub_counts/pub_count_history.csv', 'r'))\n",
    "pub_counts = {}\n",
    "for row in reader:\n",
    "    if(row[0] != \"district\"):\n",
    "        pub_counts[row[0]] = {\n",
    "            'Y_2010':int(row[1]),\n",
    "            'Y_2011':int(row[2]),\n",
    "            'Y_2012':int(row[3]),\n",
    "            'Y_2013':int(row[4]),\n",
    "            'Y_2014':int(row[5]),\n",
    "            'Y_2015':int(row[6]),\n",
    "            'Y_2016':int(row[7]),\n",
    "            'Y_2017':int(row[8])\n",
    "        }"
   ]
  },
  {
   "cell_type": "code",
   "execution_count": null,
   "metadata": {},
   "outputs": [],
   "source": [
    "reader = csv.reader(open('choropleth/pub_counts/pub_count_history.csv', 'r'))\n",
    "pub_counts = {}\n",
    "for row in reader:\n",
    "    if(row[0] != \"district\"):\n",
    "        pub_counts[row[0]] = {\n",
    "            'Y_2010':int(row[1]),\n",
    "            'Y_2011':int(row[2]),\n",
    "            'Y_2012':int(row[3]),\n",
    "            'Y_2013':int(row[4]),\n",
    "            'Y_2014':int(row[5]),\n",
    "            'Y_2015':int(row[6]),\n",
    "            'Y_2016':int(row[7]),\n",
    "            'Y_2017':int(row[8])\n",
    "        }"
   ]
  },
  {
   "cell_type": "code",
   "execution_count": 73,
   "metadata": {},
   "outputs": [],
   "source": [
    "for dist in uk_json['features']:\n",
    "    dist['properties']['counts'] = pub_counts[dist['properties']['lad09nm']]"
   ]
  },
  {
   "cell_type": "code",
   "execution_count": 75,
   "metadata": {},
   "outputs": [],
   "source": [
    "with open('ukDistricts.json', 'w') as fp:\n",
    "    json.dump(uk_json, fp)"
   ]
  },
  {
   "cell_type": "code",
   "execution_count": 76,
   "metadata": {},
   "outputs": [
    {
     "data": {
      "text/plain": [
       "380"
      ]
     },
     "execution_count": 76,
     "metadata": {},
     "output_type": "execute_result"
    }
   ],
   "source": [
    "len(uk_json['features'])"
   ]
  },
  {
   "cell_type": "code",
   "execution_count": 15,
   "metadata": {
    "collapsed": true,
    "jupyter": {
     "outputs_hidden": true
    }
   },
   "outputs": [
    {
     "data": {
      "text/plain": [
       "{'type': 'Polygon',\n",
       " 'properties': {'LADNAME': 'Antrim and Newtownabbey',\n",
       "  'AREA': 903614.24375,\n",
       "  'LADCode': 'N09000001',\n",
       "  'OBJECTID': 1},\n",
       " 'id': 'N09000001',\n",
       " 'arcs': [[0,\n",
       "   1,\n",
       "   2,\n",
       "   3,\n",
       "   4,\n",
       "   5,\n",
       "   6,\n",
       "   7,\n",
       "   8,\n",
       "   9,\n",
       "   10,\n",
       "   11,\n",
       "   12,\n",
       "   13,\n",
       "   14,\n",
       "   15,\n",
       "   16,\n",
       "   17,\n",
       "   -18,\n",
       "   17,\n",
       "   18,\n",
       "   -19,\n",
       "   18,\n",
       "   19,\n",
       "   20,\n",
       "   -21,\n",
       "   20,\n",
       "   21,\n",
       "   22,\n",
       "   23,\n",
       "   24,\n",
       "   25,\n",
       "   26,\n",
       "   27,\n",
       "   28,\n",
       "   29,\n",
       "   30,\n",
       "   31,\n",
       "   32,\n",
       "   33,\n",
       "   34,\n",
       "   35,\n",
       "   36,\n",
       "   37,\n",
       "   38,\n",
       "   39,\n",
       "   40,\n",
       "   41,\n",
       "   42,\n",
       "   43,\n",
       "   44,\n",
       "   45,\n",
       "   46,\n",
       "   47,\n",
       "   48,\n",
       "   49,\n",
       "   50,\n",
       "   51,\n",
       "   52,\n",
       "   53,\n",
       "   54,\n",
       "   55,\n",
       "   56,\n",
       "   57,\n",
       "   58,\n",
       "   59,\n",
       "   60,\n",
       "   61,\n",
       "   62]]}"
      ]
     },
     "execution_count": 15,
     "metadata": {},
     "output_type": "execute_result"
    }
   ],
   "source": [
    "NI_FILE_PATH = \"choropleth/topo/ni_topo_lgd.json\"\n",
    "f = open(NI_FILE_PATH)\n",
    "ni_json = json.load(f)\n",
    "ni_json[\"objects\"]['lad']['geometries'][0]"
   ]
  },
  {
   "cell_type": "code",
   "execution_count": 21,
   "metadata": {
    "collapsed": true,
    "jupyter": {
     "outputs_hidden": true
    }
   },
   "outputs": [
    {
     "data": {
      "text/plain": [
       "{'type': 'MultiPolygon',\n",
       " 'properties': {'LAD13CD': 'S12000005',\n",
       "  'LAD13CDO': '00QF',\n",
       "  'LAD13NM': 'Clackmannanshire',\n",
       "  'LAD13NMW': None},\n",
       " 'id': 'S12000005',\n",
       " 'arcs': [[[0]], [[1]], [[2]], [[3]], [[4, 5, 6, 7, 8, 9]]]}"
      ]
     },
     "execution_count": 21,
     "metadata": {},
     "output_type": "execute_result"
    }
   ],
   "source": [
    "SCO_FILE_PATH = \"choropleth/topo/sco_topo_lad.json\"\n",
    "f = open(SCO_FILE_PATH)\n",
    "sco_json = json.load(f)\n",
    "sco_json[\"objects\"]['lad']['geometries'][0]"
   ]
  },
  {
   "cell_type": "code",
   "execution_count": 4,
   "metadata": {
    "collapsed": true,
    "jupyter": {
     "outputs_hidden": true
    }
   },
   "outputs": [
    {
     "data": {
      "text/plain": [
       "{'type': 'MultiPolygon',\n",
       " 'properties': {'LAD13CD': 'W06000001',\n",
       "  'LAD13CDO': '00NA',\n",
       "  'LAD13NM': 'Isle of Anglesey',\n",
       "  'LAD13NMW': 'Ynys Mon'},\n",
       " 'id': 'W06000001',\n",
       " 'arcs': [[[0]],\n",
       "  [[1]],\n",
       "  [[2]],\n",
       "  [[3]],\n",
       "  [[4]],\n",
       "  [[5]],\n",
       "  [[6]],\n",
       "  [[7]],\n",
       "  [[8]],\n",
       "  [[9]],\n",
       "  [[10]],\n",
       "  [[11]],\n",
       "  [[12]],\n",
       "  [[13]],\n",
       "  [[14]],\n",
       "  [[15]],\n",
       "  [[16]],\n",
       "  [[17]],\n",
       "  [[18]],\n",
       "  [[19]],\n",
       "  [[20]],\n",
       "  [[21]],\n",
       "  [[22]],\n",
       "  [[23]],\n",
       "  [[24]],\n",
       "  [[25]],\n",
       "  [[26, 27]],\n",
       "  [[28]],\n",
       "  [[29]]]}"
      ]
     },
     "execution_count": 4,
     "metadata": {},
     "output_type": "execute_result"
    }
   ],
   "source": [
    "WAL_FILE_PATH = \"choropleth/topo/wal_topo_lad.json\"\n",
    "f = open(WAL_FILE_PATH)\n",
    "wal_json = json.load(f)\n",
    "wal_json[\"objects\"]['lad']['geometries'][0]"
   ]
  },
  {
   "cell_type": "code",
   "execution_count": 17,
   "metadata": {},
   "outputs": [
    {
     "data": {
      "text/plain": [
       "{'type': 'Polygon',\n",
       " 'properties': {'LAD13CD': 'W06000024',\n",
       "  'LAD13CDO': '00PH',\n",
       "  'LAD13NM': 'Merthyr Tydfil',\n",
       "  'LAD13NMW': 'Merthyr Tudful'},\n",
       " 'id': 'W06000024',\n",
       " 'arcs': [[-197, -192, -214]]}"
      ]
     },
     "execution_count": 17,
     "metadata": {},
     "output_type": "execute_result"
    }
   ],
   "source": [
    "wal_json[\"objects\"]['lad']['geometries'][-1]"
   ]
  },
  {
   "cell_type": "code",
   "execution_count": 18,
   "metadata": {},
   "outputs": [
    {
     "data": {
      "text/plain": [
       "[[[4024, 8677], [-3, -4], [0, 1], [3, 3]],\n",
       " [[3852, 8796], [-4, -1], [1, 3], [3, -1], [0, -1]],\n",
       " [[4920, 8943], [-3, -1], [-1, 1], [1, 3], [3, -3]],\n",
       " [[4936, 8945], [-5, -2], [-4, 2], [2, 4], [5, -2], [2, -2]],\n",
       " [[4957, 8965], [0, -4], [-4, 2], [-1, -3], [1, -4], [-5, 6], [1, 4], [8, -1]],\n",
       " [[5008, 8993], [-1, -2], [0, 1], [1, 1]],\n",
       " [[5004, 8998],\n",
       "  [3, 1],\n",
       "  [0, 6],\n",
       "  [3, 2],\n",
       "  [0, -1],\n",
       "  [10, -1],\n",
       "  [0, -2],\n",
       "  [-2, -3],\n",
       "  [0, -2],\n",
       "  [-3, -6],\n",
       "  [-2, 7],\n",
       "  [-2, 0],\n",
       "  [-2, -3],\n",
       "  [-4, 0],\n",
       "  [1, 1],\n",
       "  [-2, 1]],\n",
       " [[5027, 9011], [-2, -2], [-3, 1], [5, 1]],\n",
       " [[5030, 9017], [-2, 0], [0, 1], [3, 1], [-1, -2]],\n",
       " [[3735, 9007], [-3, -7], [-1, 5], [4, 3], [0, -1]]]"
      ]
     },
     "execution_count": 18,
     "metadata": {},
     "output_type": "execute_result"
    }
   ],
   "source": [
    "wal_json['arcs'][:10]"
   ]
  },
  {
   "cell_type": "code",
   "execution_count": 5,
   "metadata": {},
   "outputs": [
    {
     "data": {
      "text/plain": [
       "22"
      ]
     },
     "execution_count": 5,
     "metadata": {},
     "output_type": "execute_result"
    }
   ],
   "source": [
    "len(wal_json[\"objects\"]['lad']['geometries'])"
   ]
  },
  {
   "cell_type": "code",
   "execution_count": 7,
   "metadata": {},
   "outputs": [
    {
     "data": {
      "text/plain": [
       "dict_keys(['type', 'objects', 'arcs', 'transform'])"
      ]
     },
     "execution_count": 7,
     "metadata": {},
     "output_type": "execute_result"
    }
   ],
   "source": [
    "wal_json.keys()"
   ]
  },
  {
   "cell_type": "code",
   "execution_count": 9,
   "metadata": {},
   "outputs": [
    {
     "data": {
      "text/plain": [
       "215"
      ]
     },
     "execution_count": 9,
     "metadata": {},
     "output_type": "execute_result"
    }
   ],
   "source": [
    "len(wal_json['arcs'])"
   ]
  },
  {
   "cell_type": "code",
   "execution_count": 11,
   "metadata": {},
   "outputs": [
    {
     "data": {
      "text/plain": [
       "2"
      ]
     },
     "execution_count": 11,
     "metadata": {},
     "output_type": "execute_result"
    }
   ],
   "source": [
    "len(wal_json[\"transform\"])"
   ]
  },
  {
   "cell_type": "code",
   "execution_count": 12,
   "metadata": {},
   "outputs": [
    {
     "data": {
      "text/plain": [
       "4331"
      ]
     },
     "execution_count": 12,
     "metadata": {},
     "output_type": "execute_result"
    }
   ],
   "source": [
    "len(sco_json['arcs'])"
   ]
  },
  {
   "cell_type": "code",
   "execution_count": 13,
   "metadata": {},
   "outputs": [
    {
     "data": {
      "text/plain": [
       "2"
      ]
     },
     "execution_count": 13,
     "metadata": {},
     "output_type": "execute_result"
    }
   ],
   "source": [
    "len(sco_json[\"transform\"])"
   ]
  },
  {
   "cell_type": "code",
   "execution_count": 20,
   "metadata": {},
   "outputs": [
    {
     "data": {
      "text/plain": [
       "{'scale': [0.0007926190368647676, 0.0006228146011868908],\n",
       " 'translate': [-8.650007225938275, 54.63323825108645]}"
      ]
     },
     "execution_count": 20,
     "metadata": {},
     "output_type": "execute_result"
    }
   ],
   "source": [
    "sco_json[\"transform\"]"
   ]
  },
  {
   "cell_type": "code",
   "execution_count": 19,
   "metadata": {},
   "outputs": [
    {
     "data": {
      "text/plain": [
       "{'scale': [0.0003020547579959456, 0.00020609297490818026],\n",
       " 'translate': [-5.670115678878638, 51.37496878322248]}"
      ]
     },
     "execution_count": 19,
     "metadata": {},
     "output_type": "execute_result"
    }
   ],
   "source": [
    "wal_json[\"transform\"]"
   ]
  },
  {
   "cell_type": "code",
   "execution_count": 17,
   "metadata": {},
   "outputs": [
    {
     "data": {
      "text/plain": [
       "{'type': 'MultiPolygon',\n",
       " 'properties': {'LAD13CD': 'E06000001',\n",
       "  'LAD13CDO': '00EB',\n",
       "  'LAD13NM': 'Hartlepool',\n",
       "  'LAD13NMW': None},\n",
       " 'id': 'E06000001',\n",
       " 'arcs': [[[0, 1]],\n",
       "  [[2, 3, 4, 5, 6, 7, 8, 9, 10, 11, 12, 13, 14, 15, 16, 17, 18]]]}"
      ]
     },
     "execution_count": 17,
     "metadata": {},
     "output_type": "execute_result"
    }
   ],
   "source": [
    "ENG_FILE_PATH = \"choropleth/topo/eng_topo_lad.json\"\n",
    "f = open(ENG_FILE_PATH)\n",
    "eng_json = json.load(f)\n",
    "eng_json[\"objects\"]['lad']['geometries'][0]"
   ]
  },
  {
   "cell_type": "code",
   "execution_count": 18,
   "metadata": {},
   "outputs": [],
   "source": [
    "wal_json.update(eng_json)"
   ]
  },
  {
   "cell_type": "code",
   "execution_count": 20,
   "metadata": {},
   "outputs": [
    {
     "data": {
      "text/plain": [
       "dict"
      ]
     },
     "execution_count": 20,
     "metadata": {},
     "output_type": "execute_result"
    }
   ],
   "source": [
    "type(wal_json)"
   ]
  },
  {
   "cell_type": "code",
   "execution_count": 21,
   "metadata": {},
   "outputs": [],
   "source": [
    "with open('choropleth/topo/gb_topo_lad.json', 'w') as fp:\n",
    "    json.dump(wal_json, fp)"
   ]
  },
  {
   "cell_type": "code",
   "execution_count": 26,
   "metadata": {},
   "outputs": [
    {
     "data": {
      "text/plain": [
       "326"
      ]
     },
     "execution_count": 26,
     "metadata": {},
     "output_type": "execute_result"
    }
   ],
   "source": [
    "len(wal_json[\"objects\"]['lad']['geometries'])"
   ]
  },
  {
   "cell_type": "code",
   "execution_count": 28,
   "metadata": {},
   "outputs": [
    {
     "data": {
      "text/plain": [
       "326"
      ]
     },
     "execution_count": 28,
     "metadata": {},
     "output_type": "execute_result"
    }
   ],
   "source": [
    "len(eng_json[\"objects\"]['lad']['geometries'])"
   ]
  },
  {
   "cell_type": "code",
   "execution_count": 22,
   "metadata": {
    "collapsed": true,
    "jupyter": {
     "outputs_hidden": true
    }
   },
   "outputs": [
    {
     "data": {
      "text/plain": [
       "{'type': 'GeometryCollection',\n",
       " 'crs': {'type': 'name',\n",
       "  'properties': {'name': 'urn:ogc:def:crs:OGC:1.3:CRS84'}},\n",
       " 'geometries': [{'type': 'MultiPolygon',\n",
       "   'properties': {'LAD13CD': 'W06000001',\n",
       "    'LAD13CDO': '00NA',\n",
       "    'LAD13NM': 'Isle of Anglesey',\n",
       "    'LAD13NMW': 'Ynys Mon'},\n",
       "   'id': 'W06000001',\n",
       "   'arcs': [[[0]],\n",
       "    [[1]],\n",
       "    [[2]],\n",
       "    [[3]],\n",
       "    [[4]],\n",
       "    [[5]],\n",
       "    [[6]],\n",
       "    [[7]],\n",
       "    [[8]],\n",
       "    [[9]],\n",
       "    [[10]],\n",
       "    [[11]],\n",
       "    [[12]],\n",
       "    [[13]],\n",
       "    [[14]],\n",
       "    [[15]],\n",
       "    [[16]],\n",
       "    [[17]],\n",
       "    [[18]],\n",
       "    [[19]],\n",
       "    [[20]],\n",
       "    [[21]],\n",
       "    [[22]],\n",
       "    [[23]],\n",
       "    [[24]],\n",
       "    [[25]],\n",
       "    [[26, 27]],\n",
       "    [[28]],\n",
       "    [[29]]]},\n",
       "  {'type': 'MultiPolygon',\n",
       "   'properties': {'LAD13CD': 'W06000002',\n",
       "    'LAD13CDO': '00NC',\n",
       "    'LAD13NM': 'Gwynedd',\n",
       "    'LAD13NMW': 'Gwynedd'},\n",
       "   'id': 'W06000002',\n",
       "   'arcs': [[[30]],\n",
       "    [[31]],\n",
       "    [[32]],\n",
       "    [[33]],\n",
       "    [[34]],\n",
       "    [[35]],\n",
       "    [[36]],\n",
       "    [[37]],\n",
       "    [[38]],\n",
       "    [[39]],\n",
       "    [[40]],\n",
       "    [[41]],\n",
       "    [[42]],\n",
       "    [[43, 44, 45, 46, 47]]]},\n",
       "  {'type': 'Polygon',\n",
       "   'properties': {'LAD13CD': 'W06000003',\n",
       "    'LAD13CDO': '00NE',\n",
       "    'LAD13NM': 'Conwy',\n",
       "    'LAD13NMW': 'Conwy'},\n",
       "   'id': 'W06000003',\n",
       "   'arcs': [[48, -48, 49]]},\n",
       "  {'type': 'MultiPolygon',\n",
       "   'properties': {'LAD13CD': 'W06000004',\n",
       "    'LAD13CDO': '00NG',\n",
       "    'LAD13NM': 'Denbighshire',\n",
       "    'LAD13NMW': 'Sir Ddinbych'},\n",
       "   'id': 'W06000004',\n",
       "   'arcs': [[[50]], [[51, 52, -44, -49, 53, 54, 55]]]},\n",
       "  {'type': 'MultiPolygon',\n",
       "   'properties': {'LAD13CD': 'W06000005',\n",
       "    'LAD13CDO': '00NJ',\n",
       "    'LAD13NM': 'Flintshire',\n",
       "    'LAD13NMW': 'Sir y Fflint'},\n",
       "   'id': 'W06000005',\n",
       "   'arcs': [[[56]],\n",
       "    [[57]],\n",
       "    [[58]],\n",
       "    [[59]],\n",
       "    [[60, 61]],\n",
       "    [[62]],\n",
       "    [[63, -56, 64]]]},\n",
       "  {'type': 'Polygon',\n",
       "   'properties': {'LAD13CD': 'W06000006',\n",
       "    'LAD13CDO': '00NL',\n",
       "    'LAD13NM': 'Wrexham',\n",
       "    'LAD13NMW': 'Wrecsam'},\n",
       "   'id': 'W06000006',\n",
       "   'arcs': [[65, -52, -64, 66]]},\n",
       "  {'type': 'MultiPolygon',\n",
       "   'properties': {'LAD13CD': 'W06000008',\n",
       "    'LAD13CDO': '00NQ',\n",
       "    'LAD13NM': 'Ceredigion',\n",
       "    'LAD13NMW': 'Ceredigion'},\n",
       "   'id': 'W06000008',\n",
       "   'arcs': [[[67, 68]], [[69, 70]], [[71]], [[72]], [[73, 74, 75, 76]]]},\n",
       "  {'type': 'MultiPolygon',\n",
       "   'properties': {'LAD13CD': 'W06000009',\n",
       "    'LAD13CDO': '00NS',\n",
       "    'LAD13NM': 'Pembrokeshire',\n",
       "    'LAD13NMW': 'Sir Benfro'},\n",
       "   'id': 'W06000009',\n",
       "   'arcs': [[[77]],\n",
       "    [[78]],\n",
       "    [[79]],\n",
       "    [[80]],\n",
       "    [[81]],\n",
       "    [[82]],\n",
       "    [[83]],\n",
       "    [[84]],\n",
       "    [[85]],\n",
       "    [[86]],\n",
       "    [[87]],\n",
       "    [[88]],\n",
       "    [[89]],\n",
       "    [[90]],\n",
       "    [[91]],\n",
       "    [[92]],\n",
       "    [[93]],\n",
       "    [[94]],\n",
       "    [[95]],\n",
       "    [[96]],\n",
       "    [[97]],\n",
       "    [[98]],\n",
       "    [[99]],\n",
       "    [[100]],\n",
       "    [[101]],\n",
       "    [[102]],\n",
       "    [[103]],\n",
       "    [[104]],\n",
       "    [[105]],\n",
       "    [[106]],\n",
       "    [[107]],\n",
       "    [[108]],\n",
       "    [[109]],\n",
       "    [[110]],\n",
       "    [[111]],\n",
       "    [[112]],\n",
       "    [[113]],\n",
       "    [[114]],\n",
       "    [[115]],\n",
       "    [[116]],\n",
       "    [[117]],\n",
       "    [[118]],\n",
       "    [[119]],\n",
       "    [[120]],\n",
       "    [[121]],\n",
       "    [[122]],\n",
       "    [[123]],\n",
       "    [[124]],\n",
       "    [[125]],\n",
       "    [[126]],\n",
       "    [[-70, 127, -68, 128, -75, 129, 130, 131]]]},\n",
       "  {'type': 'MultiPolygon',\n",
       "   'properties': {'LAD13CD': 'W06000010',\n",
       "    'LAD13CDO': '00NU',\n",
       "    'LAD13NM': 'Carmarthenshire',\n",
       "    'LAD13NMW': 'Sir Gaerfyrddin'},\n",
       "   'id': 'W06000010',\n",
       "   'arcs': [[[132]],\n",
       "    [[133, 134]],\n",
       "    [[135]],\n",
       "    [[136]],\n",
       "    [[137, 138]],\n",
       "    [[139]],\n",
       "    [[140, 141, 142, 143, -138, 144, 145, 146, 147, -130, -74]]]},\n",
       "  {'type': 'MultiPolygon',\n",
       "   'properties': {'LAD13CD': 'W06000011',\n",
       "    'LAD13CDO': '00NX',\n",
       "    'LAD13NM': 'Swansea',\n",
       "    'LAD13NMW': 'Abertawe'},\n",
       "   'id': 'W06000011',\n",
       "   'arcs': [[[148]],\n",
       "    [[149]],\n",
       "    [[150]],\n",
       "    [[151]],\n",
       "    [[152]],\n",
       "    [[153]],\n",
       "    [[154]],\n",
       "    [[155]],\n",
       "    [[156]],\n",
       "    [[157]],\n",
       "    [[158]],\n",
       "    [[159]],\n",
       "    [[160]],\n",
       "    [[161]],\n",
       "    [[162]],\n",
       "    [[163]],\n",
       "    [[164]],\n",
       "    [[165]],\n",
       "    [[166]],\n",
       "    [[167]],\n",
       "    [[168, 169, 170, 171, -143]]]},\n",
       "  {'type': 'MultiPolygon',\n",
       "   'properties': {'LAD13CD': 'W06000012',\n",
       "    'LAD13CDO': '00NZ',\n",
       "    'LAD13NM': 'Neath Port Talbot',\n",
       "    'LAD13NMW': 'Castell-nedd Port Talbot'},\n",
       "   'id': 'W06000012',\n",
       "   'arcs': [[[172, 173]], [[174, 175, 176, 177, -169, -142]]]},\n",
       "  {'type': 'Polygon',\n",
       "   'properties': {'LAD13CD': 'W06000013',\n",
       "    'LAD13CDO': '00PB',\n",
       "    'LAD13NM': 'Bridgend',\n",
       "    'LAD13NMW': 'Pen-y-bont ar Ogwr'},\n",
       "   'id': 'W06000013',\n",
       "   'arcs': [[178, 179, 180, -173, 181, -177]]},\n",
       "  {'type': 'MultiPolygon',\n",
       "   'properties': {'LAD13CD': 'W06000014',\n",
       "    'LAD13CDO': '00PD',\n",
       "    'LAD13NM': 'Vale of Glamorgan',\n",
       "    'LAD13NMW': 'Bro Morgannwg'},\n",
       "   'id': 'W06000014',\n",
       "   'arcs': [[[182]], [[183, 184, -180, 185]]]},\n",
       "  {'type': 'MultiPolygon',\n",
       "   'properties': {'LAD13CD': 'W06000015',\n",
       "    'LAD13CDO': '00PT',\n",
       "    'LAD13NM': 'Cardiff',\n",
       "    'LAD13NMW': 'Caerdydd'},\n",
       "   'id': 'W06000015',\n",
       "   'arcs': [[[186]], [[187, 188, -184, 189, 190]]]},\n",
       "  {'type': 'Polygon',\n",
       "   'properties': {'LAD13CD': 'W06000016',\n",
       "    'LAD13CDO': '00PF',\n",
       "    'LAD13NM': 'Rhondda Cynon Taf',\n",
       "    'LAD13NMW': 'Rhondda Cynon Taf'},\n",
       "   'id': 'W06000016',\n",
       "   'arcs': [[191, 192, -190, -186, -179, -176, 193]]},\n",
       "  {'type': 'Polygon',\n",
       "   'properties': {'LAD13CD': 'W06000018',\n",
       "    'LAD13CDO': '00PK',\n",
       "    'LAD13NM': 'Caerphilly',\n",
       "    'LAD13NMW': 'Caerffili'},\n",
       "   'id': 'W06000018',\n",
       "   'arcs': [[194, 195, -191, -193, 196, 197, 198]]},\n",
       "  {'type': 'Polygon',\n",
       "   'properties': {'LAD13CD': 'W06000019',\n",
       "    'LAD13CDO': '00PL',\n",
       "    'LAD13NM': 'Blaenau Gwent',\n",
       "    'LAD13NMW': 'Blaenau Gwent'},\n",
       "   'id': 'W06000019',\n",
       "   'arcs': [[199, 200, -199, 201]]},\n",
       "  {'type': 'Polygon',\n",
       "   'properties': {'LAD13CD': 'W06000020',\n",
       "    'LAD13CDO': '00PM',\n",
       "    'LAD13NM': 'Torfaen',\n",
       "    'LAD13NMW': 'Torfaen'},\n",
       "   'id': 'W06000020',\n",
       "   'arcs': [[202, -195, -201, 203]]},\n",
       "  {'type': 'MultiPolygon',\n",
       "   'properties': {'LAD13CD': 'W06000021',\n",
       "    'LAD13CDO': '00PP',\n",
       "    'LAD13NM': 'Monmouthshire',\n",
       "    'LAD13NMW': 'Sir Fynwy'},\n",
       "   'id': 'W06000021',\n",
       "   'arcs': [[[204]], [[205, 206, 207, -204, -200, 208, 209]]]},\n",
       "  {'type': 'MultiPolygon',\n",
       "   'properties': {'LAD13CD': 'W06000022',\n",
       "    'LAD13CDO': '00PR',\n",
       "    'LAD13NM': 'Newport',\n",
       "    'LAD13NMW': 'Casnewydd'},\n",
       "   'id': 'W06000022',\n",
       "   'arcs': [[[210, -188, -196, -203, -208]], [[211, -206]]]},\n",
       "  {'type': 'Polygon',\n",
       "   'properties': {'LAD13CD': 'W06000023',\n",
       "    'LAD13CDO': '00NN',\n",
       "    'LAD13NM': 'Powys',\n",
       "    'LAD13NMW': 'Powys'},\n",
       "   'id': 'W06000023',\n",
       "   'arcs': [[212,\n",
       "     -209,\n",
       "     -202,\n",
       "     -198,\n",
       "     213,\n",
       "     -194,\n",
       "     -175,\n",
       "     -141,\n",
       "     -77,\n",
       "     214,\n",
       "     -45,\n",
       "     -53,\n",
       "     -66]]},\n",
       "  {'type': 'Polygon',\n",
       "   'properties': {'LAD13CD': 'W06000024',\n",
       "    'LAD13CDO': '00PH',\n",
       "    'LAD13NM': 'Merthyr Tydfil',\n",
       "    'LAD13NMW': 'Merthyr Tudful'},\n",
       "   'id': 'W06000024',\n",
       "   'arcs': [[-197, -192, -214]]}]}"
      ]
     },
     "execution_count": 22,
     "metadata": {},
     "output_type": "execute_result"
    }
   ],
   "source": [
    "wal_json[\"objects\"]['lad']\n"
   ]
  },
  {
   "cell_type": "code",
   "execution_count": 69,
   "metadata": {},
   "outputs": [
    {
     "data": {
      "text/plain": [
       "dict_keys(['type', 'arcs', 'transform', 'objects'])"
      ]
     },
     "execution_count": 69,
     "metadata": {},
     "output_type": "execute_result"
    }
   ],
   "source": [
    "UK_FILE_PATH = \"choropleth/topo/uk_topo_multi_lad.json\"\n",
    "f = open(UK_FILE_PATH)\n",
    "uk_json = json.load(f)\n",
    "uk_json.keys()"
   ]
  },
  {
   "cell_type": "code",
   "execution_count": 41,
   "metadata": {},
   "outputs": [
    {
     "data": {
      "text/plain": [
       "dict_keys(['type', 'arcs', 'transform', 'objects'])"
      ]
     },
     "execution_count": 41,
     "metadata": {},
     "output_type": "execute_result"
    }
   ],
   "source": [
    "uk_json.keys()"
   ]
  },
  {
   "cell_type": "code",
   "execution_count": 42,
   "metadata": {},
   "outputs": [],
   "source": [
    "uk_single = uk_json.copy()"
   ]
  },
  {
   "cell_type": "code",
   "execution_count": 54,
   "metadata": {},
   "outputs": [
    {
     "data": {
      "text/plain": [
       "391"
      ]
     },
     "execution_count": 54,
     "metadata": {},
     "output_type": "execute_result"
    }
   ],
   "source": [
    "len(uk_single['objects']['lad1']['geometries'])"
   ]
  },
  {
   "cell_type": "code",
   "execution_count": 62,
   "metadata": {},
   "outputs": [
    {
     "data": {
      "text/plain": [
       "dict_keys(['lad'])"
      ]
     },
     "execution_count": 62,
     "metadata": {},
     "output_type": "execute_result"
    }
   ],
   "source": [
    "uk_single['objects'].keys()"
   ]
  },
  {
   "cell_type": "code",
   "execution_count": 61,
   "metadata": {},
   "outputs": [],
   "source": [
    "uk_single['objects']['lad'] = uk_single['objects'].pop('lad1')"
   ]
  },
  {
   "cell_type": "code",
   "execution_count": 63,
   "metadata": {},
   "outputs": [],
   "source": [
    "with open('choropleth/topo/uk_topo_single_lad.json', 'w') as fp:\n",
    "    json.dump(uk_single, fp)"
   ]
  },
  {
   "cell_type": "code",
   "execution_count": 64,
   "metadata": {},
   "outputs": [
    {
     "ename": "KeyError",
     "evalue": "'lad1'",
     "output_type": "error",
     "traceback": [
      "\u001b[0;31m---------------------------------------------------------------------------\u001b[0m",
      "\u001b[0;31mKeyError\u001b[0m                                  Traceback (most recent call last)",
      "\u001b[0;32m<ipython-input-64-d5a567d07e1c>\u001b[0m in \u001b[0;36m<module>\u001b[0;34m\u001b[0m\n\u001b[0;32m----> 1\u001b[0;31m \u001b[0muk_json\u001b[0m\u001b[0;34m[\u001b[0m\u001b[0;34m'objects'\u001b[0m\u001b[0;34m]\u001b[0m\u001b[0;34m[\u001b[0m\u001b[0;34m'lad1'\u001b[0m\u001b[0;34m]\u001b[0m\u001b[0;34m[\u001b[0m\u001b[0;34m'geometries'\u001b[0m\u001b[0;34m]\u001b[0m\u001b[0;34m\u001b[0m\u001b[0;34m\u001b[0m\u001b[0m\n\u001b[0m",
      "\u001b[0;31mKeyError\u001b[0m: 'lad1'"
     ]
    }
   ],
   "source": [
    "uk_json['objects']['lad1']['geometries']"
   ]
  },
  {
   "cell_type": "code",
   "execution_count": 76,
   "metadata": {},
   "outputs": [
    {
     "data": {
      "text/plain": [
       "{'LADNAME': 'Antrim and Newtownabbey',\n",
       " 'AREA': 903614.24375,\n",
       " 'LADCode': 'N09000001',\n",
       " 'OBJECTID': 1}"
      ]
     },
     "execution_count": 76,
     "metadata": {},
     "output_type": "execute_result"
    }
   ],
   "source": [
    "uk_json['objects']['lad4']['geometries'][0]['properties']"
   ]
  },
  {
   "cell_type": "code",
   "execution_count": 80,
   "metadata": {},
   "outputs": [],
   "source": [
    "for geom in uk_json['objects']['lad4']['geometries']:\n",
    "    geom['properties']['LAD13NM'] = geom['properties'].pop('LADNAME')"
   ]
  },
  {
   "cell_type": "code",
   "execution_count": 87,
   "metadata": {},
   "outputs": [],
   "source": [
    "uk_json['objects']['lad1']['geometries'].extend(uk_json['objects']['lad4']['geometries'])"
   ]
  },
  {
   "cell_type": "code",
   "execution_count": 88,
   "metadata": {},
   "outputs": [],
   "source": [
    "uk_json['objects']['lad'] = uk_json['objects'].pop('lad1')"
   ]
  },
  {
   "cell_type": "code",
   "execution_count": 90,
   "metadata": {},
   "outputs": [
    {
     "data": {
      "text/plain": [
       "391"
      ]
     },
     "execution_count": 90,
     "metadata": {},
     "output_type": "execute_result"
    }
   ],
   "source": [
    "len(uk_json['objects']['lad']['geometries'])"
   ]
  },
  {
   "cell_type": "code",
   "execution_count": 91,
   "metadata": {},
   "outputs": [],
   "source": [
    "with open('choropleth/topo/uk_topo_single_lad.json', 'w') as fp:\n",
    "    json.dump(uk_json, fp)"
   ]
  },
  {
   "cell_type": "code",
   "execution_count": null,
   "metadata": {},
   "outputs": [],
   "source": []
  }
 ],
 "metadata": {
  "kernelspec": {
   "display_name": "Python 3.7.4 64-bit ('base': conda)",
   "language": "python",
   "name": "python37464bitbaseconda17a9cb9f13a8479e898df4c200bb5d80"
  },
  "language_info": {
   "codemirror_mode": {
    "name": "ipython",
    "version": 3
   },
   "file_extension": ".py",
   "mimetype": "text/x-python",
   "name": "python",
   "nbconvert_exporter": "python",
   "pygments_lexer": "ipython3",
   "version": "3.7.4"
  }
 },
 "nbformat": 4,
 "nbformat_minor": 4
}
